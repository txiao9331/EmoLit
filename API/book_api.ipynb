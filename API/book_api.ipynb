{
 "cells": [
  {
   "cell_type": "markdown",
   "metadata": {},
   "source": [
    "1. Potential resource:\n",
    "-- games\n",
    "-- developers\n",
    "-- genres\n",
    "-- tags\n",
    "-- reviews\n",
    "-- achievements\n",
    "-- platforms\n",
    "\n",
    "2. Potential endpoints:\n",
    "-- /books\n",
    "-- /books/<title_id>\n",
    "-- /awardslist\n",
    "-- /awardslist/<year>\n",
    "-- reviews/<title_id>\n",
    "-- awards/<award_id>\n",
    "\n",
    "1. Structure:\n",
    "-- books\n",
    "    - title_id\n",
    "    - title\n",
    "    - author\n",
    "    - genres\n",
    "    - publish_date\n",
    "    - pages\n",
    "    - format\n",
    "    - rating\n",
    "    - votes\n",
    "    - award\n",
    "    - description\n"
   ]
  }
 ],
 "metadata": {
  "language_info": {
   "name": "python"
  }
 },
 "nbformat": 4,
 "nbformat_minor": 2
}
