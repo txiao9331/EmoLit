{
 "cells": [
  {
   "cell_type": "markdown",
   "metadata": {},
   "source": [
    "# Goodreads web scraping"
   ]
  },
  {
   "cell_type": "code",
   "execution_count": 94,
   "metadata": {},
   "outputs": [],
   "source": [
    "from bs4 import BeautifulSoup as bs\n",
    "import requests\n",
    "import urllib.request\n",
    "import json\n",
    "import Goodreads_functions as gr"
   ]
  },
  {
   "cell_type": "markdown",
   "metadata": {},
   "source": [
    "## get book urls"
   ]
  },
  {
   "cell_type": "markdown",
   "metadata": {},
   "source": [
    "get the url and number of voting for each book"
   ]
  },
  {
   "cell_type": "code",
   "execution_count": 27,
   "metadata": {},
   "outputs": [],
   "source": [
    "def get_award_urls(url):\n",
    "    urls=[]\n",
    "    try:\n",
    "        open_url = urllib.request.urlopen(url)\n",
    "        soup = bs(open_url, 'html.parser')\n",
    "        award_elements = soup.find_all('div', class_='category clearFix')\n",
    "\n",
    "        # Extract URLs from award elements\n",
    "        for element in award_elements:\n",
    "            link = element.find('a', href=True)\n",
    "            if link:\n",
    "                urls.append('https://goodreads.com' + link['href'])\n",
    "\n",
    "    except urllib.error.HTTPError as e:\n",
    "        print(f\"HTTP Error: {e}\")\n",
    "    except Exception as e:\n",
    "        print(f\"An error occurred: {e}\")\n",
    "\n",
    "    return urls\n",
    "    "
   ]
  },
  {
   "cell_type": "code",
   "execution_count": 28,
   "metadata": {},
   "outputs": [],
   "source": [
    "url23='https://www.goodreads.com/choiceawards/best-books-2023'\n",
    "urls2023 = get_award_urls(url23)"
   ]
  },
  {
   "cell_type": "code",
   "execution_count": 29,
   "metadata": {},
   "outputs": [
    {
     "data": {
      "text/plain": [
       "['https://goodreads.com/choiceawards/best-fiction-books-2023',\n",
       " 'https://goodreads.com/choiceawards/best-historical-fiction-books-2023',\n",
       " 'https://goodreads.com/choiceawards/best-mystery-thriller-books-2023',\n",
       " 'https://goodreads.com/choiceawards/best-romance-books-2023',\n",
       " 'https://goodreads.com/choiceawards/best-romantasy-books-2023',\n",
       " 'https://goodreads.com/choiceawards/best-fantasy-books-2023',\n",
       " 'https://goodreads.com/choiceawards/best-science-fiction-books-2023',\n",
       " 'https://goodreads.com/choiceawards/best-horror-books-2023',\n",
       " 'https://goodreads.com/choiceawards/best-young-adult-fantasy-books-2023',\n",
       " 'https://goodreads.com/choiceawards/best-young-adult-fiction-books-2023',\n",
       " 'https://goodreads.com/choiceawards/best-debut-novel-2023',\n",
       " 'https://goodreads.com/choiceawards/best-nonfiction-books-2023',\n",
       " 'https://goodreads.com/choiceawards/best-memoir-autobiography-books-2023',\n",
       " 'https://goodreads.com/choiceawards/best-history-biography-books-2023',\n",
       " 'https://goodreads.com/choiceawards/best-humor-books-2023']"
      ]
     },
     "execution_count": 29,
     "metadata": {},
     "output_type": "execute_result"
    }
   ],
   "source": [
    "urls2023"
   ]
  },
  {
   "cell_type": "code",
   "execution_count": 30,
   "metadata": {},
   "outputs": [],
   "source": [
    "def get_book_urls(url):\n",
    "    urls = []\n",
    "\n",
    "    try:\n",
    "        open_url = urllib.request.urlopen(url)\n",
    "        soup = bs(open_url, 'html.parser')\n",
    "        book_links = soup.find_all('a', class_='pollAnswer__bookLink')\n",
    "\n",
    "        # Extract URLs from book links\n",
    "        for link in book_links:\n",
    "            urls.append('https://goodreads.com' + link['href'])\n",
    "\n",
    "    except urllib.error.HTTPError as e:\n",
    "        print(f\"HTTP Error: {e}\")\n",
    "    except Exception as e:\n",
    "        print(f\"An error occurred: {e}\")\n",
    "\n",
    "    return urls\n",
    "\n",
    "def get_book_urls_for_list(list_of_urls):\n",
    "    all_urls = []\n",
    "    for url in list_of_urls:\n",
    "        urls = get_book_urls(url)\n",
    "        all_urls.extend(urls)\n",
    "    return all_urls"
   ]
  },
  {
   "cell_type": "code",
   "execution_count": 31,
   "metadata": {},
   "outputs": [],
   "source": [
    "\n",
    "book_urls_2023 = get_book_urls_for_list(urls2023)\n"
   ]
  },
  {
   "cell_type": "code",
   "execution_count": 32,
   "metadata": {},
   "outputs": [
    {
     "data": {
      "text/plain": [
       "['https://goodreads.com/book/show/62047984-yellowface?from_choice=true',\n",
       " 'https://goodreads.com/book/show/61771675-hello-beautiful?from_choice=true',\n",
       " 'https://goodreads.com/book/show/62926992-the-wishing-game?from_choice=true',\n",
       " 'https://goodreads.com/book/show/63241104-tom-lake?from_choice=true',\n",
       " 'https://goodreads.com/book/show/62873996-the-five-star-weekend?from_choice=true',\n",
       " 'https://goodreads.com/book/show/62971668-someone-else-s-shoes?from_choice=true',\n",
       " 'https://goodreads.com/book/show/62919793-the-invisible-hour?from_choice=true',\n",
       " 'https://goodreads.com/book/show/60784605-maame?from_choice=true',\n",
       " 'https://goodreads.com/book/show/61214136-the-collected-regrets-of-clover?from_choice=true',\n",
       " 'https://goodreads.com/book/show/61246258-pineapple-street?from_choice=true',\n",
       " 'https://goodreads.com/book/show/60701439-big-swiss?from_choice=true',\n",
       " 'https://goodreads.com/book/show/62919375-shark-heart?from_choice=true',\n",
       " 'https://goodreads.com/book/show/59381516-evil-eye?from_choice=true',\n",
       " 'https://goodreads.com/book/show/62049729-the-celebrants?from_choice=true',\n",
       " 'https://goodreads.com/book/show/60784757-birnam-wood?from_choice=true',\n",
       " 'https://goodreads.com/book/show/61815336-the-connellys-of-county-down?from_choice=true',\n",
       " 'https://goodreads.com/book/show/62039166-the-bee-sting?from_choice=true',\n",
       " 'https://goodreads.com/book/show/65650229-wellness?from_choice=true',\n",
       " 'https://goodreads.com/book/show/65215321-blackouts?from_choice=true',\n",
       " 'https://goodreads.com/book/show/123414019-family-meal?from_choice=true',\n",
       " 'https://goodreads.com/book/show/60654349-weyward?from_choice=true',\n",
       " 'https://goodreads.com/book/show/180357146-the-covenant-of-water?from_choice=true',\n",
       " 'https://goodreads.com/book/show/62919732-lady-tan-s-circle-of-women?from_choice=true',\n",
       " 'https://goodreads.com/book/show/65678550-the-heaven-earth-grocery-store?from_choice=true',\n",
       " 'https://goodreads.com/book/show/62054146-the-keeper-of-hidden-books?from_choice=true',\n",
       " 'https://goodreads.com/book/show/62060274-the-echo-of-old-books?from_choice=true',\n",
       " 'https://goodreads.com/book/show/61273858-the-house-of-eve?from_choice=true',\n",
       " 'https://goodreads.com/book/show/62583516-the-wind-knows-my-name?from_choice=true',\n",
       " 'https://goodreads.com/book/show/61796683-did-you-hear-about-kitty-karr?from_choice=true',\n",
       " 'https://goodreads.com/book/show/61273371-looking-for-jane?from_choice=true',\n",
       " 'https://goodreads.com/book/show/63922274-go-as-a-river?from_choice=true',\n",
       " 'https://goodreads.com/book/show/62327255-the-paris-daughter?from_choice=true',\n",
       " 'https://goodreads.com/book/show/61964751-the-secret-book-of-flora-lea?from_choice=true',\n",
       " 'https://goodreads.com/book/show/87556695-let-us-descend?from_choice=true',\n",
       " 'https://goodreads.com/book/show/61272702-hang-the-moon?from_choice=true',\n",
       " 'https://goodreads.com/book/show/60784759-beyond-that-the-sea?from_choice=true',\n",
       " 'https://goodreads.com/book/show/61111298-river-sing-me-home?from_choice=true',\n",
       " 'https://goodreads.com/book/show/62800971-banyan-moon?from_choice=true',\n",
       " 'https://goodreads.com/book/show/62952130-the-vaster-wilds?from_choice=true',\n",
       " 'https://goodreads.com/book/show/71872930-north-woods?from_choice=true',\n",
       " 'https://goodreads.com/book/show/62848145-the-housemaid-s-secret?from_choice=true',\n",
       " 'https://goodreads.com/book/show/62334530-none-of-this-is-true?from_choice=true',\n",
       " 'https://goodreads.com/book/show/62703226-the-only-one-left?from_choice=true',\n",
       " 'https://goodreads.com/book/show/62226126-the-last-devil-to-die?from_choice=true',\n",
       " 'https://goodreads.com/book/show/61327512-vera-wong-s-unsolicited-advice-for-murderers?from_choice=true',\n",
       " 'https://goodreads.com/book/show/101124639-bright-young-women?from_choice=true',\n",
       " 'https://goodreads.com/book/show/60784636-all-the-dangerous-things?from_choice=true',\n",
       " 'https://goodreads.com/book/show/61683285-homecoming?from_choice=true',\n",
       " 'https://goodreads.com/book/show/61053829-i-have-some-questions-for-you?from_choice=true',\n",
       " 'https://goodreads.com/book/show/61884832-all-the-sinners-bleed?from_choice=true',\n",
       " 'https://goodreads.com/book/show/101160844-the-river-we-remember?from_choice=true',\n",
       " 'https://goodreads.com/book/show/60784373-what-lies-in-the-woods?from_choice=true',\n",
       " 'https://goodreads.com/book/show/60784641-the-villa?from_choice=true',\n",
       " 'https://goodreads.com/book/show/63833664-after-that-night?from_choice=true',\n",
       " 'https://goodreads.com/book/show/123423832-the-coworker?from_choice=true',\n",
       " 'https://goodreads.com/book/show/75495002-happiness-falls?from_choice=true',\n",
       " 'https://goodreads.com/book/show/83668030-good-bad-girl?from_choice=true',\n",
       " 'https://goodreads.com/book/show/80830635-don-t-let-her-stay?from_choice=true',\n",
       " 'https://goodreads.com/book/show/78296909-the-leftover-woman?from_choice=true',\n",
       " 'https://goodreads.com/book/show/60588456-the-maid-s-diary?from_choice=true',\n",
       " 'https://goodreads.com/book/show/61718053-happy-place?from_choice=true',\n",
       " 'https://goodreads.com/book/show/61326735-love-theoretically?from_choice=true',\n",
       " 'https://goodreads.com/book/show/61918816-yours-truly?from_choice=true',\n",
       " 'https://goodreads.com/book/show/62022434-things-we-hide-from-the-light?from_choice=true',\n",
       " 'https://goodreads.com/book/show/62628727-romantic-comedy?from_choice=true',\n",
       " 'https://goodreads.com/book/show/61681786-final-offer?from_choice=true',\n",
       " 'https://goodreads.com/book/show/62994279-king-of-pride?from_choice=true',\n",
       " 'https://goodreads.com/book/show/84943172-the-right-move?from_choice=true',\n",
       " 'https://goodreads.com/book/show/62926938-the-seven-year-slip?from_choice=true',\n",
       " 'https://goodreads.com/book/show/101145836-wildfire?from_choice=true',\n",
       " 'https://goodreads.com/book/show/61797464-meet-me-at-the-lake?from_choice=true',\n",
       " 'https://goodreads.com/book/show/123194693-pucking-around?from_choice=true',\n",
       " 'https://goodreads.com/book/show/62361081-the-true-love-experiment?from_choice=true',\n",
       " 'https://goodreads.com/book/show/61897968-practice-makes-perfect?from_choice=true',\n",
       " 'https://goodreads.com/book/show/63031640-powerless?from_choice=true',\n",
       " 'https://goodreads.com/book/show/127152907-in-the-likely-event?from_choice=true',\n",
       " 'https://goodreads.com/book/show/61884987-hello-stranger?from_choice=true',\n",
       " 'https://goodreads.com/book/show/75665887-you-again?from_choice=true',\n",
       " 'https://goodreads.com/book/show/62626163-a-long-time-coming?from_choice=true',\n",
       " 'https://goodreads.com/book/show/101144869-the-long-game?from_choice=true',\n",
       " 'https://goodreads.com/book/show/61431922-fourth-wing?from_choice=true',\n",
       " 'https://goodreads.com/book/show/123257687-assistant-to-the-villain?from_choice=true',\n",
       " 'https://goodreads.com/book/show/62335396-the-ashes-the-star-cursed-king?from_choice=true',\n",
       " 'https://goodreads.com/book/show/63847274-a-soul-of-ash-and-blood?from_choice=true',\n",
       " 'https://goodreads.com/book/show/59808792-sorrow-and-starlight?from_choice=true',\n",
       " 'https://goodreads.com/book/show/73071451-throne-of-the-fallen?from_choice=true',\n",
       " 'https://goodreads.com/book/show/75668288-the-hurricane-wars?from_choice=true',\n",
       " 'https://goodreads.com/book/show/63127235-the-hanging-city?from_choice=true',\n",
       " 'https://goodreads.com/book/show/61150440-a-fire-in-the-flesh?from_choice=true',\n",
       " 'https://goodreads.com/book/show/60581370-the-jasad-heir?from_choice=true',\n",
       " 'https://goodreads.com/book/show/56587784-a-game-of-gods?from_choice=true',\n",
       " 'https://goodreads.com/book/show/59397314-the-foxglove-king?from_choice=true',\n",
       " 'https://goodreads.com/book/show/75396525-the-coven?from_choice=true',\n",
       " 'https://goodreads.com/book/show/65214365-fall-of-ruin-and-wrath?from_choice=true',\n",
       " 'https://goodreads.com/book/show/60225993-bewitched?from_choice=true',\n",
       " 'https://goodreads.com/book/show/123368729-slaying-the-vampire-conqueror?from_choice=true',\n",
       " 'https://goodreads.com/book/show/191754348-rule-of-the-aurora-king?from_choice=true',\n",
       " 'https://goodreads.com/book/show/62004837-a-queen-of-thieves-chaos?from_choice=true',\n",
       " 'https://goodreads.com/book/show/122779502-a-court-this-cruel-lovely?from_choice=true',\n",
       " 'https://goodreads.com/book/show/195775182-a-dawn-of-onyx?from_choice=true',\n",
       " 'https://goodreads.com/book/show/60652997-hell-bent?from_choice=true',\n",
       " 'https://goodreads.com/book/show/63068384-tress-of-the-emerald-sea?from_choice=true',\n",
       " 'https://goodreads.com/book/show/60766189-a-day-of-fallen-night?from_choice=true',\n",
       " 'https://goodreads.com/book/show/60657589-emily-wilde-s-encyclopaedia-of-faeries?from_choice=true',\n",
       " 'https://goodreads.com/book/show/65213543-bookshops-bonedust?from_choice=true',\n",
       " 'https://goodreads.com/book/show/111673828-the-fragile-threads-of-power?from_choice=true',\n",
       " 'https://goodreads.com/book/show/36679274-sword-catcher?from_choice=true',\n",
       " 'https://goodreads.com/book/show/61294937-the-adventures-of-amina-al-sirafi?from_choice=true',\n",
       " 'https://goodreads.com/book/show/65213595-starling-house?from_choice=true',\n",
       " 'https://goodreads.com/book/show/66087062-the-unmaking-of-june-farrow?from_choice=true',\n",
       " 'https://goodreads.com/book/show/61102615-stone-blind?from_choice=true',\n",
       " 'https://goodreads.com/book/show/61612864-the-book-that-wouldn-t-burn?from_choice=true',\n",
       " 'https://goodreads.com/book/show/62854842-ink-blood-sister-scribe?from_choice=true',\n",
       " 'https://goodreads.com/book/show/61361681-clytemnestra?from_choice=true',\n",
       " 'https://goodreads.com/book/show/62919748-the-will-of-the-many?from_choice=true',\n",
       " 'https://goodreads.com/book/show/61884838-atalanta?from_choice=true',\n",
       " 'https://goodreads.com/book/show/61150759-the-last-tale-of-the-flower-bride?from_choice=true',\n",
       " 'https://goodreads.com/book/show/61111246-victory-city?from_choice=true',\n",
       " 'https://goodreads.com/book/show/61885085-witch-king?from_choice=true',\n",
       " 'https://goodreads.com/book/show/60877589-venco?from_choice=true',\n",
       " 'https://goodreads.com/book/show/60784549-in-the-lives-of-puppets?from_choice=true',\n",
       " 'https://goodreads.com/book/show/29227774-light-bringer?from_choice=true',\n",
       " 'https://goodreads.com/book/show/61885029-starter-villain?from_choice=true',\n",
       " 'https://goodreads.com/book/show/62967873-the-marriage-act?from_choice=true',\n",
       " 'https://goodreads.com/book/show/65211701-system-collapse?from_choice=true',\n",
       " 'https://goodreads.com/book/show/61190770-chain-gang-all-stars?from_choice=true',\n",
       " 'https://goodreads.com/book/show/60468332-the-light-pirate?from_choice=true',\n",
       " 'https://goodreads.com/book/show/61282437-the-ferryman?from_choice=true',\n",
       " 'https://goodreads.com/book/show/123163147-the-future?from_choice=true',\n",
       " 'https://goodreads.com/book/show/61030535-children-of-memory?from_choice=true',\n",
       " 'https://goodreads.com/book/show/101673225-land-of-milk-and-honey?from_choice=true',\n",
       " 'https://goodreads.com/book/show/60679392-i-keep-my-exoskeletons-to-myself?from_choice=true',\n",
       " 'https://goodreads.com/book/show/61884842-the-deep-sky?from_choice=true',\n",
       " 'https://goodreads.com/book/show/64000639-bridge?from_choice=true',\n",
       " 'https://goodreads.com/book/show/58388343-some-desperate-glory?from_choice=true',\n",
       " 'https://goodreads.com/book/show/62873999-translation-state?from_choice=true',\n",
       " 'https://goodreads.com/book/show/61813107-ascension?from_choice=true',\n",
       " 'https://goodreads.com/book/show/60806778-the-deluge?from_choice=true',\n",
       " 'https://goodreads.com/book/show/65211707-the-jinn-bot-of-shantiport?from_choice=true',\n",
       " 'https://goodreads.com/book/show/62919387-the-great-transition?from_choice=true',\n",
       " 'https://goodreads.com/book/show/65916344-holly?from_choice=true',\n",
       " 'https://goodreads.com/book/show/59414094-how-to-sell-a-haunted-house?from_choice=true',\n",
       " 'https://goodreads.com/book/show/60784409-a-house-with-good-bones?from_choice=true',\n",
       " 'https://goodreads.com/book/show/63892214-vampires-of-el-norte?from_choice=true',\n",
       " 'https://goodreads.com/book/show/157184735-rouge?from_choice=true',\n",
       " 'https://goodreads.com/book/show/101145269-my-darling-girl?from_choice=true',\n",
       " 'https://goodreads.com/book/show/64623481-the-september-house?from_choice=true',\n",
       " 'https://goodreads.com/book/show/63249718-silver-nitrate?from_choice=true',\n",
       " 'https://goodreads.com/book/show/61111034-our-share-of-night?from_choice=true',\n",
       " 'https://goodreads.com/book/show/60460704-lone-women?from_choice=true',\n",
       " 'https://goodreads.com/book/show/69704909-black-sheep?from_choice=true',\n",
       " 'https://goodreads.com/book/show/63331415-mister-magic?from_choice=true',\n",
       " 'https://goodreads.com/book/show/59366246-don-t-fear-the-reaper?from_choice=true',\n",
       " 'https://goodreads.com/book/show/62919847-the-reformatory?from_choice=true',\n",
       " 'https://goodreads.com/book/show/61420120-natural-beauty?from_choice=true',\n",
       " 'https://goodreads.com/book/show/61686006-sisters-of-the-lost-nation?from_choice=true',\n",
       " 'https://goodreads.com/book/show/62888191-monstrilio?from_choice=true',\n",
       " 'https://goodreads.com/book/show/101144676-becoming-the-boogeyman?from_choice=true',\n",
       " 'https://goodreads.com/book/show/63259070-her-little-flowers?from_choice=true',\n",
       " 'https://goodreads.com/book/show/63077620-dead-eleven?from_choice=true',\n",
       " 'https://goodreads.com/book/show/60784546-divine-rivals?from_choice=true',\n",
       " 'https://goodreads.com/book/show/62816044-a-curse-for-true-love?from_choice=true',\n",
       " 'https://goodreads.com/book/show/61198133-the-stolen-heir?from_choice=true',\n",
       " 'https://goodreads.com/book/show/17699859-chain-of-thorns?from_choice=true',\n",
       " 'https://goodreads.com/book/show/153283393-powerless?from_choice=true',\n",
       " 'https://goodreads.com/book/show/65213381-what-the-river-knows?from_choice=true',\n",
       " 'https://goodreads.com/book/show/75302266-a-study-in-drowning?from_choice=true',\n",
       " 'https://goodreads.com/book/show/63023639-foxglove?from_choice=true',\n",
       " 'https://goodreads.com/book/show/61085769-these-infinite-threads?from_choice=true',\n",
       " 'https://goodreads.com/book/show/101138075-foul-heart-huntsman?from_choice=true',\n",
       " 'https://goodreads.com/book/show/58303740-song-of-silver-flame-like-night?from_choice=true',\n",
       " 'https://goodreads.com/book/show/62695377-threads-that-bind?from_choice=true',\n",
       " 'https://goodreads.com/book/show/61273084-delicious-monsters?from_choice=true',\n",
       " 'https://goodreads.com/book/show/62649010-house-of-roots-and-ruin?from_choice=true',\n",
       " 'https://goodreads.com/book/show/61356465-spice-road?from_choice=true',\n",
       " 'https://goodreads.com/book/show/60784432-blood-debts?from_choice=true',\n",
       " 'https://goodreads.com/book/show/62031346-silver-in-the-bone?from_choice=true',\n",
       " 'https://goodreads.com/book/show/60386342-the-scarlet-veil?from_choice=true',\n",
       " 'https://goodreads.com/book/show/62688758-bring-me-your-midnight?from_choice=true',\n",
       " 'https://goodreads.com/book/show/61745561-house-of-marionne?from_choice=true',\n",
       " 'https://goodreads.com/book/show/60683957-check-mate?from_choice=true',\n",
       " 'https://goodreads.com/book/show/62804258-the-brothers-hawthorne?from_choice=true',\n",
       " 'https://goodreads.com/book/show/60788826-five-survive?from_choice=true',\n",
       " 'https://goodreads.com/book/show/57932307-one-of-us-is-back?from_choice=true',\n",
       " 'https://goodreads.com/book/show/60784644-immortality?from_choice=true',\n",
       " 'https://goodreads.com/book/show/57370115-highly-suspicious-and-unfairly-cute?from_choice=true',\n",
       " 'https://goodreads.com/book/show/61675933-warrior-girl-unearthed?from_choice=true',\n",
       " 'https://goodreads.com/book/show/61896624-imogen-obviously?from_choice=true',\n",
       " 'https://goodreads.com/book/show/58469344-the-davenports?from_choice=true',\n",
       " 'https://goodreads.com/book/show/61948564-reign?from_choice=true',\n",
       " 'https://goodreads.com/book/show/58484187-we-deserve-monuments?from_choice=true',\n",
       " 'https://goodreads.com/book/show/60495147-nine-liars?from_choice=true',\n",
       " 'https://goodreads.com/book/show/59808187-never-ever-getting-back-together?from_choice=true',\n",
       " 'https://goodreads.com/book/show/101141137-pride-and-prejudice-and-pittsburgh?from_choice=true',\n",
       " 'https://goodreads.com/book/show/60197316-what-happens-after-midnight?from_choice=true',\n",
       " 'https://goodreads.com/book/show/63933651-together-we-rot?from_choice=true',\n",
       " 'https://goodreads.com/book/show/60759266-this-time-it-s-real?from_choice=true',\n",
       " 'https://goodreads.com/book/show/112974911-thieves-gambit?from_choice=true',\n",
       " 'https://goodreads.com/book/show/61273082-forget-me-not?from_choice=true',\n",
       " 'https://goodreads.com/book/show/66087070-suddenly-a-murder?from_choice=true',\n",
       " 'https://goodreads.com/book/show/60654349-weyward?from_choice=true',\n",
       " 'https://goodreads.com/book/show/62854842-ink-blood-sister-scribe?from_choice=true',\n",
       " 'https://goodreads.com/book/show/61246258-pineapple-street?from_choice=true',\n",
       " 'https://goodreads.com/book/show/108491027-maame?from_choice=true',\n",
       " 'https://goodreads.com/book/show/64623481-the-september-house?from_choice=true',\n",
       " 'https://goodreads.com/book/show/61273371-looking-for-jane?from_choice=true',\n",
       " 'https://goodreads.com/book/show/60784312-adelaide?from_choice=true',\n",
       " 'https://goodreads.com/book/show/61796683-did-you-hear-about-kitty-karr?from_choice=true',\n",
       " 'https://goodreads.com/book/show/61065982-the-bandit-queens?from_choice=true',\n",
       " 'https://goodreads.com/book/show/61190770-chain-gang-all-stars?from_choice=true',\n",
       " 'https://goodreads.com/book/show/61214136-the-collected-regrets-of-clover?from_choice=true',\n",
       " 'https://goodreads.com/book/show/60784759-beyond-that-the-sea?from_choice=true',\n",
       " 'https://goodreads.com/book/show/62919375-shark-heart?from_choice=true',\n",
       " 'https://goodreads.com/book/show/59948520-in-memoriam?from_choice=true',\n",
       " 'https://goodreads.com/book/show/61111298-river-sing-me-home?from_choice=true',\n",
       " 'https://goodreads.com/book/show/62800971-banyan-moon?from_choice=true',\n",
       " 'https://goodreads.com/book/show/62888191-monstrilio?from_choice=true',\n",
       " 'https://goodreads.com/book/show/60679392-i-keep-my-exoskeletons-to-myself?from_choice=true',\n",
       " 'https://goodreads.com/book/show/72339682-one-summer-in-savannah?from_choice=true',\n",
       " 'https://goodreads.com/book/show/61358638-poverty-by-america?from_choice=true',\n",
       " 'https://goodreads.com/book/show/59366123-butts?from_choice=true',\n",
       " 'https://goodreads.com/book/show/62873378-the-art-thief?from_choice=true',\n",
       " 'https://goodreads.com/book/show/61886251-8-rules-of-love?from_choice=true',\n",
       " 'https://goodreads.com/book/show/63876551-on-our-best-behavior?from_choice=true',\n",
       " 'https://goodreads.com/book/show/138505710-doppelganger?from_choice=true',\n",
       " 'https://goodreads.com/book/show/61153739-outlive?from_choice=true',\n",
       " 'https://goodreads.com/book/show/60965426-the-creative-act?from_choice=true',\n",
       " 'https://goodreads.com/book/show/64000414-trail-of-the-lost?from_choice=true',\n",
       " 'https://goodreads.com/book/show/60769830-how-far-the-light-reaches?from_choice=true',\n",
       " 'https://goodreads.com/book/show/123195171-opinions?from_choice=true',\n",
       " 'https://goodreads.com/book/show/75494215-eve?from_choice=true',\n",
       " 'https://goodreads.com/book/show/60784614-cobalt-red?from_choice=true',\n",
       " 'https://goodreads.com/book/show/157095669-hidden-potential?from_choice=true',\n",
       " 'https://goodreads.com/book/show/62586003-ultra-processed-people?from_choice=true',\n",
       " 'https://goodreads.com/book/show/61685822-monsters?from_choice=true',\n",
       " 'https://goodreads.com/book/show/65214406-punished-for-dreaming?from_choice=true',\n",
       " 'https://goodreads.com/book/show/63102846-never-finished?from_choice=true',\n",
       " 'https://goodreads.com/book/show/61273746-the-good-life?from_choice=true',\n",
       " 'https://goodreads.com/book/show/137978862-build-the-life-you-want?from_choice=true',\n",
       " 'https://goodreads.com/book/show/63133205-the-woman-in-me?from_choice=true',\n",
       " 'https://goodreads.com/book/show/62296528-spare?from_choice=true',\n",
       " 'https://goodreads.com/book/show/61317637-pageboy?from_choice=true',\n",
       " 'https://goodreads.com/book/show/61273812-you-could-make-this-place-beautiful?from_choice=true',\n",
       " 'https://goodreads.com/book/show/166175422-counting-the-cost?from_choice=true',\n",
       " 'https://goodreads.com/book/show/61357133-all-my-knotted-up-life?from_choice=true',\n",
       " 'https://goodreads.com/book/show/61812425-paris?from_choice=true',\n",
       " 'https://goodreads.com/book/show/61812427-love-pamela?from_choice=true',\n",
       " 'https://goodreads.com/book/show/61111274-hijab-butch-blues?from_choice=true',\n",
       " 'https://goodreads.com/book/show/63033521-the-in-between?from_choice=true',\n",
       " 'https://goodreads.com/book/show/88564046-thicker-than-water?from_choice=true',\n",
       " 'https://goodreads.com/book/show/128624877-the-many-lives-of-mama-love?from_choice=true',\n",
       " 'https://goodreads.com/book/show/125253126-the-witching-year?from_choice=true',\n",
       " 'https://goodreads.com/book/show/61885057-while-you-were-out?from_choice=true',\n",
       " 'https://goodreads.com/book/show/62919742-how-to-say-babylon?from_choice=true',\n",
       " 'https://goodreads.com/book/show/62971594-tell-me-everything?from_choice=true',\n",
       " 'https://goodreads.com/book/show/62837289-becoming-free-indeed?from_choice=true',\n",
       " 'https://goodreads.com/book/show/124948662-a-man-of-two-faces?from_choice=true',\n",
       " 'https://goodreads.com/book/show/142601047-they-called-us-exceptional?from_choice=true',\n",
       " 'https://goodreads.com/book/show/62050250-a-living-remedy?from_choice=true',\n",
       " 'https://goodreads.com/book/show/61714633-the-wager?from_choice=true',\n",
       " 'https://goodreads.com/book/show/101160753-the-six?from_choice=true',\n",
       " 'https://goodreads.com/book/show/65214203-killing-the-witches?from_choice=true',\n",
       " 'https://goodreads.com/book/show/62039291-king?from_choice=true',\n",
       " 'https://goodreads.com/book/show/61858962-valiant-women?from_choice=true',\n",
       " 'https://goodreads.com/book/show/55959466-black-af-history?from_choice=true',\n",
       " 'https://goodreads.com/book/show/61423989-a-fever-in-the-heartland?from_choice=true',\n",
       " 'https://goodreads.com/book/show/122765395-elon-musk?from_choice=true',\n",
       " 'https://goodreads.com/book/show/61327450-pathogenesis?from_choice=true',\n",
       " 'https://goodreads.com/book/show/112975117-astor?from_choice=true',\n",
       " 'https://goodreads.com/book/show/61965394-the-earth-transformed?from_choice=true',\n",
       " 'https://goodreads.com/book/show/62918681-the-book-of-charlie?from_choice=true',\n",
       " 'https://goodreads.com/book/show/60098287-star-crossed?from_choice=true',\n",
       " 'https://goodreads.com/book/show/61272711-master-slave-husband-wife?from_choice=true',\n",
       " 'https://goodreads.com/book/show/63024187-when-crack-was-king?from_choice=true',\n",
       " 'https://goodreads.com/book/show/60784360-the-nazi-conspiracy?from_choice=true',\n",
       " 'https://goodreads.com/book/show/61192830-the-confidante?from_choice=true',\n",
       " 'https://goodreads.com/book/show/62328661-rough-sleepers?from_choice=true',\n",
       " 'https://goodreads.com/book/show/61420116-there-will-be-fire?from_choice=true',\n",
       " 'https://goodreads.com/book/show/149105520-going-infinite?from_choice=true',\n",
       " 'https://goodreads.com/book/show/65215014-being-henry?from_choice=true',\n",
       " 'https://goodreads.com/book/show/123027172-leslie-f-cking-jones?from_choice=true',\n",
       " 'https://goodreads.com/book/show/112093865-sure-i-ll-join-your-cult?from_choice=true',\n",
       " 'https://goodreads.com/book/show/62873978-tough-titties?from_choice=true',\n",
       " 'https://goodreads.com/book/show/62052300-quietly-hostile?from_choice=true',\n",
       " 'https://goodreads.com/book/show/59903149-strong-female-character?from_choice=true',\n",
       " 'https://goodreads.com/book/show/150038752-unruly?from_choice=true',\n",
       " 'https://goodreads.com/book/show/123226898-xoxo-cody?from_choice=true',\n",
       " 'https://goodreads.com/book/show/60568490-the-world-record-book-of-racist-stories?from_choice=true',\n",
       " 'https://goodreads.com/book/show/56969544-black-friend?from_choice=true',\n",
       " 'https://goodreads.com/book/show/71872896-congratulations-the-best-is-over?from_choice=true',\n",
       " 'https://goodreads.com/book/show/62919409-how-to-stay-married?from_choice=true',\n",
       " 'https://goodreads.com/book/show/61349388-it-was-an-ugly-couch-anyway?from_choice=true',\n",
       " 'https://goodreads.com/book/show/63184330-everybody-s-favorite?from_choice=true',\n",
       " 'https://goodreads.com/book/show/65214162-surely-you-can-t-be-serious?from_choice=true',\n",
       " 'https://goodreads.com/book/show/65211790-misfit?from_choice=true',\n",
       " 'https://goodreads.com/book/show/125930612-unreliable-narrator?from_choice=true',\n",
       " 'https://goodreads.com/book/show/60563720-america-the-beautiful?from_choice=true',\n",
       " 'https://goodreads.com/book/show/61089466-alexandra-petri-s-us-history?from_choice=true',\n",
       " 'https://goodreads.com/book/show/61273783-not-funny?from_choice=true']"
      ]
     },
     "execution_count": 32,
     "metadata": {},
     "output_type": "execute_result"
    }
   ],
   "source": [
    "book_urls_2023"
   ]
  },
  {
   "cell_type": "code",
   "execution_count": 34,
   "metadata": {},
   "outputs": [
    {
     "data": {
      "text/plain": [
       "299"
      ]
     },
     "execution_count": 34,
     "metadata": {},
     "output_type": "execute_result"
    }
   ],
   "source": [
    "len(book_urls_2023)"
   ]
  },
  {
   "cell_type": "markdown",
   "metadata": {},
   "source": [
    "## get books info"
   ]
  },
  {
   "cell_type": "code",
   "execution_count": null,
   "metadata": {},
   "outputs": [],
   "source": [
    "def get_book_info(urls):\n",
    "\n",
    "    books = []\n",
    "    # iterate over the list of urls\n",
    "    for url in urls:\n",
    "        page = requests.get(url)\n",
    "        soup = bs(page.content, 'html.parser')\n",
    "    \n",
    "        book_dict = {}\n",
    "        book_dict['title'] = gr.get_title(soup)\n",
    "        book_dict['ISBN'] = gr.get_ISBN(soup)\n",
    "        book_dict['author'] = gr.get_author(soup)\n",
    "        book_dict['genre'] = gr.get_genre(soup)\n",
    "        book_dict['rating'] = gr.get_rating(soup)\n",
    "\n",
    "        book_dict['number_of_pages'] = gr.get_pages(soup)\n",
    "        book_dict['format'] = gr.get_format(soup)\n",
    "        book_dict['number_of_ratings'] = gr.get_rating_count(soup)\n",
    "        book_dict['number_of_reviewers'] = gr.get_reviews_count(soup)\n",
    "        book_dict['description'] = gr.get_description(soup)\n",
    "    \n",
    "        books.append(book_dict)\n",
    "    return books"
   ]
  },
  {
   "cell_type": "code",
   "execution_count": 95,
   "metadata": {},
   "outputs": [],
   "source": [
    "url=\"https://www.goodreads.com/book/show/62047984-yellowface?from_choice=true\"\n",
    "page = requests.get(url)\n",
    "soup = bs(page.content, 'html.parser')"
   ]
  },
  {
   "cell_type": "code",
   "execution_count": 96,
   "metadata": {},
   "outputs": [
    {
     "data": {
      "text/plain": [
       "'Yellowface'"
      ]
     },
     "execution_count": 96,
     "metadata": {},
     "output_type": "execute_result"
    }
   ],
   "source": [
    "title = soup.find('h1',class_='Text Text__title1', attrs={'data-testid': 'bookTitle'}).get_text()\n",
    "title"
   ]
  },
  {
   "cell_type": "code",
   "execution_count": 97,
   "metadata": {},
   "outputs": [
    {
     "data": {
      "text/plain": [
       "'9780063250833'"
      ]
     },
     "execution_count": 97,
     "metadata": {},
     "output_type": "execute_result"
    }
   ],
   "source": [
    "# Extract the ISBN number from the text\n",
    "isbn_element = soup.find('div', class_='BookPageMetadataSection__description').find('a')\n",
    "isbn = isbn_element.text.strip().replace(\" \", \"\").replace(\"ISBN\",\"\")\n",
    "isbn"
   ]
  },
  {
   "cell_type": "code",
   "execution_count": 98,
   "metadata": {},
   "outputs": [
    {
     "data": {
      "text/plain": [
       "'R.F. Kuang'"
      ]
     },
     "execution_count": 98,
     "metadata": {},
     "output_type": "execute_result"
    }
   ],
   "source": [
    "author = soup.find('span', class_=\"ContributorLink__name\").get_text()\n",
    "author"
   ]
  },
  {
   "cell_type": "code",
   "execution_count": 99,
   "metadata": {},
   "outputs": [
    {
     "data": {
      "text/plain": [
       "'Fiction, Contemporary, Audiobook, Literary Fiction, Thriller, Adult, Mystery'"
      ]
     },
     "execution_count": 99,
     "metadata": {},
     "output_type": "execute_result"
    }
   ],
   "source": [
    "genre_list = []\n",
    "genre_items = soup.find('ul', class_='CollapsableList').find_all('a')\n",
    "for genre_item in genre_items:\n",
    "    genre_list.append(genre_item.text.strip())\n",
    "genres = ', '.join(genre_list)\n",
    "genres"
   ]
  },
  {
   "cell_type": "code",
   "execution_count": 100,
   "metadata": {},
   "outputs": [
    {
     "data": {
      "text/plain": [
       "'3.80'"
      ]
     },
     "execution_count": 100,
     "metadata": {},
     "output_type": "execute_result"
    }
   ],
   "source": [
    "rating = soup.find('div', class_=\"RatingStatistics__rating\").get_text()\n",
    "rating"
   ]
  },
  {
   "cell_type": "code",
   "execution_count": 101,
   "metadata": {},
   "outputs": [
    {
     "data": {
      "text/plain": [
       "'433,261'"
      ]
     },
     "execution_count": 101,
     "metadata": {},
     "output_type": "execute_result"
    }
   ],
   "source": [
    "rating_count=soup.find('span',attrs={'data-testid':'ratingsCount'}).get_text()\n",
    "rating_count=rating_count.split()[0]\n",
    "rating_count\n"
   ]
  },
  {
   "cell_type": "code",
   "execution_count": 102,
   "metadata": {},
   "outputs": [
    {
     "data": {
      "text/plain": [
       "'59,626'"
      ]
     },
     "execution_count": 102,
     "metadata": {},
     "output_type": "execute_result"
    }
   ],
   "source": [
    "reviewer_count=soup.find('span',attrs={'data-testid':'reviewsCount'}).get_text()\n",
    "reviewer_count=reviewer_count.split()[0]\n",
    "reviewer_count"
   ]
  },
  {
   "cell_type": "code",
   "execution_count": 124,
   "metadata": {},
   "outputs": [
    {
     "data": {
      "text/plain": [
       "'336'"
      ]
     },
     "execution_count": 124,
     "metadata": {},
     "output_type": "execute_result"
    }
   ],
   "source": [
    "# book_details = soup.find_all('div', class_='BookDetails')\n",
    "pagesFormat = soup.find('p', attrs={'data-testid': 'pagesFormat'}).get_text()\n",
    "pages = pagesFormat.split()[0]\n",
    "pages"
   ]
  },
  {
   "cell_type": "code",
   "execution_count": null,
   "metadata": {},
   "outputs": [],
   "source": []
  }
 ],
 "metadata": {
  "kernelspec": {
   "display_name": "Python 3",
   "language": "python",
   "name": "python3"
  },
  "language_info": {
   "codemirror_mode": {
    "name": "ipython",
    "version": 3
   },
   "file_extension": ".py",
   "mimetype": "text/x-python",
   "name": "python",
   "nbconvert_exporter": "python",
   "pygments_lexer": "ipython3",
   "version": "3.12.0"
  }
 },
 "nbformat": 4,
 "nbformat_minor": 2
}
