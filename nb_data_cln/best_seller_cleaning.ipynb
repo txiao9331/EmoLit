{
 "cells": [
  {
   "cell_type": "code",
   "execution_count": 16,
   "metadata": {},
   "outputs": [],
   "source": [
    "import pandas as pd\n",
    "import ast\n",
    "import json"
   ]
  },
  {
   "cell_type": "markdown",
   "metadata": {},
   "source": [
    "# Load json files"
   ]
  },
  {
   "cell_type": "code",
   "execution_count": 34,
   "metadata": {},
   "outputs": [],
   "source": [
    "with open(\"../data/raw_data/2019.json\", 'r') as file:\n",
    "    json2019 = json.load(file)\n",
    "\n",
    "with open(\"../data/raw_data/2020.json\", 'r') as file:\n",
    "    json2020 = json.load(file)\n",
    "\n",
    "with open(\"../data/raw_data/2021.json\", 'r') as file:\n",
    "    json2021 = json.load(file)\n",
    "\n",
    "with open(\"../data/raw_data/2022.json\", 'r') as file:\n",
    "    json2022 = json.load(file)\n",
    "\n",
    "with open(\"../data/raw_data/2023.json\", 'r') as file:\n",
    "    json2023 = json.load(file)"
   ]
  },
  {
   "cell_type": "markdown",
   "metadata": {},
   "source": [
    "# Extract the information"
   ]
  },
  {
   "cell_type": "code",
   "execution_count": 35,
   "metadata": {},
   "outputs": [],
   "source": [
    "def get_bestsellers_info_df(data):\n",
    "    books_info = []\n",
    "    for item in data.values():\n",
    "        results = item['results']\n",
    "        bestsellers_date = results['bestsellers_date']\n",
    "        for list_info in results['lists']:\n",
    "            list_name = list_info['list_name_encoded']\n",
    "            for book in list_info['books']:\n",
    "                book_details = {\n",
    "                    \"title\": book['title'],\n",
    "                    \"rank\": book['rank'],\n",
    "                    \"publisher\": book['publisher'],\n",
    "                    \"weeks_on_list\": book['weeks_on_list'],\n",
    "                    \"primary_isbn13\": book['primary_isbn13'],\n",
    "                    \"list_name\": list_name,\n",
    "                    \"bestsellers_date\": bestsellers_date\n",
    "                }\n",
    "                books_info.append(book_details)\n",
    "    books_info_df = pd.DataFrame(books_info)\n",
    "    return books_info_df"
   ]
  },
  {
   "cell_type": "code",
   "execution_count": 37,
   "metadata": {},
   "outputs": [
    {
     "data": {
      "text/plain": [
       "(2490, 7)"
      ]
     },
     "execution_count": 37,
     "metadata": {},
     "output_type": "execute_result"
    }
   ],
   "source": [
    "df_2019 = get_bestsellers_info_df(json2019)\n",
    "df_2019.shape"
   ]
  },
  {
   "cell_type": "code",
   "execution_count": 38,
   "metadata": {},
   "outputs": [
    {
     "data": {
      "text/plain": [
       "(2760, 7)"
      ]
     },
     "execution_count": 38,
     "metadata": {},
     "output_type": "execute_result"
    }
   ],
   "source": [
    "df_2020 = get_bestsellers_info_df(json2020)\n",
    "df_2020.shape"
   ]
  },
  {
   "cell_type": "code",
   "execution_count": 40,
   "metadata": {},
   "outputs": [
    {
     "data": {
      "text/plain": [
       "(2760, 7)"
      ]
     },
     "execution_count": 40,
     "metadata": {},
     "output_type": "execute_result"
    }
   ],
   "source": [
    "df_2021 = get_bestsellers_info_df(json2021)\n",
    "df_2021.shape"
   ]
  },
  {
   "cell_type": "code",
   "execution_count": 43,
   "metadata": {},
   "outputs": [
    {
     "data": {
      "text/plain": [
       "(2760, 7)"
      ]
     },
     "execution_count": 43,
     "metadata": {},
     "output_type": "execute_result"
    }
   ],
   "source": [
    "df_2022 = get_bestsellers_info_df(json2022)\n",
    "df_2022.shape"
   ]
  },
  {
   "cell_type": "code",
   "execution_count": 44,
   "metadata": {},
   "outputs": [
    {
     "data": {
      "text/plain": [
       "(2760, 7)"
      ]
     },
     "execution_count": 44,
     "metadata": {},
     "output_type": "execute_result"
    }
   ],
   "source": [
    "df_2023 = get_bestsellers_info_df(json2023)\n",
    "df_2023.shape"
   ]
  },
  {
   "cell_type": "markdown",
   "metadata": {},
   "source": [
    "# Create a new dataframe"
   ]
  },
  {
   "cell_type": "code",
   "execution_count": 45,
   "metadata": {},
   "outputs": [
    {
     "data": {
      "text/plain": [
       "(13530, 7)"
      ]
     },
     "execution_count": 45,
     "metadata": {},
     "output_type": "execute_result"
    }
   ],
   "source": [
    "df = pd.concat([df_2019,df_2020,df_2021,df_2022,df_2023], ignore_index=True)\n",
    "df.shape"
   ]
  },
  {
   "cell_type": "code",
   "execution_count": 48,
   "metadata": {},
   "outputs": [
    {
     "data": {
      "text/plain": [
       "title               object\n",
       "rank                 int64\n",
       "publisher           object\n",
       "weeks_on_list        int64\n",
       "primary_isbn13      object\n",
       "list_name           object\n",
       "bestsellers_date    object\n",
       "dtype: object"
      ]
     },
     "execution_count": 48,
     "metadata": {},
     "output_type": "execute_result"
    }
   ],
   "source": [
    "df.dtypes"
   ]
  },
  {
   "cell_type": "code",
   "execution_count": 46,
   "metadata": {},
   "outputs": [
    {
     "data": {
      "text/plain": [
       "title               0\n",
       "rank                0\n",
       "publisher           0\n",
       "weeks_on_list       0\n",
       "primary_isbn13      0\n",
       "list_name           0\n",
       "bestsellers_date    0\n",
       "dtype: int64"
      ]
     },
     "execution_count": 46,
     "metadata": {},
     "output_type": "execute_result"
    }
   ],
   "source": [
    "df.isna().sum()"
   ]
  },
  {
   "cell_type": "code",
   "execution_count": 47,
   "metadata": {},
   "outputs": [
    {
     "data": {
      "text/plain": [
       "0"
      ]
     },
     "execution_count": 47,
     "metadata": {},
     "output_type": "execute_result"
    }
   ],
   "source": [
    "df.duplicated().sum()"
   ]
  },
  {
   "cell_type": "code",
   "execution_count": 49,
   "metadata": {},
   "outputs": [
    {
     "data": {
      "text/plain": [
       "title               3011\n",
       "rank                  15\n",
       "publisher            412\n",
       "weeks_on_list        545\n",
       "primary_isbn13      4224\n",
       "list_name             20\n",
       "bestsellers_date      60\n",
       "dtype: int64"
      ]
     },
     "execution_count": 49,
     "metadata": {},
     "output_type": "execute_result"
    }
   ],
   "source": [
    "df.nunique()"
   ]
  },
  {
   "cell_type": "markdown",
   "metadata": {},
   "source": [
    "# Export as csv file"
   ]
  },
  {
   "cell_type": "code",
   "execution_count": 50,
   "metadata": {},
   "outputs": [],
   "source": [
    "df.to_csv('../data/database/bestsellers.csv', index=False)"
   ]
  },
  {
   "cell_type": "markdown",
   "metadata": {},
   "source": [
    "# Extract the list of books and the list of lists"
   ]
  },
  {
   "cell_type": "code",
   "execution_count": 51,
   "metadata": {},
   "outputs": [
    {
     "data": {
      "text/html": [
       "<div>\n",
       "<style scoped>\n",
       "    .dataframe tbody tr th:only-of-type {\n",
       "        vertical-align: middle;\n",
       "    }\n",
       "\n",
       "    .dataframe tbody tr th {\n",
       "        vertical-align: top;\n",
       "    }\n",
       "\n",
       "    .dataframe thead th {\n",
       "        text-align: right;\n",
       "    }\n",
       "</style>\n",
       "<table border=\"1\" class=\"dataframe\">\n",
       "  <thead>\n",
       "    <tr style=\"text-align: right;\">\n",
       "      <th></th>\n",
       "      <th>title</th>\n",
       "      <th>rank</th>\n",
       "      <th>publisher</th>\n",
       "      <th>weeks_on_list</th>\n",
       "      <th>primary_isbn13</th>\n",
       "      <th>list_name</th>\n",
       "      <th>bestsellers_date</th>\n",
       "    </tr>\n",
       "  </thead>\n",
       "  <tbody>\n",
       "    <tr>\n",
       "      <th>0</th>\n",
       "      <td>THE RECKONING</td>\n",
       "      <td>1</td>\n",
       "      <td>Doubleday</td>\n",
       "      <td>9</td>\n",
       "      <td>9780385544153</td>\n",
       "      <td>combined-print-and-e-book-fiction</td>\n",
       "      <td>2018-12-22</td>\n",
       "    </tr>\n",
       "    <tr>\n",
       "      <th>1</th>\n",
       "      <td>EVERY BREATH</td>\n",
       "      <td>2</td>\n",
       "      <td>Grand Central</td>\n",
       "      <td>10</td>\n",
       "      <td>9781538728529</td>\n",
       "      <td>combined-print-and-e-book-fiction</td>\n",
       "      <td>2018-12-22</td>\n",
       "    </tr>\n",
       "    <tr>\n",
       "      <th>2</th>\n",
       "      <td>FIRE AND BLOOD</td>\n",
       "      <td>3</td>\n",
       "      <td>Bantam</td>\n",
       "      <td>5</td>\n",
       "      <td>9781524796280</td>\n",
       "      <td>combined-print-and-e-book-fiction</td>\n",
       "      <td>2018-12-22</td>\n",
       "    </tr>\n",
       "  </tbody>\n",
       "</table>\n",
       "</div>"
      ],
      "text/plain": [
       "            title  rank      publisher  weeks_on_list primary_isbn13  \\\n",
       "0   THE RECKONING     1      Doubleday              9  9780385544153   \n",
       "1    EVERY BREATH     2  Grand Central             10  9781538728529   \n",
       "2  FIRE AND BLOOD     3         Bantam              5  9781524796280   \n",
       "\n",
       "                           list_name bestsellers_date  \n",
       "0  combined-print-and-e-book-fiction       2018-12-22  \n",
       "1  combined-print-and-e-book-fiction       2018-12-22  \n",
       "2  combined-print-and-e-book-fiction       2018-12-22  "
      ]
     },
     "execution_count": 51,
     "metadata": {},
     "output_type": "execute_result"
    }
   ],
   "source": [
    "df.head(3)"
   ]
  },
  {
   "cell_type": "code",
   "execution_count": 70,
   "metadata": {},
   "outputs": [
    {
     "data": {
      "text/html": [
       "<div>\n",
       "<style scoped>\n",
       "    .dataframe tbody tr th:only-of-type {\n",
       "        vertical-align: middle;\n",
       "    }\n",
       "\n",
       "    .dataframe tbody tr th {\n",
       "        vertical-align: top;\n",
       "    }\n",
       "\n",
       "    .dataframe thead th {\n",
       "        text-align: right;\n",
       "    }\n",
       "</style>\n",
       "<table border=\"1\" class=\"dataframe\">\n",
       "  <thead>\n",
       "    <tr style=\"text-align: right;\">\n",
       "      <th></th>\n",
       "      <th>title</th>\n",
       "      <th>title_id</th>\n",
       "    </tr>\n",
       "  </thead>\n",
       "  <tbody>\n",
       "    <tr>\n",
       "      <th>0</th>\n",
       "      <td>the reckoning</td>\n",
       "      <td>1</td>\n",
       "    </tr>\n",
       "    <tr>\n",
       "      <th>1</th>\n",
       "      <td>every breath</td>\n",
       "      <td>2</td>\n",
       "    </tr>\n",
       "    <tr>\n",
       "      <th>2</th>\n",
       "      <td>fire and blood</td>\n",
       "      <td>3</td>\n",
       "    </tr>\n",
       "    <tr>\n",
       "      <th>3</th>\n",
       "      <td>where the crawdads sing</td>\n",
       "      <td>4</td>\n",
       "    </tr>\n",
       "    <tr>\n",
       "      <th>4</th>\n",
       "      <td>target: alex cross</td>\n",
       "      <td>5</td>\n",
       "    </tr>\n",
       "    <tr>\n",
       "      <th>...</th>\n",
       "      <td>...</td>\n",
       "      <td>...</td>\n",
       "    </tr>\n",
       "    <tr>\n",
       "      <th>3006</th>\n",
       "      <td>shooting iron</td>\n",
       "      <td>3007</td>\n",
       "    </tr>\n",
       "    <tr>\n",
       "      <th>3007</th>\n",
       "      <td>in a holidaze</td>\n",
       "      <td>3008</td>\n",
       "    </tr>\n",
       "    <tr>\n",
       "      <th>3008</th>\n",
       "      <td>collateral damage</td>\n",
       "      <td>3009</td>\n",
       "    </tr>\n",
       "    <tr>\n",
       "      <th>3009</th>\n",
       "      <td>falling stars</td>\n",
       "      <td>3010</td>\n",
       "    </tr>\n",
       "    <tr>\n",
       "      <th>3010</th>\n",
       "      <td>check &amp; mate</td>\n",
       "      <td>3011</td>\n",
       "    </tr>\n",
       "  </tbody>\n",
       "</table>\n",
       "<p>3011 rows × 2 columns</p>\n",
       "</div>"
      ],
      "text/plain": [
       "                        title  title_id\n",
       "0               the reckoning         1\n",
       "1                every breath         2\n",
       "2              fire and blood         3\n",
       "3     where the crawdads sing         4\n",
       "4          target: alex cross         5\n",
       "...                       ...       ...\n",
       "3006            shooting iron      3007\n",
       "3007            in a holidaze      3008\n",
       "3008        collateral damage      3009\n",
       "3009            falling stars      3010\n",
       "3010             check & mate      3011\n",
       "\n",
       "[3011 rows x 2 columns]"
      ]
     },
     "execution_count": 70,
     "metadata": {},
     "output_type": "execute_result"
    }
   ],
   "source": [
    "title = {}\n",
    "title = df['title'].apply(lambda x: x.lower()).unique()\n",
    "title_df = pd.DataFrame(title,columns=['title'])\n",
    "title_df['title_id'] = range(1, len(title_df) + 1)\n",
    "title_df"
   ]
  },
  {
   "cell_type": "code",
   "execution_count": 71,
   "metadata": {},
   "outputs": [],
   "source": [
    "title_df.to_csv('../data/database/bestsellers_title.csv', index=False)"
   ]
  },
  {
   "cell_type": "code",
   "execution_count": 88,
   "metadata": {},
   "outputs": [
    {
     "data": {
      "text/html": [
       "<div>\n",
       "<style scoped>\n",
       "    .dataframe tbody tr th:only-of-type {\n",
       "        vertical-align: middle;\n",
       "    }\n",
       "\n",
       "    .dataframe tbody tr th {\n",
       "        vertical-align: top;\n",
       "    }\n",
       "\n",
       "    .dataframe thead th {\n",
       "        text-align: right;\n",
       "    }\n",
       "</style>\n",
       "<table border=\"1\" class=\"dataframe\">\n",
       "  <thead>\n",
       "    <tr style=\"text-align: right;\">\n",
       "      <th></th>\n",
       "      <th>list_name</th>\n",
       "      <th>list_id</th>\n",
       "    </tr>\n",
       "  </thead>\n",
       "  <tbody>\n",
       "    <tr>\n",
       "      <th>0</th>\n",
       "      <td>combined-print-and-e-book-fiction</td>\n",
       "      <td>1</td>\n",
       "    </tr>\n",
       "    <tr>\n",
       "      <th>1</th>\n",
       "      <td>combined-print-and-e-book-nonfiction</td>\n",
       "      <td>2</td>\n",
       "    </tr>\n",
       "    <tr>\n",
       "      <th>2</th>\n",
       "      <td>hardcover-fiction</td>\n",
       "      <td>3</td>\n",
       "    </tr>\n",
       "    <tr>\n",
       "      <th>3</th>\n",
       "      <td>hardcover-nonfiction</td>\n",
       "      <td>4</td>\n",
       "    </tr>\n",
       "    <tr>\n",
       "      <th>4</th>\n",
       "      <td>trade-fiction-paperback</td>\n",
       "      <td>5</td>\n",
       "    </tr>\n",
       "    <tr>\n",
       "      <th>5</th>\n",
       "      <td>paperback-nonfiction</td>\n",
       "      <td>6</td>\n",
       "    </tr>\n",
       "    <tr>\n",
       "      <th>6</th>\n",
       "      <td>advice-how-to-and-miscellaneous</td>\n",
       "      <td>7</td>\n",
       "    </tr>\n",
       "    <tr>\n",
       "      <th>7</th>\n",
       "      <td>childrens-middle-grade-hardcover</td>\n",
       "      <td>8</td>\n",
       "    </tr>\n",
       "    <tr>\n",
       "      <th>8</th>\n",
       "      <td>picture-books</td>\n",
       "      <td>9</td>\n",
       "    </tr>\n",
       "    <tr>\n",
       "      <th>9</th>\n",
       "      <td>series-books</td>\n",
       "      <td>10</td>\n",
       "    </tr>\n",
       "    <tr>\n",
       "      <th>10</th>\n",
       "      <td>young-adult-hardcover</td>\n",
       "      <td>11</td>\n",
       "    </tr>\n",
       "    <tr>\n",
       "      <th>11</th>\n",
       "      <td>audio-fiction</td>\n",
       "      <td>12</td>\n",
       "    </tr>\n",
       "    <tr>\n",
       "      <th>12</th>\n",
       "      <td>audio-nonfiction</td>\n",
       "      <td>13</td>\n",
       "    </tr>\n",
       "    <tr>\n",
       "      <th>13</th>\n",
       "      <td>business-books</td>\n",
       "      <td>14</td>\n",
       "    </tr>\n",
       "    <tr>\n",
       "      <th>14</th>\n",
       "      <td>science</td>\n",
       "      <td>15</td>\n",
       "    </tr>\n",
       "    <tr>\n",
       "      <th>15</th>\n",
       "      <td>sports</td>\n",
       "      <td>16</td>\n",
       "    </tr>\n",
       "    <tr>\n",
       "      <th>16</th>\n",
       "      <td>graphic-books-and-manga</td>\n",
       "      <td>17</td>\n",
       "    </tr>\n",
       "    <tr>\n",
       "      <th>17</th>\n",
       "      <td>mass-market-monthly</td>\n",
       "      <td>18</td>\n",
       "    </tr>\n",
       "    <tr>\n",
       "      <th>18</th>\n",
       "      <td>middle-grade-paperback-monthly</td>\n",
       "      <td>19</td>\n",
       "    </tr>\n",
       "    <tr>\n",
       "      <th>19</th>\n",
       "      <td>young-adult-paperback-monthly</td>\n",
       "      <td>20</td>\n",
       "    </tr>\n",
       "  </tbody>\n",
       "</table>\n",
       "</div>"
      ],
      "text/plain": [
       "                               list_name  list_id\n",
       "0      combined-print-and-e-book-fiction        1\n",
       "1   combined-print-and-e-book-nonfiction        2\n",
       "2                      hardcover-fiction        3\n",
       "3                   hardcover-nonfiction        4\n",
       "4                trade-fiction-paperback        5\n",
       "5                   paperback-nonfiction        6\n",
       "6        advice-how-to-and-miscellaneous        7\n",
       "7       childrens-middle-grade-hardcover        8\n",
       "8                          picture-books        9\n",
       "9                           series-books       10\n",
       "10                 young-adult-hardcover       11\n",
       "11                         audio-fiction       12\n",
       "12                      audio-nonfiction       13\n",
       "13                        business-books       14\n",
       "14                               science       15\n",
       "15                                sports       16\n",
       "16               graphic-books-and-manga       17\n",
       "17                   mass-market-monthly       18\n",
       "18        middle-grade-paperback-monthly       19\n",
       "19         young-adult-paperback-monthly       20"
      ]
     },
     "execution_count": 88,
     "metadata": {},
     "output_type": "execute_result"
    }
   ],
   "source": [
    "lists = {}\n",
    "lists = df['list_name'].unique()\n",
    "lists_df = pd.DataFrame(lists,columns=['list_name'])\n",
    "lists_df['list_id'] = range(1, len(lists_df) + 1)\n",
    "lists_df"
   ]
  },
  {
   "cell_type": "code",
   "execution_count": 89,
   "metadata": {},
   "outputs": [],
   "source": [
    "lists_df.to_csv('../data/database/lists_bestsellers.csv', index=False)"
   ]
  },
  {
   "cell_type": "markdown",
   "metadata": {},
   "source": [
    "# Mapping the title_id and list_id"
   ]
  },
  {
   "cell_type": "code",
   "execution_count": 75,
   "metadata": {},
   "outputs": [],
   "source": [
    "df['title2'] = df['title']\n",
    "df['title'] = df['title2'].apply(lambda x: x.lower())"
   ]
  },
  {
   "cell_type": "code",
   "execution_count": 78,
   "metadata": {},
   "outputs": [],
   "source": [
    "# Merging the DataFrames on 'title'\n",
    "df_merged = pd.merge(df, title_df, on='title', how='left')"
   ]
  },
  {
   "cell_type": "code",
   "execution_count": 84,
   "metadata": {},
   "outputs": [
    {
     "data": {
      "text/plain": [
       "Index(['title', 'rank', 'publisher', 'weeks_on_list', 'primary_isbn13',\n",
       "       'list_name', 'bestsellers_date', 'title2', 'title_id'],\n",
       "      dtype='object')"
      ]
     },
     "execution_count": 84,
     "metadata": {},
     "output_type": "execute_result"
    }
   ],
   "source": [
    "df_merged.columns"
   ]
  },
  {
   "cell_type": "code",
   "execution_count": 87,
   "metadata": {},
   "outputs": [
    {
     "data": {
      "text/html": [
       "<div>\n",
       "<style scoped>\n",
       "    .dataframe tbody tr th:only-of-type {\n",
       "        vertical-align: middle;\n",
       "    }\n",
       "\n",
       "    .dataframe tbody tr th {\n",
       "        vertical-align: top;\n",
       "    }\n",
       "\n",
       "    .dataframe thead th {\n",
       "        text-align: right;\n",
       "    }\n",
       "</style>\n",
       "<table border=\"1\" class=\"dataframe\">\n",
       "  <thead>\n",
       "    <tr style=\"text-align: right;\">\n",
       "      <th></th>\n",
       "      <th>title_id</th>\n",
       "      <th>title2</th>\n",
       "      <th>publisher</th>\n",
       "      <th>rank</th>\n",
       "      <th>weeks_on_list</th>\n",
       "      <th>primary_isbn13</th>\n",
       "      <th>list_name</th>\n",
       "      <th>bestsellers_date</th>\n",
       "    </tr>\n",
       "  </thead>\n",
       "  <tbody>\n",
       "    <tr>\n",
       "      <th>0</th>\n",
       "      <td>1</td>\n",
       "      <td>THE RECKONING</td>\n",
       "      <td>Doubleday</td>\n",
       "      <td>1</td>\n",
       "      <td>9</td>\n",
       "      <td>9780385544153</td>\n",
       "      <td>combined-print-and-e-book-fiction</td>\n",
       "      <td>2018-12-22</td>\n",
       "    </tr>\n",
       "    <tr>\n",
       "      <th>1</th>\n",
       "      <td>2</td>\n",
       "      <td>EVERY BREATH</td>\n",
       "      <td>Grand Central</td>\n",
       "      <td>2</td>\n",
       "      <td>10</td>\n",
       "      <td>9781538728529</td>\n",
       "      <td>combined-print-and-e-book-fiction</td>\n",
       "      <td>2018-12-22</td>\n",
       "    </tr>\n",
       "    <tr>\n",
       "      <th>2</th>\n",
       "      <td>3</td>\n",
       "      <td>FIRE AND BLOOD</td>\n",
       "      <td>Bantam</td>\n",
       "      <td>3</td>\n",
       "      <td>5</td>\n",
       "      <td>9781524796280</td>\n",
       "      <td>combined-print-and-e-book-fiction</td>\n",
       "      <td>2018-12-22</td>\n",
       "    </tr>\n",
       "    <tr>\n",
       "      <th>3</th>\n",
       "      <td>4</td>\n",
       "      <td>WHERE THE CRAWDADS SING</td>\n",
       "      <td>Putnam</td>\n",
       "      <td>4</td>\n",
       "      <td>15</td>\n",
       "      <td>9780735219090</td>\n",
       "      <td>combined-print-and-e-book-fiction</td>\n",
       "      <td>2018-12-22</td>\n",
       "    </tr>\n",
       "    <tr>\n",
       "      <th>4</th>\n",
       "      <td>5</td>\n",
       "      <td>TARGET: ALEX CROSS</td>\n",
       "      <td>Little, Brown</td>\n",
       "      <td>5</td>\n",
       "      <td>5</td>\n",
       "      <td>9780316273947</td>\n",
       "      <td>combined-print-and-e-book-fiction</td>\n",
       "      <td>2018-12-22</td>\n",
       "    </tr>\n",
       "    <tr>\n",
       "      <th>...</th>\n",
       "      <td>...</td>\n",
       "      <td>...</td>\n",
       "      <td>...</td>\n",
       "      <td>...</td>\n",
       "      <td>...</td>\n",
       "      <td>...</td>\n",
       "      <td>...</td>\n",
       "      <td>...</td>\n",
       "    </tr>\n",
       "    <tr>\n",
       "      <th>13525</th>\n",
       "      <td>2962</td>\n",
       "      <td>THE HAUNTING</td>\n",
       "      <td>Delacorte</td>\n",
       "      <td>6</td>\n",
       "      <td>0</td>\n",
       "      <td>9780593481516</td>\n",
       "      <td>young-adult-paperback-monthly</td>\n",
       "      <td>2023-11-18</td>\n",
       "    </tr>\n",
       "    <tr>\n",
       "      <th>13526</th>\n",
       "      <td>2904</td>\n",
       "      <td>A THOUSAND BOY KISSES</td>\n",
       "      <td>Bloom</td>\n",
       "      <td>7</td>\n",
       "      <td>0</td>\n",
       "      <td>9781728297088</td>\n",
       "      <td>young-adult-paperback-monthly</td>\n",
       "      <td>2023-11-18</td>\n",
       "    </tr>\n",
       "    <tr>\n",
       "      <th>13527</th>\n",
       "      <td>2522</td>\n",
       "      <td>THE WAY I USED TO BE</td>\n",
       "      <td>Margaret K. McElderry</td>\n",
       "      <td>8</td>\n",
       "      <td>0</td>\n",
       "      <td>9781481449366</td>\n",
       "      <td>young-adult-paperback-monthly</td>\n",
       "      <td>2023-11-18</td>\n",
       "    </tr>\n",
       "    <tr>\n",
       "      <th>13528</th>\n",
       "      <td>857</td>\n",
       "      <td>THE BOOK THIEF</td>\n",
       "      <td>Knopf</td>\n",
       "      <td>9</td>\n",
       "      <td>0</td>\n",
       "      <td>9780375842207</td>\n",
       "      <td>young-adult-paperback-monthly</td>\n",
       "      <td>2023-11-18</td>\n",
       "    </tr>\n",
       "    <tr>\n",
       "      <th>13529</th>\n",
       "      <td>1132</td>\n",
       "      <td>SIX OF CROWS</td>\n",
       "      <td>Square Fish</td>\n",
       "      <td>10</td>\n",
       "      <td>0</td>\n",
       "      <td>9781250076960</td>\n",
       "      <td>young-adult-paperback-monthly</td>\n",
       "      <td>2023-11-18</td>\n",
       "    </tr>\n",
       "  </tbody>\n",
       "</table>\n",
       "<p>13530 rows × 8 columns</p>\n",
       "</div>"
      ],
      "text/plain": [
       "       title_id                   title2              publisher  rank  \\\n",
       "0             1            THE RECKONING              Doubleday     1   \n",
       "1             2             EVERY BREATH          Grand Central     2   \n",
       "2             3           FIRE AND BLOOD                 Bantam     3   \n",
       "3             4  WHERE THE CRAWDADS SING                 Putnam     4   \n",
       "4             5       TARGET: ALEX CROSS          Little, Brown     5   \n",
       "...         ...                      ...                    ...   ...   \n",
       "13525      2962             THE HAUNTING              Delacorte     6   \n",
       "13526      2904    A THOUSAND BOY KISSES                  Bloom     7   \n",
       "13527      2522     THE WAY I USED TO BE  Margaret K. McElderry     8   \n",
       "13528       857           THE BOOK THIEF                  Knopf     9   \n",
       "13529      1132             SIX OF CROWS            Square Fish    10   \n",
       "\n",
       "       weeks_on_list primary_isbn13                          list_name  \\\n",
       "0                  9  9780385544153  combined-print-and-e-book-fiction   \n",
       "1                 10  9781538728529  combined-print-and-e-book-fiction   \n",
       "2                  5  9781524796280  combined-print-and-e-book-fiction   \n",
       "3                 15  9780735219090  combined-print-and-e-book-fiction   \n",
       "4                  5  9780316273947  combined-print-and-e-book-fiction   \n",
       "...              ...            ...                                ...   \n",
       "13525              0  9780593481516      young-adult-paperback-monthly   \n",
       "13526              0  9781728297088      young-adult-paperback-monthly   \n",
       "13527              0  9781481449366      young-adult-paperback-monthly   \n",
       "13528              0  9780375842207      young-adult-paperback-monthly   \n",
       "13529              0  9781250076960      young-adult-paperback-monthly   \n",
       "\n",
       "      bestsellers_date  \n",
       "0           2018-12-22  \n",
       "1           2018-12-22  \n",
       "2           2018-12-22  \n",
       "3           2018-12-22  \n",
       "4           2018-12-22  \n",
       "...                ...  \n",
       "13525       2023-11-18  \n",
       "13526       2023-11-18  \n",
       "13527       2023-11-18  \n",
       "13528       2023-11-18  \n",
       "13529       2023-11-18  \n",
       "\n",
       "[13530 rows x 8 columns]"
      ]
     },
     "execution_count": 87,
     "metadata": {},
     "output_type": "execute_result"
    }
   ],
   "source": [
    "df = df_merged[['title_id','title2','publisher','rank','weeks_on_list','primary_isbn13','list_name','bestsellers_date']]\n",
    "df"
   ]
  }
 ],
 "metadata": {
  "kernelspec": {
   "display_name": "Python 3",
   "language": "python",
   "name": "python3"
  },
  "language_info": {
   "codemirror_mode": {
    "name": "ipython",
    "version": 3
   },
   "file_extension": ".py",
   "mimetype": "text/x-python",
   "name": "python",
   "nbconvert_exporter": "python",
   "pygments_lexer": "ipython3",
   "version": "3.12.0"
  }
 },
 "nbformat": 4,
 "nbformat_minor": 2
}
