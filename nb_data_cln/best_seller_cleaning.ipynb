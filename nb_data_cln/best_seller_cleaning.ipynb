{
 "cells": [
  {
   "cell_type": "code",
   "execution_count": 16,
   "metadata": {},
   "outputs": [],
   "source": [
    "import pandas as pd\n",
    "import ast\n",
    "import json"
   ]
  },
  {
   "cell_type": "markdown",
   "metadata": {},
   "source": [
    "# Load json files"
   ]
  },
  {
   "cell_type": "code",
   "execution_count": 34,
   "metadata": {},
   "outputs": [],
   "source": [
    "with open(\"../data/raw_data/2019.json\", 'r') as file:\n",
    "    json2019 = json.load(file)\n",
    "\n",
    "with open(\"../data/raw_data/2020.json\", 'r') as file:\n",
    "    json2020 = json.load(file)\n",
    "\n",
    "with open(\"../data/raw_data/2021.json\", 'r') as file:\n",
    "    json2021 = json.load(file)\n",
    "\n",
    "with open(\"../data/raw_data/2022.json\", 'r') as file:\n",
    "    json2022 = json.load(file)\n",
    "\n",
    "with open(\"../data/raw_data/2023.json\", 'r') as file:\n",
    "    json2023 = json.load(file)"
   ]
  },
  {
   "cell_type": "markdown",
   "metadata": {},
   "source": [
    "# Extract the information"
   ]
  },
  {
   "cell_type": "code",
   "execution_count": 35,
   "metadata": {},
   "outputs": [],
   "source": [
    "def get_bestsellers_info_df(data):\n",
    "    books_info = []\n",
    "    for item in data.values():\n",
    "        results = item['results']\n",
    "        bestsellers_date = results['bestsellers_date']\n",
    "        for list_info in results['lists']:\n",
    "            list_name = list_info['list_name_encoded']\n",
    "            for book in list_info['books']:\n",
    "                book_details = {\n",
    "                    \"title\": book['title'],\n",
    "                    \"rank\": book['rank'],\n",
    "                    \"publisher\": book['publisher'],\n",
    "                    \"weeks_on_list\": book['weeks_on_list'],\n",
    "                    \"primary_isbn13\": book['primary_isbn13'],\n",
    "                    \"list_name\": list_name,\n",
    "                    \"bestsellers_date\": bestsellers_date\n",
    "                }\n",
    "                books_info.append(book_details)\n",
    "    books_info_df = pd.DataFrame(books_info)\n",
    "    return books_info_df"
   ]
  },
  {
   "cell_type": "code",
   "execution_count": 37,
   "metadata": {},
   "outputs": [
    {
     "data": {
      "text/plain": [
       "(2490, 7)"
      ]
     },
     "execution_count": 37,
     "metadata": {},
     "output_type": "execute_result"
    }
   ],
   "source": [
    "df_2019 = get_bestsellers_info_df(json2019)\n",
    "df_2019.shape"
   ]
  },
  {
   "cell_type": "code",
   "execution_count": 38,
   "metadata": {},
   "outputs": [
    {
     "data": {
      "text/plain": [
       "(2760, 7)"
      ]
     },
     "execution_count": 38,
     "metadata": {},
     "output_type": "execute_result"
    }
   ],
   "source": [
    "df_2020 = get_bestsellers_info_df(json2020)\n",
    "df_2020.shape"
   ]
  },
  {
   "cell_type": "code",
   "execution_count": 40,
   "metadata": {},
   "outputs": [
    {
     "data": {
      "text/plain": [
       "(2760, 7)"
      ]
     },
     "execution_count": 40,
     "metadata": {},
     "output_type": "execute_result"
    }
   ],
   "source": [
    "df_2021 = get_bestsellers_info_df(json2021)\n",
    "df_2021.shape"
   ]
  },
  {
   "cell_type": "code",
   "execution_count": 43,
   "metadata": {},
   "outputs": [
    {
     "data": {
      "text/plain": [
       "(2760, 7)"
      ]
     },
     "execution_count": 43,
     "metadata": {},
     "output_type": "execute_result"
    }
   ],
   "source": [
    "df_2022 = get_bestsellers_info_df(json2022)\n",
    "df_2022.shape"
   ]
  },
  {
   "cell_type": "code",
   "execution_count": 44,
   "metadata": {},
   "outputs": [
    {
     "data": {
      "text/plain": [
       "(2760, 7)"
      ]
     },
     "execution_count": 44,
     "metadata": {},
     "output_type": "execute_result"
    }
   ],
   "source": [
    "df_2023 = get_bestsellers_info_df(json2023)\n",
    "df_2023.shape"
   ]
  },
  {
   "cell_type": "markdown",
   "metadata": {},
   "source": [
    "# Create a new dataframe"
   ]
  },
  {
   "cell_type": "code",
   "execution_count": 105,
   "metadata": {},
   "outputs": [
    {
     "data": {
      "text/plain": [
       "(13530, 7)"
      ]
     },
     "execution_count": 105,
     "metadata": {},
     "output_type": "execute_result"
    }
   ],
   "source": [
    "df = pd.concat([df_2019,df_2020,df_2021,df_2022,df_2023], ignore_index=True)\n",
    "df.shape"
   ]
  },
  {
   "cell_type": "code",
   "execution_count": 48,
   "metadata": {},
   "outputs": [
    {
     "data": {
      "text/plain": [
       "title               object\n",
       "rank                 int64\n",
       "publisher           object\n",
       "weeks_on_list        int64\n",
       "primary_isbn13      object\n",
       "list_name           object\n",
       "bestsellers_date    object\n",
       "dtype: object"
      ]
     },
     "execution_count": 48,
     "metadata": {},
     "output_type": "execute_result"
    }
   ],
   "source": [
    "df.dtypes"
   ]
  },
  {
   "cell_type": "code",
   "execution_count": 46,
   "metadata": {},
   "outputs": [
    {
     "data": {
      "text/plain": [
       "title               0\n",
       "rank                0\n",
       "publisher           0\n",
       "weeks_on_list       0\n",
       "primary_isbn13      0\n",
       "list_name           0\n",
       "bestsellers_date    0\n",
       "dtype: int64"
      ]
     },
     "execution_count": 46,
     "metadata": {},
     "output_type": "execute_result"
    }
   ],
   "source": [
    "df.isna().sum()"
   ]
  },
  {
   "cell_type": "code",
   "execution_count": 47,
   "metadata": {},
   "outputs": [
    {
     "data": {
      "text/plain": [
       "0"
      ]
     },
     "execution_count": 47,
     "metadata": {},
     "output_type": "execute_result"
    }
   ],
   "source": [
    "df.duplicated().sum()"
   ]
  },
  {
   "cell_type": "code",
   "execution_count": 49,
   "metadata": {},
   "outputs": [
    {
     "data": {
      "text/plain": [
       "title               3011\n",
       "rank                  15\n",
       "publisher            412\n",
       "weeks_on_list        545\n",
       "primary_isbn13      4224\n",
       "list_name             20\n",
       "bestsellers_date      60\n",
       "dtype: int64"
      ]
     },
     "execution_count": 49,
     "metadata": {},
     "output_type": "execute_result"
    }
   ],
   "source": [
    "df.nunique()"
   ]
  },
  {
   "cell_type": "markdown",
   "metadata": {},
   "source": [
    "# Extract the list of books and the list of lists"
   ]
  },
  {
   "cell_type": "code",
   "execution_count": 106,
   "metadata": {},
   "outputs": [
    {
     "data": {
      "text/html": [
       "<div>\n",
       "<style scoped>\n",
       "    .dataframe tbody tr th:only-of-type {\n",
       "        vertical-align: middle;\n",
       "    }\n",
       "\n",
       "    .dataframe tbody tr th {\n",
       "        vertical-align: top;\n",
       "    }\n",
       "\n",
       "    .dataframe thead th {\n",
       "        text-align: right;\n",
       "    }\n",
       "</style>\n",
       "<table border=\"1\" class=\"dataframe\">\n",
       "  <thead>\n",
       "    <tr style=\"text-align: right;\">\n",
       "      <th></th>\n",
       "      <th>title</th>\n",
       "      <th>rank</th>\n",
       "      <th>publisher</th>\n",
       "      <th>weeks_on_list</th>\n",
       "      <th>primary_isbn13</th>\n",
       "      <th>list_name</th>\n",
       "      <th>bestsellers_date</th>\n",
       "    </tr>\n",
       "  </thead>\n",
       "  <tbody>\n",
       "    <tr>\n",
       "      <th>0</th>\n",
       "      <td>THE RECKONING</td>\n",
       "      <td>1</td>\n",
       "      <td>Doubleday</td>\n",
       "      <td>9</td>\n",
       "      <td>9780385544153</td>\n",
       "      <td>combined-print-and-e-book-fiction</td>\n",
       "      <td>2018-12-22</td>\n",
       "    </tr>\n",
       "    <tr>\n",
       "      <th>1</th>\n",
       "      <td>EVERY BREATH</td>\n",
       "      <td>2</td>\n",
       "      <td>Grand Central</td>\n",
       "      <td>10</td>\n",
       "      <td>9781538728529</td>\n",
       "      <td>combined-print-and-e-book-fiction</td>\n",
       "      <td>2018-12-22</td>\n",
       "    </tr>\n",
       "    <tr>\n",
       "      <th>2</th>\n",
       "      <td>FIRE AND BLOOD</td>\n",
       "      <td>3</td>\n",
       "      <td>Bantam</td>\n",
       "      <td>5</td>\n",
       "      <td>9781524796280</td>\n",
       "      <td>combined-print-and-e-book-fiction</td>\n",
       "      <td>2018-12-22</td>\n",
       "    </tr>\n",
       "  </tbody>\n",
       "</table>\n",
       "</div>"
      ],
      "text/plain": [
       "            title  rank      publisher  weeks_on_list primary_isbn13  \\\n",
       "0   THE RECKONING     1      Doubleday              9  9780385544153   \n",
       "1    EVERY BREATH     2  Grand Central             10  9781538728529   \n",
       "2  FIRE AND BLOOD     3         Bantam              5  9781524796280   \n",
       "\n",
       "                           list_name bestsellers_date  \n",
       "0  combined-print-and-e-book-fiction       2018-12-22  \n",
       "1  combined-print-and-e-book-fiction       2018-12-22  \n",
       "2  combined-print-and-e-book-fiction       2018-12-22  "
      ]
     },
     "execution_count": 106,
     "metadata": {},
     "output_type": "execute_result"
    }
   ],
   "source": [
    "df.head(3)"
   ]
  },
  {
   "cell_type": "code",
   "execution_count": 111,
   "metadata": {},
   "outputs": [
    {
     "data": {
      "text/html": [
       "<div>\n",
       "<style scoped>\n",
       "    .dataframe tbody tr th:only-of-type {\n",
       "        vertical-align: middle;\n",
       "    }\n",
       "\n",
       "    .dataframe tbody tr th {\n",
       "        vertical-align: top;\n",
       "    }\n",
       "\n",
       "    .dataframe thead th {\n",
       "        text-align: right;\n",
       "    }\n",
       "</style>\n",
       "<table border=\"1\" class=\"dataframe\">\n",
       "  <thead>\n",
       "    <tr style=\"text-align: right;\">\n",
       "      <th></th>\n",
       "      <th>title</th>\n",
       "    </tr>\n",
       "  </thead>\n",
       "  <tbody>\n",
       "    <tr>\n",
       "      <th>0</th>\n",
       "      <td>the reckoning</td>\n",
       "    </tr>\n",
       "    <tr>\n",
       "      <th>1</th>\n",
       "      <td>every breath</td>\n",
       "    </tr>\n",
       "    <tr>\n",
       "      <th>2</th>\n",
       "      <td>fire and blood</td>\n",
       "    </tr>\n",
       "    <tr>\n",
       "      <th>3</th>\n",
       "      <td>where the crawdads sing</td>\n",
       "    </tr>\n",
       "    <tr>\n",
       "      <th>4</th>\n",
       "      <td>target: alex cross</td>\n",
       "    </tr>\n",
       "    <tr>\n",
       "      <th>...</th>\n",
       "      <td>...</td>\n",
       "    </tr>\n",
       "    <tr>\n",
       "      <th>3006</th>\n",
       "      <td>shooting iron</td>\n",
       "    </tr>\n",
       "    <tr>\n",
       "      <th>3007</th>\n",
       "      <td>in a holidaze</td>\n",
       "    </tr>\n",
       "    <tr>\n",
       "      <th>3008</th>\n",
       "      <td>collateral damage</td>\n",
       "    </tr>\n",
       "    <tr>\n",
       "      <th>3009</th>\n",
       "      <td>falling stars</td>\n",
       "    </tr>\n",
       "    <tr>\n",
       "      <th>3010</th>\n",
       "      <td>check &amp; mate</td>\n",
       "    </tr>\n",
       "  </tbody>\n",
       "</table>\n",
       "<p>3011 rows × 1 columns</p>\n",
       "</div>"
      ],
      "text/plain": [
       "                        title\n",
       "0               the reckoning\n",
       "1                every breath\n",
       "2              fire and blood\n",
       "3     where the crawdads sing\n",
       "4          target: alex cross\n",
       "...                       ...\n",
       "3006            shooting iron\n",
       "3007            in a holidaze\n",
       "3008        collateral damage\n",
       "3009            falling stars\n",
       "3010             check & mate\n",
       "\n",
       "[3011 rows x 1 columns]"
      ]
     },
     "execution_count": 111,
     "metadata": {},
     "output_type": "execute_result"
    }
   ],
   "source": [
    "title = {}\n",
    "title = df['title'].apply(lambda x: x.lower()).unique()\n",
    "title_df = pd.DataFrame(title,columns=['title'])\n",
    "title_df"
   ]
  },
  {
   "cell_type": "code",
   "execution_count": 110,
   "metadata": {},
   "outputs": [
    {
     "data": {
      "text/html": [
       "<div>\n",
       "<style scoped>\n",
       "    .dataframe tbody tr th:only-of-type {\n",
       "        vertical-align: middle;\n",
       "    }\n",
       "\n",
       "    .dataframe tbody tr th {\n",
       "        vertical-align: top;\n",
       "    }\n",
       "\n",
       "    .dataframe thead th {\n",
       "        text-align: right;\n",
       "    }\n",
       "</style>\n",
       "<table border=\"1\" class=\"dataframe\">\n",
       "  <thead>\n",
       "    <tr style=\"text-align: right;\">\n",
       "      <th></th>\n",
       "      <th>title</th>\n",
       "    </tr>\n",
       "  </thead>\n",
       "  <tbody>\n",
       "    <tr>\n",
       "      <th>0</th>\n",
       "      <td>the testaments</td>\n",
       "    </tr>\n",
       "    <tr>\n",
       "      <th>1</th>\n",
       "      <td>normal people</td>\n",
       "    </tr>\n",
       "    <tr>\n",
       "      <th>2</th>\n",
       "      <td>where the forest meets the stars</td>\n",
       "    </tr>\n",
       "    <tr>\n",
       "      <th>3</th>\n",
       "      <td>ask again, yes</td>\n",
       "    </tr>\n",
       "    <tr>\n",
       "      <th>4</th>\n",
       "      <td>queenie</td>\n",
       "    </tr>\n",
       "    <tr>\n",
       "      <th>...</th>\n",
       "      <td>...</td>\n",
       "    </tr>\n",
       "    <tr>\n",
       "      <th>1681</th>\n",
       "      <td>misfit: growing up awkward in the '80s</td>\n",
       "    </tr>\n",
       "    <tr>\n",
       "      <th>1682</th>\n",
       "      <td>unreliable narrator: me, myself, and impostor ...</td>\n",
       "    </tr>\n",
       "    <tr>\n",
       "      <th>1683</th>\n",
       "      <td>america the beautiful?: one woman in a borrowe...</td>\n",
       "    </tr>\n",
       "    <tr>\n",
       "      <th>1684</th>\n",
       "      <td>alexandra petri's us history: important americ...</td>\n",
       "    </tr>\n",
       "    <tr>\n",
       "      <th>1685</th>\n",
       "      <td>not funny: essays on life, comedy, culture, et...</td>\n",
       "    </tr>\n",
       "  </tbody>\n",
       "</table>\n",
       "<p>1686 rows × 1 columns</p>\n",
       "</div>"
      ],
      "text/plain": [
       "                                                  title\n",
       "0                                        the testaments\n",
       "1                                         normal people\n",
       "2                      where the forest meets the stars\n",
       "3                                        ask again, yes\n",
       "4                                               queenie\n",
       "...                                                 ...\n",
       "1681             misfit: growing up awkward in the '80s\n",
       "1682  unreliable narrator: me, myself, and impostor ...\n",
       "1683  america the beautiful?: one woman in a borrowe...\n",
       "1684  alexandra petri's us history: important americ...\n",
       "1685  not funny: essays on life, comedy, culture, et...\n",
       "\n",
       "[1686 rows x 1 columns]"
      ]
     },
     "execution_count": 110,
     "metadata": {},
     "output_type": "execute_result"
    }
   ],
   "source": [
    "# load book_info.csv\n",
    "book_info = pd.read_csv('../data/database/book_info.csv')\n",
    "book_titles = book_info['title'].apply(lambda x: x.lower()).unique()\n",
    "book_titles_df = pd.DataFrame(book_titles,columns=['title'])\n",
    "book_titles_df"
   ]
  },
  {
   "cell_type": "code",
   "execution_count": 113,
   "metadata": {},
   "outputs": [
    {
     "data": {
      "text/html": [
       "<div>\n",
       "<style scoped>\n",
       "    .dataframe tbody tr th:only-of-type {\n",
       "        vertical-align: middle;\n",
       "    }\n",
       "\n",
       "    .dataframe tbody tr th {\n",
       "        vertical-align: top;\n",
       "    }\n",
       "\n",
       "    .dataframe thead th {\n",
       "        text-align: right;\n",
       "    }\n",
       "</style>\n",
       "<table border=\"1\" class=\"dataframe\">\n",
       "  <thead>\n",
       "    <tr style=\"text-align: right;\">\n",
       "      <th></th>\n",
       "      <th>title</th>\n",
       "      <th>title_id</th>\n",
       "    </tr>\n",
       "  </thead>\n",
       "  <tbody>\n",
       "    <tr>\n",
       "      <th>0</th>\n",
       "      <td>the reckoning</td>\n",
       "      <td>1</td>\n",
       "    </tr>\n",
       "    <tr>\n",
       "      <th>1</th>\n",
       "      <td>every breath</td>\n",
       "      <td>2</td>\n",
       "    </tr>\n",
       "    <tr>\n",
       "      <th>2</th>\n",
       "      <td>fire and blood</td>\n",
       "      <td>3</td>\n",
       "    </tr>\n",
       "    <tr>\n",
       "      <th>3</th>\n",
       "      <td>where the crawdads sing</td>\n",
       "      <td>4</td>\n",
       "    </tr>\n",
       "    <tr>\n",
       "      <th>4</th>\n",
       "      <td>target: alex cross</td>\n",
       "      <td>5</td>\n",
       "    </tr>\n",
       "    <tr>\n",
       "      <th>...</th>\n",
       "      <td>...</td>\n",
       "      <td>...</td>\n",
       "    </tr>\n",
       "    <tr>\n",
       "      <th>4692</th>\n",
       "      <td>misfit: growing up awkward in the '80s</td>\n",
       "      <td>4693</td>\n",
       "    </tr>\n",
       "    <tr>\n",
       "      <th>4693</th>\n",
       "      <td>unreliable narrator: me, myself, and impostor ...</td>\n",
       "      <td>4694</td>\n",
       "    </tr>\n",
       "    <tr>\n",
       "      <th>4694</th>\n",
       "      <td>america the beautiful?: one woman in a borrowe...</td>\n",
       "      <td>4695</td>\n",
       "    </tr>\n",
       "    <tr>\n",
       "      <th>4695</th>\n",
       "      <td>alexandra petri's us history: important americ...</td>\n",
       "      <td>4696</td>\n",
       "    </tr>\n",
       "    <tr>\n",
       "      <th>4696</th>\n",
       "      <td>not funny: essays on life, comedy, culture, et...</td>\n",
       "      <td>4697</td>\n",
       "    </tr>\n",
       "  </tbody>\n",
       "</table>\n",
       "<p>4697 rows × 2 columns</p>\n",
       "</div>"
      ],
      "text/plain": [
       "                                                  title  title_id\n",
       "0                                         the reckoning         1\n",
       "1                                          every breath         2\n",
       "2                                        fire and blood         3\n",
       "3                               where the crawdads sing         4\n",
       "4                                    target: alex cross         5\n",
       "...                                                 ...       ...\n",
       "4692             misfit: growing up awkward in the '80s      4693\n",
       "4693  unreliable narrator: me, myself, and impostor ...      4694\n",
       "4694  america the beautiful?: one woman in a borrowe...      4695\n",
       "4695  alexandra petri's us history: important americ...      4696\n",
       "4696  not funny: essays on life, comedy, culture, et...      4697\n",
       "\n",
       "[4697 rows x 2 columns]"
      ]
     },
     "execution_count": 113,
     "metadata": {},
     "output_type": "execute_result"
    }
   ],
   "source": [
    "title_df = pd.concat([title_df,book_titles_df], ignore_index=True)\n",
    "title_df['title_id'] = range(1, len(title_df) + 1)\n",
    "title_df"
   ]
  },
  {
   "cell_type": "code",
   "execution_count": 116,
   "metadata": {},
   "outputs": [],
   "source": [
    "title_df.to_csv('../data/database/books_title.csv', index=False)"
   ]
  },
  {
   "cell_type": "code",
   "execution_count": 117,
   "metadata": {},
   "outputs": [
    {
     "data": {
      "text/html": [
       "<div>\n",
       "<style scoped>\n",
       "    .dataframe tbody tr th:only-of-type {\n",
       "        vertical-align: middle;\n",
       "    }\n",
       "\n",
       "    .dataframe tbody tr th {\n",
       "        vertical-align: top;\n",
       "    }\n",
       "\n",
       "    .dataframe thead th {\n",
       "        text-align: right;\n",
       "    }\n",
       "</style>\n",
       "<table border=\"1\" class=\"dataframe\">\n",
       "  <thead>\n",
       "    <tr style=\"text-align: right;\">\n",
       "      <th></th>\n",
       "      <th>list_name</th>\n",
       "      <th>list_id</th>\n",
       "    </tr>\n",
       "  </thead>\n",
       "  <tbody>\n",
       "    <tr>\n",
       "      <th>0</th>\n",
       "      <td>combined-print-and-e-book-fiction</td>\n",
       "      <td>1</td>\n",
       "    </tr>\n",
       "    <tr>\n",
       "      <th>1</th>\n",
       "      <td>combined-print-and-e-book-nonfiction</td>\n",
       "      <td>2</td>\n",
       "    </tr>\n",
       "    <tr>\n",
       "      <th>2</th>\n",
       "      <td>hardcover-fiction</td>\n",
       "      <td>3</td>\n",
       "    </tr>\n",
       "    <tr>\n",
       "      <th>3</th>\n",
       "      <td>hardcover-nonfiction</td>\n",
       "      <td>4</td>\n",
       "    </tr>\n",
       "    <tr>\n",
       "      <th>4</th>\n",
       "      <td>trade-fiction-paperback</td>\n",
       "      <td>5</td>\n",
       "    </tr>\n",
       "    <tr>\n",
       "      <th>5</th>\n",
       "      <td>paperback-nonfiction</td>\n",
       "      <td>6</td>\n",
       "    </tr>\n",
       "    <tr>\n",
       "      <th>6</th>\n",
       "      <td>advice-how-to-and-miscellaneous</td>\n",
       "      <td>7</td>\n",
       "    </tr>\n",
       "    <tr>\n",
       "      <th>7</th>\n",
       "      <td>childrens-middle-grade-hardcover</td>\n",
       "      <td>8</td>\n",
       "    </tr>\n",
       "    <tr>\n",
       "      <th>8</th>\n",
       "      <td>picture-books</td>\n",
       "      <td>9</td>\n",
       "    </tr>\n",
       "    <tr>\n",
       "      <th>9</th>\n",
       "      <td>series-books</td>\n",
       "      <td>10</td>\n",
       "    </tr>\n",
       "    <tr>\n",
       "      <th>10</th>\n",
       "      <td>young-adult-hardcover</td>\n",
       "      <td>11</td>\n",
       "    </tr>\n",
       "    <tr>\n",
       "      <th>11</th>\n",
       "      <td>audio-fiction</td>\n",
       "      <td>12</td>\n",
       "    </tr>\n",
       "    <tr>\n",
       "      <th>12</th>\n",
       "      <td>audio-nonfiction</td>\n",
       "      <td>13</td>\n",
       "    </tr>\n",
       "    <tr>\n",
       "      <th>13</th>\n",
       "      <td>business-books</td>\n",
       "      <td>14</td>\n",
       "    </tr>\n",
       "    <tr>\n",
       "      <th>14</th>\n",
       "      <td>science</td>\n",
       "      <td>15</td>\n",
       "    </tr>\n",
       "    <tr>\n",
       "      <th>15</th>\n",
       "      <td>sports</td>\n",
       "      <td>16</td>\n",
       "    </tr>\n",
       "    <tr>\n",
       "      <th>16</th>\n",
       "      <td>graphic-books-and-manga</td>\n",
       "      <td>17</td>\n",
       "    </tr>\n",
       "    <tr>\n",
       "      <th>17</th>\n",
       "      <td>mass-market-monthly</td>\n",
       "      <td>18</td>\n",
       "    </tr>\n",
       "    <tr>\n",
       "      <th>18</th>\n",
       "      <td>middle-grade-paperback-monthly</td>\n",
       "      <td>19</td>\n",
       "    </tr>\n",
       "    <tr>\n",
       "      <th>19</th>\n",
       "      <td>young-adult-paperback-monthly</td>\n",
       "      <td>20</td>\n",
       "    </tr>\n",
       "  </tbody>\n",
       "</table>\n",
       "</div>"
      ],
      "text/plain": [
       "                               list_name  list_id\n",
       "0      combined-print-and-e-book-fiction        1\n",
       "1   combined-print-and-e-book-nonfiction        2\n",
       "2                      hardcover-fiction        3\n",
       "3                   hardcover-nonfiction        4\n",
       "4                trade-fiction-paperback        5\n",
       "5                   paperback-nonfiction        6\n",
       "6        advice-how-to-and-miscellaneous        7\n",
       "7       childrens-middle-grade-hardcover        8\n",
       "8                          picture-books        9\n",
       "9                           series-books       10\n",
       "10                 young-adult-hardcover       11\n",
       "11                         audio-fiction       12\n",
       "12                      audio-nonfiction       13\n",
       "13                        business-books       14\n",
       "14                               science       15\n",
       "15                                sports       16\n",
       "16               graphic-books-and-manga       17\n",
       "17                   mass-market-monthly       18\n",
       "18        middle-grade-paperback-monthly       19\n",
       "19         young-adult-paperback-monthly       20"
      ]
     },
     "execution_count": 117,
     "metadata": {},
     "output_type": "execute_result"
    }
   ],
   "source": [
    "lists = {}\n",
    "lists = df['list_name'].unique()\n",
    "lists_df = pd.DataFrame(lists,columns=['list_name'])\n",
    "lists_df['list_id'] = range(1, len(lists_df) + 1)\n",
    "lists_df"
   ]
  },
  {
   "cell_type": "code",
   "execution_count": 118,
   "metadata": {},
   "outputs": [],
   "source": [
    "lists_df.to_csv('../data/database/lists_bestsellers.csv', index=False)"
   ]
  },
  {
   "cell_type": "markdown",
   "metadata": {},
   "source": [
    "# Mapping the title_id and list_id"
   ]
  },
  {
   "cell_type": "code",
   "execution_count": 119,
   "metadata": {},
   "outputs": [],
   "source": [
    "df['title2'] = df['title']\n",
    "df['title'] = df['title2'].apply(lambda x: x.lower())"
   ]
  },
  {
   "cell_type": "code",
   "execution_count": 120,
   "metadata": {},
   "outputs": [],
   "source": [
    "# Merging the DataFrames on 'title'\n",
    "df_merged = pd.merge(df, title_df, on='title', how='left')\n",
    "df_merged = pd.merge(df_merged, lists_df, on='list_name', how='left')"
   ]
  },
  {
   "cell_type": "code",
   "execution_count": 121,
   "metadata": {},
   "outputs": [
    {
     "data": {
      "text/plain": [
       "Index(['title', 'rank', 'publisher', 'weeks_on_list', 'primary_isbn13',\n",
       "       'list_name', 'bestsellers_date', 'title2', 'title_id', 'list_id'],\n",
       "      dtype='object')"
      ]
     },
     "execution_count": 121,
     "metadata": {},
     "output_type": "execute_result"
    }
   ],
   "source": [
    "df_merged.columns"
   ]
  },
  {
   "cell_type": "code",
   "execution_count": 122,
   "metadata": {},
   "outputs": [
    {
     "name": "stderr",
     "output_type": "stream",
     "text": [
      "C:\\Users\\54189\\AppData\\Local\\Temp\\ipykernel_17684\\1587937050.py:16: SettingWithCopyWarning: \n",
      "A value is trying to be set on a copy of a slice from a DataFrame\n",
      "\n",
      "See the caveats in the documentation: https://pandas.pydata.org/pandas-docs/stable/user_guide/indexing.html#returning-a-view-versus-a-copy\n",
      "  df.rename(columns=new_column_names, inplace=True)\n"
     ]
    },
    {
     "data": {
      "text/html": [
       "<div>\n",
       "<style scoped>\n",
       "    .dataframe tbody tr th:only-of-type {\n",
       "        vertical-align: middle;\n",
       "    }\n",
       "\n",
       "    .dataframe tbody tr th {\n",
       "        vertical-align: top;\n",
       "    }\n",
       "\n",
       "    .dataframe thead th {\n",
       "        text-align: right;\n",
       "    }\n",
       "</style>\n",
       "<table border=\"1\" class=\"dataframe\">\n",
       "  <thead>\n",
       "    <tr style=\"text-align: right;\">\n",
       "      <th></th>\n",
       "      <th>title_id</th>\n",
       "      <th>title</th>\n",
       "      <th>publisher</th>\n",
       "      <th>isbn</th>\n",
       "      <th>rank</th>\n",
       "      <th>weeks_on_list</th>\n",
       "      <th>list_id</th>\n",
       "      <th>bestsellers_date</th>\n",
       "    </tr>\n",
       "  </thead>\n",
       "  <tbody>\n",
       "    <tr>\n",
       "      <th>0</th>\n",
       "      <td>1</td>\n",
       "      <td>THE RECKONING</td>\n",
       "      <td>Doubleday</td>\n",
       "      <td>9780385544153</td>\n",
       "      <td>1</td>\n",
       "      <td>9</td>\n",
       "      <td>1</td>\n",
       "      <td>2018-12-22</td>\n",
       "    </tr>\n",
       "    <tr>\n",
       "      <th>1</th>\n",
       "      <td>2</td>\n",
       "      <td>EVERY BREATH</td>\n",
       "      <td>Grand Central</td>\n",
       "      <td>9781538728529</td>\n",
       "      <td>2</td>\n",
       "      <td>10</td>\n",
       "      <td>1</td>\n",
       "      <td>2018-12-22</td>\n",
       "    </tr>\n",
       "    <tr>\n",
       "      <th>2</th>\n",
       "      <td>3</td>\n",
       "      <td>FIRE AND BLOOD</td>\n",
       "      <td>Bantam</td>\n",
       "      <td>9781524796280</td>\n",
       "      <td>3</td>\n",
       "      <td>5</td>\n",
       "      <td>1</td>\n",
       "      <td>2018-12-22</td>\n",
       "    </tr>\n",
       "    <tr>\n",
       "      <th>3</th>\n",
       "      <td>4</td>\n",
       "      <td>WHERE THE CRAWDADS SING</td>\n",
       "      <td>Putnam</td>\n",
       "      <td>9780735219090</td>\n",
       "      <td>4</td>\n",
       "      <td>15</td>\n",
       "      <td>1</td>\n",
       "      <td>2018-12-22</td>\n",
       "    </tr>\n",
       "    <tr>\n",
       "      <th>4</th>\n",
       "      <td>5</td>\n",
       "      <td>TARGET: ALEX CROSS</td>\n",
       "      <td>Little, Brown</td>\n",
       "      <td>9780316273947</td>\n",
       "      <td>5</td>\n",
       "      <td>5</td>\n",
       "      <td>1</td>\n",
       "      <td>2018-12-22</td>\n",
       "    </tr>\n",
       "    <tr>\n",
       "      <th>...</th>\n",
       "      <td>...</td>\n",
       "      <td>...</td>\n",
       "      <td>...</td>\n",
       "      <td>...</td>\n",
       "      <td>...</td>\n",
       "      <td>...</td>\n",
       "      <td>...</td>\n",
       "      <td>...</td>\n",
       "    </tr>\n",
       "    <tr>\n",
       "      <th>16147</th>\n",
       "      <td>2962</td>\n",
       "      <td>THE HAUNTING</td>\n",
       "      <td>Delacorte</td>\n",
       "      <td>9780593481516</td>\n",
       "      <td>6</td>\n",
       "      <td>0</td>\n",
       "      <td>20</td>\n",
       "      <td>2023-11-18</td>\n",
       "    </tr>\n",
       "    <tr>\n",
       "      <th>16148</th>\n",
       "      <td>2904</td>\n",
       "      <td>A THOUSAND BOY KISSES</td>\n",
       "      <td>Bloom</td>\n",
       "      <td>9781728297088</td>\n",
       "      <td>7</td>\n",
       "      <td>0</td>\n",
       "      <td>20</td>\n",
       "      <td>2023-11-18</td>\n",
       "    </tr>\n",
       "    <tr>\n",
       "      <th>16149</th>\n",
       "      <td>2522</td>\n",
       "      <td>THE WAY I USED TO BE</td>\n",
       "      <td>Margaret K. McElderry</td>\n",
       "      <td>9781481449366</td>\n",
       "      <td>8</td>\n",
       "      <td>0</td>\n",
       "      <td>20</td>\n",
       "      <td>2023-11-18</td>\n",
       "    </tr>\n",
       "    <tr>\n",
       "      <th>16150</th>\n",
       "      <td>857</td>\n",
       "      <td>THE BOOK THIEF</td>\n",
       "      <td>Knopf</td>\n",
       "      <td>9780375842207</td>\n",
       "      <td>9</td>\n",
       "      <td>0</td>\n",
       "      <td>20</td>\n",
       "      <td>2023-11-18</td>\n",
       "    </tr>\n",
       "    <tr>\n",
       "      <th>16151</th>\n",
       "      <td>1132</td>\n",
       "      <td>SIX OF CROWS</td>\n",
       "      <td>Square Fish</td>\n",
       "      <td>9781250076960</td>\n",
       "      <td>10</td>\n",
       "      <td>0</td>\n",
       "      <td>20</td>\n",
       "      <td>2023-11-18</td>\n",
       "    </tr>\n",
       "  </tbody>\n",
       "</table>\n",
       "<p>16152 rows × 8 columns</p>\n",
       "</div>"
      ],
      "text/plain": [
       "       title_id                    title              publisher  \\\n",
       "0             1            THE RECKONING              Doubleday   \n",
       "1             2             EVERY BREATH          Grand Central   \n",
       "2             3           FIRE AND BLOOD                 Bantam   \n",
       "3             4  WHERE THE CRAWDADS SING                 Putnam   \n",
       "4             5       TARGET: ALEX CROSS          Little, Brown   \n",
       "...         ...                      ...                    ...   \n",
       "16147      2962             THE HAUNTING              Delacorte   \n",
       "16148      2904    A THOUSAND BOY KISSES                  Bloom   \n",
       "16149      2522     THE WAY I USED TO BE  Margaret K. McElderry   \n",
       "16150       857           THE BOOK THIEF                  Knopf   \n",
       "16151      1132             SIX OF CROWS            Square Fish   \n",
       "\n",
       "                isbn  rank  weeks_on_list  list_id bestsellers_date  \n",
       "0      9780385544153     1              9        1       2018-12-22  \n",
       "1      9781538728529     2             10        1       2018-12-22  \n",
       "2      9781524796280     3              5        1       2018-12-22  \n",
       "3      9780735219090     4             15        1       2018-12-22  \n",
       "4      9780316273947     5              5        1       2018-12-22  \n",
       "...              ...   ...            ...      ...              ...  \n",
       "16147  9780593481516     6              0       20       2023-11-18  \n",
       "16148  9781728297088     7              0       20       2023-11-18  \n",
       "16149  9781481449366     8              0       20       2023-11-18  \n",
       "16150  9780375842207     9              0       20       2023-11-18  \n",
       "16151  9781250076960    10              0       20       2023-11-18  \n",
       "\n",
       "[16152 rows x 8 columns]"
      ]
     },
     "execution_count": 122,
     "metadata": {},
     "output_type": "execute_result"
    }
   ],
   "source": [
    "df = df_merged[['title_id','title2','publisher','primary_isbn13','rank','weeks_on_list','list_id','bestsellers_date']]\n",
    "\n",
    "# Dictionary mapping old column names to new ones\n",
    "new_column_names = {\n",
    "    'title_id': 'title_id',\n",
    "    'title2': 'title',\n",
    "    'publisher': 'publisher',\n",
    "    'rank': 'rank',\n",
    "    'weeks_on_list': 'weeks_on_list',\n",
    "    'primary_isbn13': 'isbn',\n",
    "    'list_id': 'list_id',\n",
    "    'bestsellers_date': 'bestsellers_date'\n",
    "}\n",
    "\n",
    "# Rename the columns\n",
    "df.rename(columns=new_column_names, inplace=True)\n",
    "\n",
    "df"
   ]
  },
  {
   "cell_type": "code",
   "execution_count": 124,
   "metadata": {},
   "outputs": [],
   "source": [
    "# export as csv file\n",
    "df.to_csv('../data/database/bestsellers.csv', index=False)"
   ]
  }
 ],
 "metadata": {
  "kernelspec": {
   "display_name": "Python 3",
   "language": "python",
   "name": "python3"
  },
  "language_info": {
   "codemirror_mode": {
    "name": "ipython",
    "version": 3
   },
   "file_extension": ".py",
   "mimetype": "text/x-python",
   "name": "python",
   "nbconvert_exporter": "python",
   "pygments_lexer": "ipython3",
   "version": "3.12.0"
  }
 },
 "nbformat": 4,
 "nbformat_minor": 2
}
