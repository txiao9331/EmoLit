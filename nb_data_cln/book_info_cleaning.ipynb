{
 "cells": [
  {
   "cell_type": "code",
   "execution_count": 1,
   "metadata": {},
   "outputs": [],
   "source": [
    "import pandas as pd\n",
    "import ast\n",
    "import datetime\n",
    "import json"
   ]
  },
  {
   "cell_type": "markdown",
   "metadata": {},
   "source": [
    "# Load books info from csv files"
   ]
  },
  {
   "cell_type": "markdown",
   "metadata": {},
   "source": [
    "After checking the dfs, we can find that in \"bk_2019\",\"bk_2020\" and \"bk_2021\",the format of the cells in column \"genre\" looks like list but not actual list. So first of all, we need to convert them to list and then to strings."
   ]
  },
  {
   "cell_type": "code",
   "execution_count": 2,
   "metadata": {},
   "outputs": [],
   "source": [
    "# lists = {}\n",
    "# lists['genre']=bk_2019['genre']\n",
    "# df = pd.DataFrame(lists)\n",
    "# # convert the string representation of lists into actual lists\n",
    "# df['genre'] = df['genre'].apply(ast.literal_eval)\n",
    "# # join the lists into clean string\n",
    "# df['genre'] = df['genre'].apply(lambda x: ', '.join(x))\n",
    "# df\n",
    "# # print(df['genre'].apply(type))"
   ]
  },
  {
   "cell_type": "code",
   "execution_count": 3,
   "metadata": {},
   "outputs": [
    {
     "data": {
      "text/plain": [
       "(400, 12)"
      ]
     },
     "execution_count": 3,
     "metadata": {},
     "output_type": "execute_result"
    }
   ],
   "source": [
    "bk_2019 = pd.read_csv(\"../data/raw_data/books_2019_df.csv\")\n",
    "# convert the string representation of lists into actual lists\n",
    "bk_2019['genre'] = bk_2019['genre'].apply(ast.literal_eval)\n",
    "# join the lists into clean string\n",
    "bk_2019['genre'] = bk_2019['genre'].apply(lambda x: ', '.join(x))\n",
    "bk_2019.head(3)\n",
    "bk_2019.shape"
   ]
  },
  {
   "cell_type": "code",
   "execution_count": 4,
   "metadata": {},
   "outputs": [
    {
     "data": {
      "text/plain": [
       "(399, 12)"
      ]
     },
     "execution_count": 4,
     "metadata": {},
     "output_type": "execute_result"
    }
   ],
   "source": [
    "bk_2020 = pd.read_csv(\"../data/raw_data/books_2020_df.csv\")\n",
    "\n",
    "bk_2020['genre'] = bk_2020['genre'].apply(ast.literal_eval)\n",
    "bk_2020['genre'] = bk_2020['genre'].apply(lambda x: ', '.join(x))\n",
    "bk_2020.shape"
   ]
  },
  {
   "cell_type": "code",
   "execution_count": 5,
   "metadata": {},
   "outputs": [
    {
     "data": {
      "text/plain": [
       "(340, 12)"
      ]
     },
     "execution_count": 5,
     "metadata": {},
     "output_type": "execute_result"
    }
   ],
   "source": [
    "bk_2021 = pd.read_csv(\"../data/raw_data/books_2021_df.csv\")\n",
    "\n",
    "bk_2021['genre'] = bk_2021['genre'].apply(ast.literal_eval)\n",
    "bk_2021['genre'] = bk_2021['genre'].apply(lambda x: ', '.join(x))\n",
    "bk_2021.shape"
   ]
  },
  {
   "cell_type": "code",
   "execution_count": 6,
   "metadata": {},
   "outputs": [
    {
     "data": {
      "text/plain": [
       "(340, 12)"
      ]
     },
     "execution_count": 6,
     "metadata": {},
     "output_type": "execute_result"
    }
   ],
   "source": [
    "bk_2022 = pd.read_csv(\"../data/raw_data/books_2022_df.csv\")\n",
    "bk_2022.shape"
   ]
  },
  {
   "cell_type": "code",
   "execution_count": 7,
   "metadata": {},
   "outputs": [
    {
     "data": {
      "text/plain": [
       "(299, 12)"
      ]
     },
     "execution_count": 7,
     "metadata": {},
     "output_type": "execute_result"
    }
   ],
   "source": [
    "bk_2023 = pd.read_csv(\"../data/raw_data/books_2023_df.csv\")\n",
    "bk_2023.shape"
   ]
  },
  {
   "cell_type": "markdown",
   "metadata": {},
   "source": [
    "# Add column \"year\" for each df"
   ]
  },
  {
   "cell_type": "code",
   "execution_count": 8,
   "metadata": {},
   "outputs": [],
   "source": [
    "bk_2019['year'] = 2019\n",
    "bk_2020['year'] = 2020\n",
    "bk_2021['year'] = 2021\n",
    "bk_2022['year'] = 2022\n",
    "bk_2023['year'] = 2023"
   ]
  },
  {
   "cell_type": "markdown",
   "metadata": {},
   "source": [
    "# Add column \"award\" for each df"
   ]
  },
  {
   "cell_type": "code",
   "execution_count": 9,
   "metadata": {},
   "outputs": [],
   "source": [
    "# load award_category.json\n",
    "with open(\"../data/raw_data/award_category.json\", 'r') as file:\n",
    "    category = json.load(file)"
   ]
  },
  {
   "cell_type": "code",
   "execution_count": 10,
   "metadata": {},
   "outputs": [],
   "source": [
    "award_count_2019 = category['2019']\n",
    "award_count_2020 = category['2020']\n",
    "award_count_2021 = category['2021']\n",
    "award_count_2022 = category['2022']\n",
    "award_count_2023 = category['2023']"
   ]
  },
  {
   "cell_type": "code",
   "execution_count": 11,
   "metadata": {},
   "outputs": [],
   "source": [
    "def add_award(award_counts):\n",
    "    current_index = 0\n",
    "    categories = []\n",
    "    for category, count in award_counts.items():\n",
    "        categories += [category] * count  # Extend the list by repeating the category 'count' times\n",
    "        current_index += count\n",
    "    return categories"
   ]
  },
  {
   "cell_type": "code",
   "execution_count": 12,
   "metadata": {},
   "outputs": [],
   "source": [
    "bk_2019['award'] = add_award(award_count_2019)\n",
    "bk_2020['award'] = add_award(award_count_2020)\n",
    "bk_2021['award'] = add_award(award_count_2021)\n",
    "bk_2022['award'] = add_award(award_count_2022)\n",
    "bk_2023['award'] = add_award(award_count_2023)"
   ]
  },
  {
   "cell_type": "markdown",
   "metadata": {},
   "source": [
    "# Create an ensemble df"
   ]
  },
  {
   "cell_type": "code",
   "execution_count": 13,
   "metadata": {},
   "outputs": [
    {
     "data": {
      "text/plain": [
       "(1778, 14)"
      ]
     },
     "execution_count": 13,
     "metadata": {},
     "output_type": "execute_result"
    }
   ],
   "source": [
    "df = pd.concat([bk_2019,bk_2020,bk_2021,bk_2022,bk_2023], ignore_index=True)\n",
    "df.shape"
   ]
  },
  {
   "cell_type": "code",
   "execution_count": 14,
   "metadata": {},
   "outputs": [
    {
     "data": {
      "text/plain": [
       "Index(['title', 'ISBN', 'author', 'genre', 'rating', 'number_of_ratings',\n",
       "       'number_of_reviews', 'pages', 'format', 'publish info', 'description',\n",
       "       'Votes', 'year', 'award'],\n",
       "      dtype='object')"
      ]
     },
     "execution_count": 14,
     "metadata": {},
     "output_type": "execute_result"
    }
   ],
   "source": [
    "df.columns"
   ]
  },
  {
   "cell_type": "code",
   "execution_count": 15,
   "metadata": {},
   "outputs": [
    {
     "data": {
      "text/plain": [
       "title                0\n",
       "ISBN                 6\n",
       "author               0\n",
       "genre                0\n",
       "rating               0\n",
       "number_of_ratings    0\n",
       "number_of_reviews    0\n",
       "pages                8\n",
       "format               0\n",
       "publish info         0\n",
       "description          0\n",
       "Votes                0\n",
       "year                 0\n",
       "award                0\n",
       "dtype: int64"
      ]
     },
     "execution_count": 15,
     "metadata": {},
     "output_type": "execute_result"
    }
   ],
   "source": [
    "df.isna().sum()"
   ]
  },
  {
   "cell_type": "code",
   "execution_count": 16,
   "metadata": {},
   "outputs": [
    {
     "data": {
      "text/plain": [
       "0"
      ]
     },
     "execution_count": 16,
     "metadata": {},
     "output_type": "execute_result"
    }
   ],
   "source": [
    "df.duplicated().sum()"
   ]
  },
  {
   "cell_type": "code",
   "execution_count": 17,
   "metadata": {},
   "outputs": [
    {
     "data": {
      "text/plain": [
       "title                1687\n",
       "ISBN                   15\n",
       "author               1307\n",
       "genre                1605\n",
       "rating                241\n",
       "number_of_ratings    1685\n",
       "number_of_reviews    1616\n",
       "pages                 546\n",
       "format                  8\n",
       "publish info          411\n",
       "description          1690\n",
       "Votes                1691\n",
       "year                    5\n",
       "award                  89\n",
       "dtype: int64"
      ]
     },
     "execution_count": 17,
     "metadata": {},
     "output_type": "execute_result"
    }
   ],
   "source": [
    "df.nunique()"
   ]
  },
  {
   "cell_type": "markdown",
   "metadata": {},
   "source": [
    "# Cleaning Dataframe"
   ]
  },
  {
   "cell_type": "markdown",
   "metadata": {},
   "source": [
    "- drop column \"ISBN\"\n",
    "- We can see that most of the cells filled in the \"ISBN not found\", so we can drop it."
   ]
  },
  {
   "cell_type": "code",
   "execution_count": 18,
   "metadata": {},
   "outputs": [],
   "source": [
    "df = df.drop(columns=['ISBN'])"
   ]
  },
  {
   "cell_type": "code",
   "execution_count": 19,
   "metadata": {},
   "outputs": [
    {
     "data": {
      "text/html": [
       "<div>\n",
       "<style scoped>\n",
       "    .dataframe tbody tr th:only-of-type {\n",
       "        vertical-align: middle;\n",
       "    }\n",
       "\n",
       "    .dataframe tbody tr th {\n",
       "        vertical-align: top;\n",
       "    }\n",
       "\n",
       "    .dataframe thead th {\n",
       "        text-align: right;\n",
       "    }\n",
       "</style>\n",
       "<table border=\"1\" class=\"dataframe\">\n",
       "  <thead>\n",
       "    <tr style=\"text-align: right;\">\n",
       "      <th></th>\n",
       "      <th>title</th>\n",
       "      <th>author</th>\n",
       "      <th>genre</th>\n",
       "      <th>rating</th>\n",
       "      <th>number_of_ratings</th>\n",
       "      <th>number_of_reviews</th>\n",
       "      <th>pages</th>\n",
       "      <th>format</th>\n",
       "      <th>publish info</th>\n",
       "      <th>description</th>\n",
       "      <th>Votes</th>\n",
       "      <th>year</th>\n",
       "      <th>award</th>\n",
       "    </tr>\n",
       "  </thead>\n",
       "  <tbody>\n",
       "    <tr>\n",
       "      <th>0</th>\n",
       "      <td>The Testaments</td>\n",
       "      <td>Margaret Atwood</td>\n",
       "      <td>Fiction, Dystopia, Science Fiction, Feminism, ...</td>\n",
       "      <td>4.19</td>\n",
       "      <td>352440</td>\n",
       "      <td>31334</td>\n",
       "      <td>422.0</td>\n",
       "      <td>Hardcover</td>\n",
       "      <td>First published September 10, 2019</td>\n",
       "      <td>When the van door slammed on Offred's future a...</td>\n",
       "      <td>98291</td>\n",
       "      <td>2019</td>\n",
       "      <td>best-fiction-books-2019</td>\n",
       "    </tr>\n",
       "    <tr>\n",
       "      <th>1</th>\n",
       "      <td>Normal People</td>\n",
       "      <td>Sally Rooney</td>\n",
       "      <td>Fiction, Romance, Contemporary, Literary Ficti...</td>\n",
       "      <td>3.81</td>\n",
       "      <td>1388906</td>\n",
       "      <td>135364</td>\n",
       "      <td>273.0</td>\n",
       "      <td>Hardcover</td>\n",
       "      <td>First published August 28, 2018</td>\n",
       "      <td>At school Connell and Marianne pretend not to ...</td>\n",
       "      <td>40081</td>\n",
       "      <td>2019</td>\n",
       "      <td>best-fiction-books-2019</td>\n",
       "    </tr>\n",
       "    <tr>\n",
       "      <th>2</th>\n",
       "      <td>Where the Forest Meets the Stars</td>\n",
       "      <td>Glendy Vanderah</td>\n",
       "      <td>Fiction, Contemporary, Mystery, Romance, Fanta...</td>\n",
       "      <td>4.14</td>\n",
       "      <td>192265</td>\n",
       "      <td>16504</td>\n",
       "      <td>332.0</td>\n",
       "      <td>Hardcover</td>\n",
       "      <td>First published March 1, 2019</td>\n",
       "      <td>In this gorgeously stunning debut, a mysteriou...</td>\n",
       "      <td>29342</td>\n",
       "      <td>2019</td>\n",
       "      <td>best-fiction-books-2019</td>\n",
       "    </tr>\n",
       "  </tbody>\n",
       "</table>\n",
       "</div>"
      ],
      "text/plain": [
       "                              title           author  \\\n",
       "0                    The Testaments  Margaret Atwood   \n",
       "1                     Normal People     Sally Rooney   \n",
       "2  Where the Forest Meets the Stars  Glendy Vanderah   \n",
       "\n",
       "                                               genre rating number_of_ratings  \\\n",
       "0  Fiction, Dystopia, Science Fiction, Feminism, ...   4.19            352440   \n",
       "1  Fiction, Romance, Contemporary, Literary Ficti...   3.81           1388906   \n",
       "2  Fiction, Contemporary, Mystery, Romance, Fanta...   4.14            192265   \n",
       "\n",
       "  number_of_reviews  pages     format                        publish info  \\\n",
       "0             31334  422.0  Hardcover  First published September 10, 2019   \n",
       "1            135364  273.0  Hardcover     First published August 28, 2018   \n",
       "2             16504  332.0  Hardcover       First published March 1, 2019   \n",
       "\n",
       "                                         description  Votes  year  \\\n",
       "0  When the van door slammed on Offred's future a...  98291  2019   \n",
       "1  At school Connell and Marianne pretend not to ...  40081  2019   \n",
       "2  In this gorgeously stunning debut, a mysteriou...  29342  2019   \n",
       "\n",
       "                     award  \n",
       "0  best-fiction-books-2019  \n",
       "1  best-fiction-books-2019  \n",
       "2  best-fiction-books-2019  "
      ]
     },
     "execution_count": 19,
     "metadata": {},
     "output_type": "execute_result"
    }
   ],
   "source": [
    "df.head(3)"
   ]
  },
  {
   "cell_type": "markdown",
   "metadata": {},
   "source": [
    "- deal with column \"genre\"\n",
    "- extract the value of column and create a new df about genre of books"
   ]
  },
  {
   "cell_type": "code",
   "execution_count": 20,
   "metadata": {},
   "outputs": [],
   "source": [
    "# split the 'genre' strings into lists of individual genres\n",
    "genres_list = df['genre'].str.split(', ').explode().unique()\n",
    "\n",
    "# create a new DataFrame with unique genres as a category\n",
    "genres_df = pd.DataFrame(genres_list, columns=['genre'])\n",
    "\n",
    "# looks like there is an empty string, convert it to null value\n",
    "genres_df= genres_df.replace('', pd.NA).dropna(subset=['genre'])\n",
    "\n",
    "genres_df['id'] = range(1, len(genres_df) + 1)\n",
    "\n",
    "# change the order of columns\n",
    "genres_df = genres_df[['id','genre']]\n",
    "\n",
    "# export as csv file\n",
    "genres_df.to_csv('../data/database/book_genres.csv', index=False)"
   ]
  },
  {
   "cell_type": "markdown",
   "metadata": {},
   "source": [
    "- deal with column \"publish info\"\n",
    "- keep only the publish date and convert it to datetime type"
   ]
  },
  {
   "cell_type": "code",
   "execution_count": 21,
   "metadata": {},
   "outputs": [],
   "source": [
    "df['publish_date'] = df['publish info'].str.extract(r'(\\w+ \\d{1,2}, \\d{4})')\n",
    "df['publish_date'] = pd.to_datetime(df['publish_date'])\n",
    "\n",
    "# drop \"publish info\"\n",
    "df = df.drop(columns=['publish info'])"
   ]
  },
  {
   "cell_type": "markdown",
   "metadata": {},
   "source": [
    "- drop the rows with \"not found\""
   ]
  },
  {
   "cell_type": "code",
   "execution_count": 22,
   "metadata": {},
   "outputs": [
    {
     "data": {
      "text/html": [
       "<div>\n",
       "<style scoped>\n",
       "    .dataframe tbody tr th:only-of-type {\n",
       "        vertical-align: middle;\n",
       "    }\n",
       "\n",
       "    .dataframe tbody tr th {\n",
       "        vertical-align: top;\n",
       "    }\n",
       "\n",
       "    .dataframe thead th {\n",
       "        text-align: right;\n",
       "    }\n",
       "</style>\n",
       "<table border=\"1\" class=\"dataframe\">\n",
       "  <thead>\n",
       "    <tr style=\"text-align: right;\">\n",
       "      <th></th>\n",
       "      <th>title</th>\n",
       "      <th>author</th>\n",
       "      <th>genre</th>\n",
       "      <th>rating</th>\n",
       "      <th>number_of_ratings</th>\n",
       "      <th>number_of_reviews</th>\n",
       "      <th>pages</th>\n",
       "      <th>format</th>\n",
       "      <th>description</th>\n",
       "      <th>Votes</th>\n",
       "      <th>year</th>\n",
       "      <th>award</th>\n",
       "      <th>publish_date</th>\n",
       "    </tr>\n",
       "  </thead>\n",
       "  <tbody>\n",
       "    <tr>\n",
       "      <th>0</th>\n",
       "      <td>The Testaments</td>\n",
       "      <td>Margaret Atwood</td>\n",
       "      <td>Fiction, Dystopia, Science Fiction, Feminism, ...</td>\n",
       "      <td>4.19</td>\n",
       "      <td>352440</td>\n",
       "      <td>31334</td>\n",
       "      <td>422.0</td>\n",
       "      <td>Hardcover</td>\n",
       "      <td>When the van door slammed on Offred's future a...</td>\n",
       "      <td>98291</td>\n",
       "      <td>2019</td>\n",
       "      <td>best-fiction-books-2019</td>\n",
       "      <td>2019-09-10</td>\n",
       "    </tr>\n",
       "    <tr>\n",
       "      <th>1</th>\n",
       "      <td>Normal People</td>\n",
       "      <td>Sally Rooney</td>\n",
       "      <td>Fiction, Romance, Contemporary, Literary Ficti...</td>\n",
       "      <td>3.81</td>\n",
       "      <td>1388906</td>\n",
       "      <td>135364</td>\n",
       "      <td>273.0</td>\n",
       "      <td>Hardcover</td>\n",
       "      <td>At school Connell and Marianne pretend not to ...</td>\n",
       "      <td>40081</td>\n",
       "      <td>2019</td>\n",
       "      <td>best-fiction-books-2019</td>\n",
       "      <td>2018-08-28</td>\n",
       "    </tr>\n",
       "    <tr>\n",
       "      <th>2</th>\n",
       "      <td>Where the Forest Meets the Stars</td>\n",
       "      <td>Glendy Vanderah</td>\n",
       "      <td>Fiction, Contemporary, Mystery, Romance, Fanta...</td>\n",
       "      <td>4.14</td>\n",
       "      <td>192265</td>\n",
       "      <td>16504</td>\n",
       "      <td>332.0</td>\n",
       "      <td>Hardcover</td>\n",
       "      <td>In this gorgeously stunning debut, a mysteriou...</td>\n",
       "      <td>29342</td>\n",
       "      <td>2019</td>\n",
       "      <td>best-fiction-books-2019</td>\n",
       "      <td>2019-03-01</td>\n",
       "    </tr>\n",
       "  </tbody>\n",
       "</table>\n",
       "</div>"
      ],
      "text/plain": [
       "                              title           author  \\\n",
       "0                    The Testaments  Margaret Atwood   \n",
       "1                     Normal People     Sally Rooney   \n",
       "2  Where the Forest Meets the Stars  Glendy Vanderah   \n",
       "\n",
       "                                               genre rating number_of_ratings  \\\n",
       "0  Fiction, Dystopia, Science Fiction, Feminism, ...   4.19            352440   \n",
       "1  Fiction, Romance, Contemporary, Literary Ficti...   3.81           1388906   \n",
       "2  Fiction, Contemporary, Mystery, Romance, Fanta...   4.14            192265   \n",
       "\n",
       "  number_of_reviews  pages     format  \\\n",
       "0             31334  422.0  Hardcover   \n",
       "1            135364  273.0  Hardcover   \n",
       "2             16504  332.0  Hardcover   \n",
       "\n",
       "                                         description  Votes  year  \\\n",
       "0  When the van door slammed on Offred's future a...  98291  2019   \n",
       "1  At school Connell and Marianne pretend not to ...  40081  2019   \n",
       "2  In this gorgeously stunning debut, a mysteriou...  29342  2019   \n",
       "\n",
       "                     award publish_date  \n",
       "0  best-fiction-books-2019   2019-09-10  \n",
       "1  best-fiction-books-2019   2018-08-28  \n",
       "2  best-fiction-books-2019   2019-03-01  "
      ]
     },
     "execution_count": 22,
     "metadata": {},
     "output_type": "execute_result"
    }
   ],
   "source": [
    "df_filtered = df[df['number_of_ratings'] != 0]\n",
    "df_filtered.head(3)"
   ]
  },
  {
   "cell_type": "markdown",
   "metadata": {},
   "source": [
    "- format the names of columns"
   ]
  },
  {
   "cell_type": "code",
   "execution_count": 23,
   "metadata": {},
   "outputs": [
    {
     "data": {
      "text/html": [
       "<div>\n",
       "<style scoped>\n",
       "    .dataframe tbody tr th:only-of-type {\n",
       "        vertical-align: middle;\n",
       "    }\n",
       "\n",
       "    .dataframe tbody tr th {\n",
       "        vertical-align: top;\n",
       "    }\n",
       "\n",
       "    .dataframe thead th {\n",
       "        text-align: right;\n",
       "    }\n",
       "</style>\n",
       "<table border=\"1\" class=\"dataframe\">\n",
       "  <thead>\n",
       "    <tr style=\"text-align: right;\">\n",
       "      <th></th>\n",
       "      <th>title</th>\n",
       "      <th>author</th>\n",
       "      <th>genre</th>\n",
       "      <th>publish_date</th>\n",
       "      <th>pages</th>\n",
       "      <th>format</th>\n",
       "      <th>rating</th>\n",
       "      <th>rating_couunts</th>\n",
       "      <th>reviews_counts</th>\n",
       "      <th>votes</th>\n",
       "      <th>year</th>\n",
       "      <th>award</th>\n",
       "      <th>description</th>\n",
       "    </tr>\n",
       "  </thead>\n",
       "  <tbody>\n",
       "    <tr>\n",
       "      <th>0</th>\n",
       "      <td>The Testaments</td>\n",
       "      <td>Margaret Atwood</td>\n",
       "      <td>Fiction, Dystopia, Science Fiction, Feminism, ...</td>\n",
       "      <td>2019-09-10</td>\n",
       "      <td>422.0</td>\n",
       "      <td>Hardcover</td>\n",
       "      <td>4.19</td>\n",
       "      <td>352440</td>\n",
       "      <td>31334</td>\n",
       "      <td>98291</td>\n",
       "      <td>2019</td>\n",
       "      <td>best-fiction-books-2019</td>\n",
       "      <td>When the van door slammed on Offred's future a...</td>\n",
       "    </tr>\n",
       "    <tr>\n",
       "      <th>1</th>\n",
       "      <td>Normal People</td>\n",
       "      <td>Sally Rooney</td>\n",
       "      <td>Fiction, Romance, Contemporary, Literary Ficti...</td>\n",
       "      <td>2018-08-28</td>\n",
       "      <td>273.0</td>\n",
       "      <td>Hardcover</td>\n",
       "      <td>3.81</td>\n",
       "      <td>1388906</td>\n",
       "      <td>135364</td>\n",
       "      <td>40081</td>\n",
       "      <td>2019</td>\n",
       "      <td>best-fiction-books-2019</td>\n",
       "      <td>At school Connell and Marianne pretend not to ...</td>\n",
       "    </tr>\n",
       "    <tr>\n",
       "      <th>2</th>\n",
       "      <td>Where the Forest Meets the Stars</td>\n",
       "      <td>Glendy Vanderah</td>\n",
       "      <td>Fiction, Contemporary, Mystery, Romance, Fanta...</td>\n",
       "      <td>2019-03-01</td>\n",
       "      <td>332.0</td>\n",
       "      <td>Hardcover</td>\n",
       "      <td>4.14</td>\n",
       "      <td>192265</td>\n",
       "      <td>16504</td>\n",
       "      <td>29342</td>\n",
       "      <td>2019</td>\n",
       "      <td>best-fiction-books-2019</td>\n",
       "      <td>In this gorgeously stunning debut, a mysteriou...</td>\n",
       "    </tr>\n",
       "  </tbody>\n",
       "</table>\n",
       "</div>"
      ],
      "text/plain": [
       "                              title           author  \\\n",
       "0                    The Testaments  Margaret Atwood   \n",
       "1                     Normal People     Sally Rooney   \n",
       "2  Where the Forest Meets the Stars  Glendy Vanderah   \n",
       "\n",
       "                                               genre publish_date  pages  \\\n",
       "0  Fiction, Dystopia, Science Fiction, Feminism, ...   2019-09-10  422.0   \n",
       "1  Fiction, Romance, Contemporary, Literary Ficti...   2018-08-28  273.0   \n",
       "2  Fiction, Contemporary, Mystery, Romance, Fanta...   2019-03-01  332.0   \n",
       "\n",
       "      format rating rating_couunts reviews_counts  votes  year  \\\n",
       "0  Hardcover   4.19         352440          31334  98291  2019   \n",
       "1  Hardcover   3.81        1388906         135364  40081  2019   \n",
       "2  Hardcover   4.14         192265          16504  29342  2019   \n",
       "\n",
       "                     award                                        description  \n",
       "0  best-fiction-books-2019  When the van door slammed on Offred's future a...  \n",
       "1  best-fiction-books-2019  At school Connell and Marianne pretend not to ...  \n",
       "2  best-fiction-books-2019  In this gorgeously stunning debut, a mysteriou...  "
      ]
     },
     "execution_count": 23,
     "metadata": {},
     "output_type": "execute_result"
    }
   ],
   "source": [
    "# change the order of columns\n",
    "df_filtered = df_filtered[['title','author','genre','publish_date','pages','format','rating','number_of_ratings','number_of_reviews','Votes','year','award','description']]\n",
    "\n",
    "new_columns_name = {\n",
    "    'number_of_ratings':'rating_couunts',\n",
    "    'number_of_reviews':'reviews_counts',\n",
    "    'Votes':'votes'\n",
    "}\n",
    "\n",
    "df_filtered = df_filtered.rename(columns=new_columns_name)\n",
    "df_filtered.head(3)"
   ]
  },
  {
   "cell_type": "code",
   "execution_count": 24,
   "metadata": {},
   "outputs": [],
   "source": [
    "# export as csv file\n",
    "df_filtered.to_csv('../data/database/book_info.csv', index=False)"
   ]
  }
 ],
 "metadata": {
  "kernelspec": {
   "display_name": "Python 3",
   "language": "python",
   "name": "python3"
  },
  "language_info": {
   "codemirror_mode": {
    "name": "ipython",
    "version": 3
   },
   "file_extension": ".py",
   "mimetype": "text/x-python",
   "name": "python",
   "nbconvert_exporter": "python",
   "pygments_lexer": "ipython3",
   "version": "3.12.0"
  }
 },
 "nbformat": 4,
 "nbformat_minor": 2
}
