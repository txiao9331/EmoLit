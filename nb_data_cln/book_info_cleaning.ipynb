{
 "cells": [
  {
   "cell_type": "code",
   "execution_count": 125,
   "metadata": {},
   "outputs": [],
   "source": [
    "import pandas as pd\n",
    "import ast\n",
    "import datetime"
   ]
  },
  {
   "cell_type": "markdown",
   "metadata": {},
   "source": [
    "# Load books info from csv files"
   ]
  },
  {
   "cell_type": "markdown",
   "metadata": {},
   "source": [
    "After checking the dfs, we can find that in \"bk_2019\",\"bk_2020\" and \"bk_2021\",the format of the cells in column \"genre\" looks like list but not actual list. So first of all, we need to convert them to list and then to strings."
   ]
  },
  {
   "cell_type": "code",
   "execution_count": null,
   "metadata": {},
   "outputs": [],
   "source": [
    "lists = {}\n",
    "lists['genre']=bk_2019['genre']\n",
    "df = pd.DataFrame(lists)\n",
    "# convert the string representation of lists into actual lists\n",
    "df['genre'] = df['genre'].apply(ast.literal_eval)\n",
    "# join the lists into clean string\n",
    "df['genre'] = df['genre'].apply(lambda x: ', '.join(x))\n",
    "df\n",
    "# print(df['genre'].apply(type))"
   ]
  },
  {
   "cell_type": "code",
   "execution_count": 81,
   "metadata": {},
   "outputs": [
    {
     "data": {
      "text/plain": [
       "(400, 12)"
      ]
     },
     "execution_count": 81,
     "metadata": {},
     "output_type": "execute_result"
    }
   ],
   "source": [
    "bk_2019 = pd.read_csv(\"../data/raw_data/books_2019_df.csv\")\n",
    "# convert the string representation of lists into actual lists\n",
    "bk_2019['genre'] = bk_2019['genre'].apply(ast.literal_eval)\n",
    "# join the lists into clean string\n",
    "bk_2019['genre'] = bk_2019['genre'].apply(lambda x: ', '.join(x))\n",
    "bk_2019.head(3)\n",
    "bk_2019.shape"
   ]
  },
  {
   "cell_type": "code",
   "execution_count": 83,
   "metadata": {},
   "outputs": [
    {
     "data": {
      "text/plain": [
       "(399, 12)"
      ]
     },
     "execution_count": 83,
     "metadata": {},
     "output_type": "execute_result"
    }
   ],
   "source": [
    "bk_2020 = pd.read_csv(\"../data/raw_data/books_2020_df.csv\")\n",
    "\n",
    "bk_2020['genre'] = bk_2020['genre'].apply(ast.literal_eval)\n",
    "bk_2020['genre'] = bk_2020['genre'].apply(lambda x: ', '.join(x))\n",
    "bk_2020.shape"
   ]
  },
  {
   "cell_type": "code",
   "execution_count": 85,
   "metadata": {},
   "outputs": [
    {
     "data": {
      "text/plain": [
       "(340, 12)"
      ]
     },
     "execution_count": 85,
     "metadata": {},
     "output_type": "execute_result"
    }
   ],
   "source": [
    "bk_2021 = pd.read_csv(\"../data/raw_data/books_2021_df.csv\")\n",
    "bk_2021['genre'] = bk_2021['genre'].apply(ast.literal_eval)\n",
    "bk_2021['genre'] = bk_2021['genre'].apply(lambda x: ', '.join(x))\n",
    "bk_2021.shape"
   ]
  },
  {
   "cell_type": "code",
   "execution_count": 86,
   "metadata": {},
   "outputs": [
    {
     "data": {
      "text/plain": [
       "(340, 12)"
      ]
     },
     "execution_count": 86,
     "metadata": {},
     "output_type": "execute_result"
    }
   ],
   "source": [
    "bk_2022 = pd.read_csv(\"../data/raw_data/books_2022_df.csv\")\n",
    "bk_2022.shape"
   ]
  },
  {
   "cell_type": "code",
   "execution_count": 87,
   "metadata": {},
   "outputs": [
    {
     "data": {
      "text/plain": [
       "(299, 12)"
      ]
     },
     "execution_count": 87,
     "metadata": {},
     "output_type": "execute_result"
    }
   ],
   "source": [
    "bk_2023 = pd.read_csv(\"../data/raw_data/books_2023_df.csv\")\n",
    "bk_2023.shape"
   ]
  },
  {
   "cell_type": "markdown",
   "metadata": {},
   "source": [
    "# Add column [\"year\"] for each df"
   ]
  },
  {
   "cell_type": "code",
   "execution_count": 88,
   "metadata": {},
   "outputs": [],
   "source": [
    "bk_2019['year'] = 2019\n",
    "bk_2020['year'] = 2020\n",
    "bk_2021['year'] = 2021\n",
    "bk_2022['year'] = 2022\n",
    "bk_2023['year'] = 2023"
   ]
  },
  {
   "cell_type": "markdown",
   "metadata": {},
   "source": [
    "# Create an ensemble df"
   ]
  },
  {
   "cell_type": "code",
   "execution_count": 135,
   "metadata": {},
   "outputs": [
    {
     "data": {
      "text/plain": [
       "(1778, 13)"
      ]
     },
     "execution_count": 135,
     "metadata": {},
     "output_type": "execute_result"
    }
   ],
   "source": [
    "df = pd.concat([bk_2019,bk_2020,bk_2021,bk_2022,bk_2023], ignore_index=True)\n",
    "df.shape"
   ]
  },
  {
   "cell_type": "code",
   "execution_count": 136,
   "metadata": {},
   "outputs": [
    {
     "data": {
      "text/plain": [
       "Index(['title', 'ISBN', 'author', 'genre', 'rating', 'number_of_ratings',\n",
       "       'number_of_reviews', 'pages', 'format', 'publish info', 'description',\n",
       "       'Votes', 'year'],\n",
       "      dtype='object')"
      ]
     },
     "execution_count": 136,
     "metadata": {},
     "output_type": "execute_result"
    }
   ],
   "source": [
    "df.columns"
   ]
  },
  {
   "cell_type": "code",
   "execution_count": 137,
   "metadata": {},
   "outputs": [
    {
     "data": {
      "text/plain": [
       "title                0\n",
       "ISBN                 6\n",
       "author               0\n",
       "genre                0\n",
       "rating               0\n",
       "number_of_ratings    0\n",
       "number_of_reviews    0\n",
       "pages                8\n",
       "format               0\n",
       "publish info         0\n",
       "description          0\n",
       "Votes                0\n",
       "year                 0\n",
       "dtype: int64"
      ]
     },
     "execution_count": 137,
     "metadata": {},
     "output_type": "execute_result"
    }
   ],
   "source": [
    "df.isna().sum()"
   ]
  },
  {
   "cell_type": "code",
   "execution_count": 138,
   "metadata": {},
   "outputs": [
    {
     "data": {
      "text/plain": [
       "0"
      ]
     },
     "execution_count": 138,
     "metadata": {},
     "output_type": "execute_result"
    }
   ],
   "source": [
    "df.duplicated().sum()"
   ]
  },
  {
   "cell_type": "code",
   "execution_count": 139,
   "metadata": {},
   "outputs": [
    {
     "data": {
      "text/plain": [
       "title                1687\n",
       "ISBN                   15\n",
       "author               1307\n",
       "genre                1605\n",
       "rating                241\n",
       "number_of_ratings    1685\n",
       "number_of_reviews    1616\n",
       "pages                 546\n",
       "format                  8\n",
       "publish info          411\n",
       "description          1690\n",
       "Votes                1691\n",
       "year                    5\n",
       "dtype: int64"
      ]
     },
     "execution_count": 139,
     "metadata": {},
     "output_type": "execute_result"
    }
   ],
   "source": [
    "df.nunique()"
   ]
  },
  {
   "cell_type": "markdown",
   "metadata": {},
   "source": [
    "# Cleaning Dataframe"
   ]
  },
  {
   "cell_type": "markdown",
   "metadata": {},
   "source": [
    "- drop column \"ISBN\"\n",
    "- We can see that most of the cells filled in the \"ISBN not found\", so we can drop it."
   ]
  },
  {
   "cell_type": "code",
   "execution_count": 140,
   "metadata": {},
   "outputs": [],
   "source": [
    "df = df.drop(columns=['ISBN'])"
   ]
  },
  {
   "cell_type": "code",
   "execution_count": 141,
   "metadata": {},
   "outputs": [
    {
     "data": {
      "text/html": [
       "<div>\n",
       "<style scoped>\n",
       "    .dataframe tbody tr th:only-of-type {\n",
       "        vertical-align: middle;\n",
       "    }\n",
       "\n",
       "    .dataframe tbody tr th {\n",
       "        vertical-align: top;\n",
       "    }\n",
       "\n",
       "    .dataframe thead th {\n",
       "        text-align: right;\n",
       "    }\n",
       "</style>\n",
       "<table border=\"1\" class=\"dataframe\">\n",
       "  <thead>\n",
       "    <tr style=\"text-align: right;\">\n",
       "      <th></th>\n",
       "      <th>title</th>\n",
       "      <th>author</th>\n",
       "      <th>genre</th>\n",
       "      <th>rating</th>\n",
       "      <th>number_of_ratings</th>\n",
       "      <th>number_of_reviews</th>\n",
       "      <th>pages</th>\n",
       "      <th>format</th>\n",
       "      <th>publish info</th>\n",
       "      <th>description</th>\n",
       "      <th>Votes</th>\n",
       "      <th>year</th>\n",
       "    </tr>\n",
       "  </thead>\n",
       "  <tbody>\n",
       "    <tr>\n",
       "      <th>0</th>\n",
       "      <td>The Testaments</td>\n",
       "      <td>Margaret Atwood</td>\n",
       "      <td>Fiction, Dystopia, Science Fiction, Feminism, ...</td>\n",
       "      <td>4.19</td>\n",
       "      <td>352440</td>\n",
       "      <td>31334</td>\n",
       "      <td>422.0</td>\n",
       "      <td>Hardcover</td>\n",
       "      <td>First published September 10, 2019</td>\n",
       "      <td>When the van door slammed on Offred's future a...</td>\n",
       "      <td>98291</td>\n",
       "      <td>2019</td>\n",
       "    </tr>\n",
       "    <tr>\n",
       "      <th>1</th>\n",
       "      <td>Normal People</td>\n",
       "      <td>Sally Rooney</td>\n",
       "      <td>Fiction, Romance, Contemporary, Literary Ficti...</td>\n",
       "      <td>3.81</td>\n",
       "      <td>1388906</td>\n",
       "      <td>135364</td>\n",
       "      <td>273.0</td>\n",
       "      <td>Hardcover</td>\n",
       "      <td>First published August 28, 2018</td>\n",
       "      <td>At school Connell and Marianne pretend not to ...</td>\n",
       "      <td>40081</td>\n",
       "      <td>2019</td>\n",
       "    </tr>\n",
       "    <tr>\n",
       "      <th>2</th>\n",
       "      <td>Where the Forest Meets the Stars</td>\n",
       "      <td>Glendy Vanderah</td>\n",
       "      <td>Fiction, Contemporary, Mystery, Romance, Fanta...</td>\n",
       "      <td>4.14</td>\n",
       "      <td>192265</td>\n",
       "      <td>16504</td>\n",
       "      <td>332.0</td>\n",
       "      <td>Hardcover</td>\n",
       "      <td>First published March 1, 2019</td>\n",
       "      <td>In this gorgeously stunning debut, a mysteriou...</td>\n",
       "      <td>29342</td>\n",
       "      <td>2019</td>\n",
       "    </tr>\n",
       "  </tbody>\n",
       "</table>\n",
       "</div>"
      ],
      "text/plain": [
       "                              title           author  \\\n",
       "0                    The Testaments  Margaret Atwood   \n",
       "1                     Normal People     Sally Rooney   \n",
       "2  Where the Forest Meets the Stars  Glendy Vanderah   \n",
       "\n",
       "                                               genre rating number_of_ratings  \\\n",
       "0  Fiction, Dystopia, Science Fiction, Feminism, ...   4.19            352440   \n",
       "1  Fiction, Romance, Contemporary, Literary Ficti...   3.81           1388906   \n",
       "2  Fiction, Contemporary, Mystery, Romance, Fanta...   4.14            192265   \n",
       "\n",
       "  number_of_reviews  pages     format                        publish info  \\\n",
       "0             31334  422.0  Hardcover  First published September 10, 2019   \n",
       "1            135364  273.0  Hardcover     First published August 28, 2018   \n",
       "2             16504  332.0  Hardcover       First published March 1, 2019   \n",
       "\n",
       "                                         description  Votes  year  \n",
       "0  When the van door slammed on Offred's future a...  98291  2019  \n",
       "1  At school Connell and Marianne pretend not to ...  40081  2019  \n",
       "2  In this gorgeously stunning debut, a mysteriou...  29342  2019  "
      ]
     },
     "execution_count": 141,
     "metadata": {},
     "output_type": "execute_result"
    }
   ],
   "source": [
    "df.head(3)"
   ]
  },
  {
   "cell_type": "markdown",
   "metadata": {},
   "source": [
    "- deal with column \"genre\"\n",
    "- extract the value of column and create a new df about genre of books"
   ]
  },
  {
   "cell_type": "code",
   "execution_count": 142,
   "metadata": {},
   "outputs": [],
   "source": [
    "# split the 'genre' strings into lists of individual genres\n",
    "genres_list = df['genre'].str.split(', ').explode().unique()\n",
    "\n",
    "# create a new DataFrame with unique genres as a category\n",
    "genres_df = pd.DataFrame(genres_list, columns=['genre'])\n",
    "\n",
    "# looks like there is an empty string, convert it to null value\n",
    "genres_df= genres_df.replace('', pd.NA).dropna(subset=['genre'])\n",
    "\n",
    "genres_df['id'] = range(1, len(genres_df) + 1)\n",
    "\n",
    "# change the order of columns\n",
    "genres_df = genres_df[['id','genre']]\n",
    "\n",
    "# export as csv file\n",
    "genres_df.to_csv('../data/database/book_genres.csv', index=False)"
   ]
  },
  {
   "cell_type": "markdown",
   "metadata": {},
   "source": [
    "- deal with column \"publish info\"\n",
    "- keep only the publish date and convert it to datetime type"
   ]
  },
  {
   "cell_type": "code",
   "execution_count": 143,
   "metadata": {},
   "outputs": [],
   "source": [
    "df['publish_date'] = df['publish info'].str.extract(r'(\\w+ \\d{1,2}, \\d{4})')\n",
    "df['publish_date'] = pd.to_datetime(df['publish_date'])\n",
    "\n",
    "# drop \"publish info\"\n",
    "df = df.drop(columns=['publish info'])"
   ]
  },
  {
   "cell_type": "markdown",
   "metadata": {},
   "source": [
    "- drop the rows with \"not found\""
   ]
  },
  {
   "cell_type": "code",
   "execution_count": 145,
   "metadata": {},
   "outputs": [
    {
     "data": {
      "text/plain": [
       "<bound method IndexOpsMixin.value_counts of 0       4.19\n",
       "1       3.81\n",
       "2       4.14\n",
       "3       3.94\n",
       "4       3.86\n",
       "        ... \n",
       "1773    4.16\n",
       "1774    3.64\n",
       "1775    3.79\n",
       "1776     3.7\n",
       "1777    3.74\n",
       "Name: rating, Length: 1778, dtype: object>"
      ]
     },
     "execution_count": 145,
     "metadata": {},
     "output_type": "execute_result"
    }
   ],
   "source": [
    "df['rating'].value_counts"
   ]
  },
  {
   "cell_type": "markdown",
   "metadata": {},
   "source": [
    "- format the names of columns"
   ]
  },
  {
   "cell_type": "code",
   "execution_count": 134,
   "metadata": {},
   "outputs": [
    {
     "data": {
      "text/html": [
       "<div>\n",
       "<style scoped>\n",
       "    .dataframe tbody tr th:only-of-type {\n",
       "        vertical-align: middle;\n",
       "    }\n",
       "\n",
       "    .dataframe tbody tr th {\n",
       "        vertical-align: top;\n",
       "    }\n",
       "\n",
       "    .dataframe thead th {\n",
       "        text-align: right;\n",
       "    }\n",
       "</style>\n",
       "<table border=\"1\" class=\"dataframe\">\n",
       "  <thead>\n",
       "    <tr style=\"text-align: right;\">\n",
       "      <th></th>\n",
       "      <th>title</th>\n",
       "      <th>author</th>\n",
       "      <th>genre</th>\n",
       "      <th>rating</th>\n",
       "      <th>number_of_ratings</th>\n",
       "      <th>number_of_reviews</th>\n",
       "      <th>pages</th>\n",
       "      <th>format</th>\n",
       "      <th>description</th>\n",
       "      <th>Votes</th>\n",
       "      <th>year</th>\n",
       "      <th>publish_date</th>\n",
       "    </tr>\n",
       "  </thead>\n",
       "  <tbody>\n",
       "    <tr>\n",
       "      <th>0</th>\n",
       "      <td>The Testaments</td>\n",
       "      <td>Margaret Atwood</td>\n",
       "      <td>Fiction, Dystopia, Science Fiction, Feminism, ...</td>\n",
       "      <td>4.19</td>\n",
       "      <td>352440</td>\n",
       "      <td>31334</td>\n",
       "      <td>422.0</td>\n",
       "      <td>Hardcover</td>\n",
       "      <td>When the van door slammed on Offred's future a...</td>\n",
       "      <td>98291</td>\n",
       "      <td>2019</td>\n",
       "      <td>2019-09-10</td>\n",
       "    </tr>\n",
       "    <tr>\n",
       "      <th>1</th>\n",
       "      <td>Normal People</td>\n",
       "      <td>Sally Rooney</td>\n",
       "      <td>Fiction, Romance, Contemporary, Literary Ficti...</td>\n",
       "      <td>3.81</td>\n",
       "      <td>1388906</td>\n",
       "      <td>135364</td>\n",
       "      <td>273.0</td>\n",
       "      <td>Hardcover</td>\n",
       "      <td>At school Connell and Marianne pretend not to ...</td>\n",
       "      <td>40081</td>\n",
       "      <td>2019</td>\n",
       "      <td>2018-08-28</td>\n",
       "    </tr>\n",
       "    <tr>\n",
       "      <th>2</th>\n",
       "      <td>Where the Forest Meets the Stars</td>\n",
       "      <td>Glendy Vanderah</td>\n",
       "      <td>Fiction, Contemporary, Mystery, Romance, Fanta...</td>\n",
       "      <td>4.14</td>\n",
       "      <td>192265</td>\n",
       "      <td>16504</td>\n",
       "      <td>332.0</td>\n",
       "      <td>Hardcover</td>\n",
       "      <td>In this gorgeously stunning debut, a mysteriou...</td>\n",
       "      <td>29342</td>\n",
       "      <td>2019</td>\n",
       "      <td>2019-03-01</td>\n",
       "    </tr>\n",
       "    <tr>\n",
       "      <th>3</th>\n",
       "      <td>Ask Again, Yes</td>\n",
       "      <td>Mary Beth Keane</td>\n",
       "      <td>Fiction, Contemporary, Audiobook, Literary Fic...</td>\n",
       "      <td>3.94</td>\n",
       "      <td>192485</td>\n",
       "      <td>16702</td>\n",
       "      <td>388.0</td>\n",
       "      <td>Hardcover</td>\n",
       "      <td>Francis Gleeson and Brian Stanhope, two rookie...</td>\n",
       "      <td>26653</td>\n",
       "      <td>2019</td>\n",
       "      <td>2019-05-28</td>\n",
       "    </tr>\n",
       "    <tr>\n",
       "      <th>4</th>\n",
       "      <td>Queenie</td>\n",
       "      <td>Candice Carty-Williams</td>\n",
       "      <td>Fiction, Contemporary, Audiobook, Adult, Menta...</td>\n",
       "      <td>3.86</td>\n",
       "      <td>142313</td>\n",
       "      <td>13672</td>\n",
       "      <td>330.0</td>\n",
       "      <td>Hardcover</td>\n",
       "      <td>Bridget Jones’s Diary meets Americanah in this...</td>\n",
       "      <td>21524</td>\n",
       "      <td>2019</td>\n",
       "      <td>2019-03-19</td>\n",
       "    </tr>\n",
       "  </tbody>\n",
       "</table>\n",
       "</div>"
      ],
      "text/plain": [
       "                              title                  author  \\\n",
       "0                    The Testaments         Margaret Atwood   \n",
       "1                     Normal People            Sally Rooney   \n",
       "2  Where the Forest Meets the Stars         Glendy Vanderah   \n",
       "3                    Ask Again, Yes         Mary Beth Keane   \n",
       "4                           Queenie  Candice Carty-Williams   \n",
       "\n",
       "                                               genre rating number_of_ratings  \\\n",
       "0  Fiction, Dystopia, Science Fiction, Feminism, ...   4.19            352440   \n",
       "1  Fiction, Romance, Contemporary, Literary Ficti...   3.81           1388906   \n",
       "2  Fiction, Contemporary, Mystery, Romance, Fanta...   4.14            192265   \n",
       "3  Fiction, Contemporary, Audiobook, Literary Fic...   3.94            192485   \n",
       "4  Fiction, Contemporary, Audiobook, Adult, Menta...   3.86            142313   \n",
       "\n",
       "  number_of_reviews  pages     format  \\\n",
       "0             31334  422.0  Hardcover   \n",
       "1            135364  273.0  Hardcover   \n",
       "2             16504  332.0  Hardcover   \n",
       "3             16702  388.0  Hardcover   \n",
       "4             13672  330.0  Hardcover   \n",
       "\n",
       "                                         description  Votes  year publish_date  \n",
       "0  When the van door slammed on Offred's future a...  98291  2019   2019-09-10  \n",
       "1  At school Connell and Marianne pretend not to ...  40081  2019   2018-08-28  \n",
       "2  In this gorgeously stunning debut, a mysteriou...  29342  2019   2019-03-01  \n",
       "3  Francis Gleeson and Brian Stanhope, two rookie...  26653  2019   2019-05-28  \n",
       "4  Bridget Jones’s Diary meets Americanah in this...  21524  2019   2019-03-19  "
      ]
     },
     "execution_count": 134,
     "metadata": {},
     "output_type": "execute_result"
    }
   ],
   "source": [
    "# change the order of columns"
   ]
  },
  {
   "cell_type": "code",
   "execution_count": 146,
   "metadata": {},
   "outputs": [],
   "source": [
    "# export as csv file\n",
    "df.to_csv('../data/database/book_info.csv', index=False)"
   ]
  }
 ],
 "metadata": {
  "kernelspec": {
   "display_name": "Python 3",
   "language": "python",
   "name": "python3"
  },
  "language_info": {
   "codemirror_mode": {
    "name": "ipython",
    "version": 3
   },
   "file_extension": ".py",
   "mimetype": "text/x-python",
   "name": "python",
   "nbconvert_exporter": "python",
   "pygments_lexer": "ipython3",
   "version": "3.12.0"
  }
 },
 "nbformat": 4,
 "nbformat_minor": 2
}
