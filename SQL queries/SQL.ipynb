{
 "cells": [
  {
   "cell_type": "code",
   "execution_count": 1,
   "metadata": {},
   "outputs": [],
   "source": [
    "import pandas as pd\n",
    "from sqlalchemy import create_engine,text\n",
    "import pymysql.cursors\n",
    "import os\n",
    "# import getpass\n",
    "import urllib.parse"
   ]
  },
  {
   "cell_type": "code",
   "execution_count": 2,
   "metadata": {},
   "outputs": [],
   "source": [
    "pw_raw = os.getenv('mysql_xt')   # change it with your sql name\n",
    "pw = urllib.parse.quote_plus(pw_raw)"
   ]
  },
  {
   "cell_type": "markdown",
   "metadata": {},
   "source": [
    "# Export dataset to MySQL"
   ]
  },
  {
   "cell_type": "code",
   "execution_count": 3,
   "metadata": {},
   "outputs": [],
   "source": [
    "connection_string = 'mysql+pymysql://root:' + pw + '@127.0.0.1:3306/'\n",
    "engine = create_engine(connection_string)"
   ]
  },
  {
   "cell_type": "code",
   "execution_count": 4,
   "metadata": {},
   "outputs": [],
   "source": [
    "with engine.connect() as conn:\n",
    "    conn.execute(text(\"CREATE DATABASE IF NOT EXISTS yourdatabase\"))"
   ]
  },
  {
   "cell_type": "code",
   "execution_count": 5,
   "metadata": {},
   "outputs": [
    {
     "name": "stderr",
     "output_type": "stream",
     "text": [
      "C:\\Users\\54189\\AppData\\Local\\Temp\\ipykernel_22396\\3423962040.py:2: FutureWarning: Starting with pandas version 3.0 all arguments of to_sql except for the arguments 'name' and 'con' will be keyword-only.\n",
      "  bestsellers.to_sql('bestsellers',engine, 'LittMental', if_exists='replace', index=False)\n"
     ]
    },
    {
     "data": {
      "text/plain": [
       "16152"
      ]
     },
     "execution_count": 5,
     "metadata": {},
     "output_type": "execute_result"
    }
   ],
   "source": [
    "bestsellers=pd.read_csv('../data/database/bestsellers.csv')\n",
    "bestsellers.to_sql('bestsellers',engine, 'LittMental', if_exists='replace', index=False)"
   ]
  },
  {
   "cell_type": "code",
   "execution_count": null,
   "metadata": {},
   "outputs": [],
   "source": [
    "choice_award=pd.read_csv('../data/database/choice_award.csv')\n",
    "choice_award.to_sql('choice_award',engine, 'LittMental', if_exists='replace', index=False)"
   ]
  },
  {
   "cell_type": "code",
   "execution_count": 7,
   "metadata": {},
   "outputs": [
    {
     "name": "stderr",
     "output_type": "stream",
     "text": [
      "C:\\Users\\54189\\AppData\\Local\\Temp\\ipykernel_22396\\494640734.py:2: FutureWarning: Starting with pandas version 3.0 all arguments of to_sql except for the arguments 'name' and 'con' will be keyword-only.\n",
      "  book_info.to_sql('book_info',engine, 'LittMental', if_exists='replace', index=False)\n"
     ]
    },
    {
     "data": {
      "text/plain": [
       "1772"
      ]
     },
     "execution_count": 7,
     "metadata": {},
     "output_type": "execute_result"
    }
   ],
   "source": [
    "book_info=pd.read_csv('../data/database/book_info.csv')\n",
    "book_info.to_sql('book_info',engine, 'LittMental', if_exists='replace', index=False)"
   ]
  },
  {
   "cell_type": "code",
   "execution_count": 8,
   "metadata": {},
   "outputs": [
    {
     "name": "stderr",
     "output_type": "stream",
     "text": [
      "C:\\Users\\54189\\AppData\\Local\\Temp\\ipykernel_12944\\2150710463.py:2: FutureWarning: Starting with pandas version 3.0 all arguments of to_sql except for the arguments 'name' and 'con' will be keyword-only.\n",
      "  books_title.to_sql('books_title',engine, 'LittMental', if_exists='replace', index=False)\n"
     ]
    },
    {
     "data": {
      "text/plain": [
       "4697"
      ]
     },
     "execution_count": 8,
     "metadata": {},
     "output_type": "execute_result"
    }
   ],
   "source": [
    "books_title=pd.read_csv('../data/database/books_title.csv')\n",
    "books_title.to_sql('books_title',engine, 'LittMental', if_exists='replace', index=False)"
   ]
  },
  {
   "cell_type": "code",
   "execution_count": 9,
   "metadata": {},
   "outputs": [
    {
     "name": "stderr",
     "output_type": "stream",
     "text": [
      "C:\\Users\\54189\\AppData\\Local\\Temp\\ipykernel_12944\\3839398385.py:2: FutureWarning: Starting with pandas version 3.0 all arguments of to_sql except for the arguments 'name' and 'con' will be keyword-only.\n",
      "  lists_bestsellers.to_sql('lists_bestsellers',engine, 'LittMental', if_exists='replace', index=False)\n"
     ]
    },
    {
     "data": {
      "text/plain": [
       "20"
      ]
     },
     "execution_count": 9,
     "metadata": {},
     "output_type": "execute_result"
    }
   ],
   "source": [
    "lists_bestsellers=pd.read_csv('../data/database/lists_bestsellers.csv')\n",
    "lists_bestsellers.to_sql('lists_bestsellers',engine, 'LittMental', if_exists='replace', index=False)"
   ]
  },
  {
   "cell_type": "code",
   "execution_count": 6,
   "metadata": {},
   "outputs": [
    {
     "name": "stderr",
     "output_type": "stream",
     "text": [
      "C:\\Users\\54189\\AppData\\Local\\Temp\\ipykernel_17020\\3675633567.py:2: FutureWarning: Starting with pandas version 3.0 all arguments of to_sql except for the arguments 'name' and 'con' will be keyword-only.\n",
      "  reviews.to_sql('reviews',engine, 'LittMental', if_exists='replace', index=False)\n"
     ]
    },
    {
     "data": {
      "text/plain": [
       "1686"
      ]
     },
     "execution_count": 6,
     "metadata": {},
     "output_type": "execute_result"
    }
   ],
   "source": [
    "reviews=pd.read_csv('../data/database/reviews.csv')\n",
    "reviews.to_sql('reviews',engine, 'LittMental', if_exists='replace', index=False)"
   ]
  },
  {
   "cell_type": "markdown",
   "metadata": {},
   "source": [
    "# Load the clean table from MySQL"
   ]
  },
  {
   "cell_type": "code",
   "execution_count": 8,
   "metadata": {},
   "outputs": [],
   "source": [
    "db='littmental'\n",
    "connection_string = 'mysql+pymysql://root:' + pw + '@127.0.0.1:3306/'+db\n",
    "engine = create_engine(connection_string)"
   ]
  },
  {
   "cell_type": "code",
   "execution_count": 12,
   "metadata": {},
   "outputs": [],
   "source": [
    "with engine.connect() as connection:\n",
    "    query = text('SELECT * FROM clean_book_info')\n",
    "    result = connection.execute(query)\n",
    "    clean_book_info = pd.DataFrame(result.all())"
   ]
  },
  {
   "cell_type": "code",
   "execution_count": 13,
   "metadata": {},
   "outputs": [
    {
     "data": {
      "text/html": [
       "<div>\n",
       "<style scoped>\n",
       "    .dataframe tbody tr th:only-of-type {\n",
       "        vertical-align: middle;\n",
       "    }\n",
       "\n",
       "    .dataframe tbody tr th {\n",
       "        vertical-align: top;\n",
       "    }\n",
       "\n",
       "    .dataframe thead th {\n",
       "        text-align: right;\n",
       "    }\n",
       "</style>\n",
       "<table border=\"1\" class=\"dataframe\">\n",
       "  <thead>\n",
       "    <tr style=\"text-align: right;\">\n",
       "      <th></th>\n",
       "      <th>title_id</th>\n",
       "      <th>title</th>\n",
       "      <th>author</th>\n",
       "      <th>genre</th>\n",
       "      <th>publish_date</th>\n",
       "      <th>pages</th>\n",
       "      <th>format</th>\n",
       "      <th>rating</th>\n",
       "      <th>rating_couunts</th>\n",
       "      <th>reviews_counts</th>\n",
       "      <th>votes</th>\n",
       "      <th>year</th>\n",
       "      <th>description</th>\n",
       "      <th>award_id</th>\n",
       "      <th>main_genre</th>\n",
       "      <th>is_bestseller</th>\n",
       "      <th>award</th>\n",
       "    </tr>\n",
       "  </thead>\n",
       "  <tbody>\n",
       "    <tr>\n",
       "      <th>0</th>\n",
       "      <td>560</td>\n",
       "      <td>The Testaments</td>\n",
       "      <td>Margaret Atwood</td>\n",
       "      <td>Fiction, Dystopia, Science Fiction, Feminism, ...</td>\n",
       "      <td>2019-09-10</td>\n",
       "      <td>422.0</td>\n",
       "      <td>Hardcover</td>\n",
       "      <td>4.19</td>\n",
       "      <td>352440</td>\n",
       "      <td>31334</td>\n",
       "      <td>98291</td>\n",
       "      <td>2019</td>\n",
       "      <td>When the van door slammed on Offred's future a...</td>\n",
       "      <td>70</td>\n",
       "      <td>Fantasy/Sci-Fi/Horror</td>\n",
       "      <td>1</td>\n",
       "      <td>best-fiction-books-2019</td>\n",
       "    </tr>\n",
       "    <tr>\n",
       "      <th>1</th>\n",
       "      <td>267</td>\n",
       "      <td>Daisy Jones &amp; The Six</td>\n",
       "      <td>Taylor Jenkins Reid</td>\n",
       "      <td>Fiction, Historical Fiction, Audiobook, Contem...</td>\n",
       "      <td>2019-03-05</td>\n",
       "      <td>355.0</td>\n",
       "      <td>Hardcover</td>\n",
       "      <td>4.21</td>\n",
       "      <td>1490127</td>\n",
       "      <td>177136</td>\n",
       "      <td>82483</td>\n",
       "      <td>2019</td>\n",
       "      <td>Daisy is a girl coming of age in L.A. in the l...</td>\n",
       "      <td>72</td>\n",
       "      <td>Literature/Fiction</td>\n",
       "      <td>1</td>\n",
       "      <td>best-historical-fiction-books-2019</td>\n",
       "    </tr>\n",
       "    <tr>\n",
       "      <th>2</th>\n",
       "      <td>3091</td>\n",
       "      <td>Red, White &amp; Royal Blue</td>\n",
       "      <td>Casey McQuiston</td>\n",
       "      <td>Romance, LGBT, Contemporary, Fiction, Queer, Y...</td>\n",
       "      <td>2019-05-14</td>\n",
       "      <td>423.0</td>\n",
       "      <td>Paperback</td>\n",
       "      <td>4.09</td>\n",
       "      <td>990424</td>\n",
       "      <td>113784</td>\n",
       "      <td>76688</td>\n",
       "      <td>2019</td>\n",
       "      <td>First Son Alex Claremont-Diaz is the closest t...</td>\n",
       "      <td>74</td>\n",
       "      <td>Literature/Fiction</td>\n",
       "      <td>0</td>\n",
       "      <td>best-romance-books-2019</td>\n",
       "    </tr>\n",
       "    <tr>\n",
       "      <th>3</th>\n",
       "      <td>559</td>\n",
       "      <td>The Institute</td>\n",
       "      <td>Stephen King</td>\n",
       "      <td>Horror, Fiction, Thriller, Science Fiction, Fa...</td>\n",
       "      <td>2019-09-10</td>\n",
       "      <td>561.0</td>\n",
       "      <td>Hardcover</td>\n",
       "      <td>4.20</td>\n",
       "      <td>271364</td>\n",
       "      <td>26455</td>\n",
       "      <td>75717</td>\n",
       "      <td>2019</td>\n",
       "      <td>In the middle of the night, in a house on a qu...</td>\n",
       "      <td>76</td>\n",
       "      <td>Fantasy/Sci-Fi/Horror</td>\n",
       "      <td>1</td>\n",
       "      <td>best-horror-books-2019</td>\n",
       "    </tr>\n",
       "    <tr>\n",
       "      <th>4</th>\n",
       "      <td>203</td>\n",
       "      <td>The Silent Patient</td>\n",
       "      <td>Alex Michaelides</td>\n",
       "      <td>Thriller, Mystery, Fiction, Mystery Thriller, ...</td>\n",
       "      <td>2018-01-01</td>\n",
       "      <td>336.0</td>\n",
       "      <td>Hardcover</td>\n",
       "      <td>4.18</td>\n",
       "      <td>2175605</td>\n",
       "      <td>190773</td>\n",
       "      <td>68821</td>\n",
       "      <td>2019</td>\n",
       "      <td>Alicia Berenson’s life is seemingly perfect. A...</td>\n",
       "      <td>71</td>\n",
       "      <td>Literature/Fiction</td>\n",
       "      <td>1</td>\n",
       "      <td>best-mystery-thriller-books-2019</td>\n",
       "    </tr>\n",
       "  </tbody>\n",
       "</table>\n",
       "</div>"
      ],
      "text/plain": [
       "   title_id                    title               author  \\\n",
       "0       560           The Testaments      Margaret Atwood   \n",
       "1       267    Daisy Jones & The Six  Taylor Jenkins Reid   \n",
       "2      3091  Red, White & Royal Blue      Casey McQuiston   \n",
       "3       559            The Institute         Stephen King   \n",
       "4       203       The Silent Patient     Alex Michaelides   \n",
       "\n",
       "                                               genre publish_date  pages  \\\n",
       "0  Fiction, Dystopia, Science Fiction, Feminism, ...   2019-09-10  422.0   \n",
       "1  Fiction, Historical Fiction, Audiobook, Contem...   2019-03-05  355.0   \n",
       "2  Romance, LGBT, Contemporary, Fiction, Queer, Y...   2019-05-14  423.0   \n",
       "3  Horror, Fiction, Thriller, Science Fiction, Fa...   2019-09-10  561.0   \n",
       "4  Thriller, Mystery, Fiction, Mystery Thriller, ...   2018-01-01  336.0   \n",
       "\n",
       "      format  rating rating_couunts reviews_counts  votes  year  \\\n",
       "0  Hardcover    4.19         352440          31334  98291  2019   \n",
       "1  Hardcover    4.21        1490127         177136  82483  2019   \n",
       "2  Paperback    4.09         990424         113784  76688  2019   \n",
       "3  Hardcover    4.20         271364          26455  75717  2019   \n",
       "4  Hardcover    4.18        2175605         190773  68821  2019   \n",
       "\n",
       "                                         description  award_id  \\\n",
       "0  When the van door slammed on Offred's future a...        70   \n",
       "1  Daisy is a girl coming of age in L.A. in the l...        72   \n",
       "2  First Son Alex Claremont-Diaz is the closest t...        74   \n",
       "3  In the middle of the night, in a house on a qu...        76   \n",
       "4  Alicia Berenson’s life is seemingly perfect. A...        71   \n",
       "\n",
       "              main_genre  is_bestseller                               award  \n",
       "0  Fantasy/Sci-Fi/Horror              1             best-fiction-books-2019  \n",
       "1     Literature/Fiction              1  best-historical-fiction-books-2019  \n",
       "2     Literature/Fiction              0             best-romance-books-2019  \n",
       "3  Fantasy/Sci-Fi/Horror              1              best-horror-books-2019  \n",
       "4     Literature/Fiction              1    best-mystery-thriller-books-2019  "
      ]
     },
     "execution_count": 13,
     "metadata": {},
     "output_type": "execute_result"
    }
   ],
   "source": [
    "clean_book_info.head()"
   ]
  },
  {
   "cell_type": "code",
   "execution_count": 14,
   "metadata": {},
   "outputs": [],
   "source": [
    "clean_book_info=clean_book_info.drop(columns=['award_id','genre'])"
   ]
  },
  {
   "cell_type": "code",
   "execution_count": 15,
   "metadata": {},
   "outputs": [
    {
     "data": {
      "text/plain": [
       "title_id          0\n",
       "title             0\n",
       "author            0\n",
       "publish_date      0\n",
       "pages             2\n",
       "format            0\n",
       "rating            0\n",
       "rating_couunts    0\n",
       "reviews_counts    0\n",
       "votes             0\n",
       "year              0\n",
       "description       0\n",
       "main_genre        0\n",
       "is_bestseller     0\n",
       "award             0\n",
       "dtype: int64"
      ]
     },
     "execution_count": 15,
     "metadata": {},
     "output_type": "execute_result"
    }
   ],
   "source": [
    "clean_book_info.isna().sum()"
   ]
  },
  {
   "cell_type": "code",
   "execution_count": 16,
   "metadata": {},
   "outputs": [],
   "source": [
    "clean_book_info.fillna(value=0, inplace=True)"
   ]
  },
  {
   "cell_type": "code",
   "execution_count": 17,
   "metadata": {},
   "outputs": [],
   "source": [
    "clean_book_info.loc[clean_book_info['pages'] == \"Paperback\", 'pages'] = 0"
   ]
  },
  {
   "cell_type": "code",
   "execution_count": 18,
   "metadata": {},
   "outputs": [
    {
     "data": {
      "text/plain": [
       "title_id          0\n",
       "title             0\n",
       "author            0\n",
       "publish_date      0\n",
       "pages             0\n",
       "format            0\n",
       "rating            0\n",
       "rating_couunts    0\n",
       "reviews_counts    0\n",
       "votes             0\n",
       "year              0\n",
       "description       0\n",
       "main_genre        0\n",
       "is_bestseller     0\n",
       "award             0\n",
       "dtype: int64"
      ]
     },
     "execution_count": 18,
     "metadata": {},
     "output_type": "execute_result"
    }
   ],
   "source": [
    "clean_book_info.isna().sum()"
   ]
  },
  {
   "cell_type": "code",
   "execution_count": 19,
   "metadata": {},
   "outputs": [
    {
     "data": {
      "text/plain": [
       "is_bestseller\n",
       "0    1257\n",
       "1     429\n",
       "Name: count, dtype: int64"
      ]
     },
     "execution_count": 19,
     "metadata": {},
     "output_type": "execute_result"
    }
   ],
   "source": [
    "clean_book_info['is_bestseller'].value_counts()"
   ]
  },
  {
   "cell_type": "code",
   "execution_count": 20,
   "metadata": {},
   "outputs": [],
   "source": [
    "# export as csv file\n",
    "clean_book_info.to_csv('../data/clean_data/clean_book_info.csv', index=False)"
   ]
  },
  {
   "cell_type": "code",
   "execution_count": 21,
   "metadata": {},
   "outputs": [],
   "source": [
    "with engine.connect() as connection:\n",
    "    query = text('SELECT * FROM reviews')\n",
    "    result = connection.execute(query)\n",
    "    reviews = pd.DataFrame(result.all())"
   ]
  },
  {
   "cell_type": "code",
   "execution_count": 22,
   "metadata": {},
   "outputs": [
    {
     "data": {
      "text/html": [
       "<div>\n",
       "<style scoped>\n",
       "    .dataframe tbody tr th:only-of-type {\n",
       "        vertical-align: middle;\n",
       "    }\n",
       "\n",
       "    .dataframe tbody tr th {\n",
       "        vertical-align: top;\n",
       "    }\n",
       "\n",
       "    .dataframe thead th {\n",
       "        text-align: right;\n",
       "    }\n",
       "</style>\n",
       "<table border=\"1\" class=\"dataframe\">\n",
       "  <thead>\n",
       "    <tr style=\"text-align: right;\">\n",
       "      <th></th>\n",
       "      <th>title_id</th>\n",
       "      <th>title</th>\n",
       "      <th>review1</th>\n",
       "      <th>review2</th>\n",
       "      <th>review3</th>\n",
       "      <th>review4</th>\n",
       "      <th>review5</th>\n",
       "      <th>review6</th>\n",
       "      <th>review7</th>\n",
       "      <th>review8</th>\n",
       "      <th>review9</th>\n",
       "      <th>review10</th>\n",
       "    </tr>\n",
       "  </thead>\n",
       "  <tbody>\n",
       "    <tr>\n",
       "      <th>0</th>\n",
       "      <td>111</td>\n",
       "      <td>five feet apart</td>\n",
       "      <td>[3.5] There’s some disagreement within the CF ...</td>\n",
       "      <td>Edit: For the love of God I wrote this review ...</td>\n",
       "      <td>Can't say I'm surprised I didn't enjoy this bo...</td>\n",
       "      <td>Being subjected to mental and emotional pain c...</td>\n",
       "      <td>Two things before I start my review:1. I reall...</td>\n",
       "      <td>i went into this book hoping to get TFIOS vibe...</td>\n",
       "      <td>”Everyone in this world is breathing borrowed ...</td>\n",
       "      <td>Heartfelt, touching &amp; absorbing!FIVE FEET APAR...</td>\n",
       "      <td>3.5 starsI mostly picked this up because i kne...</td>\n",
       "      <td>ReadYeah no, I'm not doing this. Nope.I don't ...</td>\n",
       "    </tr>\n",
       "    <tr>\n",
       "      <th>1</th>\n",
       "      <td>113</td>\n",
       "      <td>of blood and bone</td>\n",
       "      <td>Want to readTo all the people rating this book...</td>\n",
       "      <td>Shelved as 'on-the-radar'I try not to make a h...</td>\n",
       "      <td>At last I found out what happened to Katie and...</td>\n",
       "      <td>UPDATE: $2.99 Kindle US 8/24/19I love the frea...</td>\n",
       "      <td>November 2019:I still absolutely adore this. A...</td>\n",
       "      <td>This series has a continuous story arc and the...</td>\n",
       "      <td>4.5 starsThis book was AMAZING!!! Even better ...</td>\n",
       "      <td>Amazing-sauce. Picking up in the years after “...</td>\n",
       "      <td>Of Blood and Bone is ridiculous. It is a disap...</td>\n",
       "      <td>Dreading, and knowing what she knew would happ...</td>\n",
       "    </tr>\n",
       "    <tr>\n",
       "      <th>2</th>\n",
       "      <td>143</td>\n",
       "      <td>an anonymous girl</td>\n",
       "      <td>Twisted. Intense. Deviously fun. Why was it th...</td>\n",
       "      <td>You ever reading a book and thinking, “why was...</td>\n",
       "      <td>My reviews can also be seen at:https://deesrad...</td>\n",
       "      <td>An Anonymous Girlwas the first book I complete...</td>\n",
       "      <td>You're Invited: Seeking women aged 18-32 to pa...</td>\n",
       "      <td>FIVE STARSI don’t know their secret, but whate...</td>\n",
       "      <td>I really enjoyed this book! Deceptive, creepy,...</td>\n",
       "      <td>Meh378 likesLikeComment</td>\n",
       "      <td>\"Seeking women ages 18–32 to participate in a ...</td>\n",
       "      <td>Loved it! Devoured it!Devious to the max!I dev...</td>\n",
       "    </tr>\n",
       "  </tbody>\n",
       "</table>\n",
       "</div>"
      ],
      "text/plain": [
       "   title_id              title  \\\n",
       "0       111    five feet apart   \n",
       "1       113  of blood and bone   \n",
       "2       143  an anonymous girl   \n",
       "\n",
       "                                             review1  \\\n",
       "0  [3.5] There’s some disagreement within the CF ...   \n",
       "1  Want to readTo all the people rating this book...   \n",
       "2  Twisted. Intense. Deviously fun. Why was it th...   \n",
       "\n",
       "                                             review2  \\\n",
       "0  Edit: For the love of God I wrote this review ...   \n",
       "1  Shelved as 'on-the-radar'I try not to make a h...   \n",
       "2  You ever reading a book and thinking, “why was...   \n",
       "\n",
       "                                             review3  \\\n",
       "0  Can't say I'm surprised I didn't enjoy this bo...   \n",
       "1  At last I found out what happened to Katie and...   \n",
       "2  My reviews can also be seen at:https://deesrad...   \n",
       "\n",
       "                                             review4  \\\n",
       "0  Being subjected to mental and emotional pain c...   \n",
       "1  UPDATE: $2.99 Kindle US 8/24/19I love the frea...   \n",
       "2  An Anonymous Girlwas the first book I complete...   \n",
       "\n",
       "                                             review5  \\\n",
       "0  Two things before I start my review:1. I reall...   \n",
       "1  November 2019:I still absolutely adore this. A...   \n",
       "2  You're Invited: Seeking women aged 18-32 to pa...   \n",
       "\n",
       "                                             review6  \\\n",
       "0  i went into this book hoping to get TFIOS vibe...   \n",
       "1  This series has a continuous story arc and the...   \n",
       "2  FIVE STARSI don’t know their secret, but whate...   \n",
       "\n",
       "                                             review7  \\\n",
       "0  ”Everyone in this world is breathing borrowed ...   \n",
       "1  4.5 starsThis book was AMAZING!!! Even better ...   \n",
       "2  I really enjoyed this book! Deceptive, creepy,...   \n",
       "\n",
       "                                             review8  \\\n",
       "0  Heartfelt, touching & absorbing!FIVE FEET APAR...   \n",
       "1  Amazing-sauce. Picking up in the years after “...   \n",
       "2                            Meh378 likesLikeComment   \n",
       "\n",
       "                                             review9  \\\n",
       "0  3.5 starsI mostly picked this up because i kne...   \n",
       "1  Of Blood and Bone is ridiculous. It is a disap...   \n",
       "2  \"Seeking women ages 18–32 to participate in a ...   \n",
       "\n",
       "                                            review10  \n",
       "0  ReadYeah no, I'm not doing this. Nope.I don't ...  \n",
       "1  Dreading, and knowing what she knew would happ...  \n",
       "2  Loved it! Devoured it!Devious to the max!I dev...  "
      ]
     },
     "execution_count": 22,
     "metadata": {},
     "output_type": "execute_result"
    }
   ],
   "source": [
    "reviews.head(3)"
   ]
  },
  {
   "cell_type": "code",
   "execution_count": 23,
   "metadata": {},
   "outputs": [
    {
     "name": "stderr",
     "output_type": "stream",
     "text": [
      "<>:4: SyntaxWarning: invalid escape sequence '\\d'\n",
      "<>:4: SyntaxWarning: invalid escape sequence '\\d'\n",
      "C:\\Users\\54189\\AppData\\Local\\Temp\\ipykernel_22396\\138745239.py:4: SyntaxWarning: invalid escape sequence '\\d'\n",
      "  reviews_df['review_number'] = reviews_df['review_number'].str.extract('(\\d+)').astype(int)\n"
     ]
    },
    {
     "data": {
      "text/html": [
       "<div>\n",
       "<style scoped>\n",
       "    .dataframe tbody tr th:only-of-type {\n",
       "        vertical-align: middle;\n",
       "    }\n",
       "\n",
       "    .dataframe tbody tr th {\n",
       "        vertical-align: top;\n",
       "    }\n",
       "\n",
       "    .dataframe thead th {\n",
       "        text-align: right;\n",
       "    }\n",
       "</style>\n",
       "<table border=\"1\" class=\"dataframe\">\n",
       "  <thead>\n",
       "    <tr style=\"text-align: right;\">\n",
       "      <th></th>\n",
       "      <th>title_id</th>\n",
       "      <th>title</th>\n",
       "      <th>review_number</th>\n",
       "      <th>review</th>\n",
       "    </tr>\n",
       "  </thead>\n",
       "  <tbody>\n",
       "    <tr>\n",
       "      <th>0</th>\n",
       "      <td>111</td>\n",
       "      <td>five feet apart</td>\n",
       "      <td>1</td>\n",
       "      <td>[3.5] There’s some disagreement within the CF ...</td>\n",
       "    </tr>\n",
       "    <tr>\n",
       "      <th>1</th>\n",
       "      <td>111</td>\n",
       "      <td>five feet apart</td>\n",
       "      <td>2</td>\n",
       "      <td>Edit: For the love of God I wrote this review ...</td>\n",
       "    </tr>\n",
       "    <tr>\n",
       "      <th>2</th>\n",
       "      <td>111</td>\n",
       "      <td>five feet apart</td>\n",
       "      <td>3</td>\n",
       "      <td>Can't say I'm surprised I didn't enjoy this bo...</td>\n",
       "    </tr>\n",
       "    <tr>\n",
       "      <th>3</th>\n",
       "      <td>111</td>\n",
       "      <td>five feet apart</td>\n",
       "      <td>4</td>\n",
       "      <td>Being subjected to mental and emotional pain c...</td>\n",
       "    </tr>\n",
       "    <tr>\n",
       "      <th>4</th>\n",
       "      <td>111</td>\n",
       "      <td>five feet apart</td>\n",
       "      <td>5</td>\n",
       "      <td>Two things before I start my review:1. I reall...</td>\n",
       "    </tr>\n",
       "    <tr>\n",
       "      <th>...</th>\n",
       "      <td>...</td>\n",
       "      <td>...</td>\n",
       "      <td>...</td>\n",
       "      <td>...</td>\n",
       "    </tr>\n",
       "    <tr>\n",
       "      <th>16855</th>\n",
       "      <td>4697</td>\n",
       "      <td>not funny: essays on life, comedy, culture, et...</td>\n",
       "      <td>6</td>\n",
       "      <td>DNF / abandoned p 76. Average comedian memoir-...</td>\n",
       "    </tr>\n",
       "    <tr>\n",
       "      <th>16856</th>\n",
       "      <td>4697</td>\n",
       "      <td>not funny: essays on life, comedy, culture, et...</td>\n",
       "      <td>7</td>\n",
       "      <td>If you pick up Academy Award nominee Jena Frie...</td>\n",
       "    </tr>\n",
       "    <tr>\n",
       "      <th>16857</th>\n",
       "      <td>4697</td>\n",
       "      <td>not funny: essays on life, comedy, culture, et...</td>\n",
       "      <td>8</td>\n",
       "      <td>Sharon L5 reviewsIf she was trying to be funny...</td>\n",
       "    </tr>\n",
       "    <tr>\n",
       "      <th>16858</th>\n",
       "      <td>4697</td>\n",
       "      <td>not funny: essays on life, comedy, culture, et...</td>\n",
       "      <td>9</td>\n",
       "      <td>Laura Hobbs18 reviewsNot funny. While I starte...</td>\n",
       "    </tr>\n",
       "    <tr>\n",
       "      <th>16859</th>\n",
       "      <td>4697</td>\n",
       "      <td>not funny: essays on life, comedy, culture, et...</td>\n",
       "      <td>10</td>\n",
       "      <td>She’s right. This book is not funny. DNF2 like...</td>\n",
       "    </tr>\n",
       "  </tbody>\n",
       "</table>\n",
       "<p>16860 rows × 4 columns</p>\n",
       "</div>"
      ],
      "text/plain": [
       "       title_id                                              title  \\\n",
       "0           111                                    five feet apart   \n",
       "1           111                                    five feet apart   \n",
       "2           111                                    five feet apart   \n",
       "3           111                                    five feet apart   \n",
       "4           111                                    five feet apart   \n",
       "...         ...                                                ...   \n",
       "16855      4697  not funny: essays on life, comedy, culture, et...   \n",
       "16856      4697  not funny: essays on life, comedy, culture, et...   \n",
       "16857      4697  not funny: essays on life, comedy, culture, et...   \n",
       "16858      4697  not funny: essays on life, comedy, culture, et...   \n",
       "16859      4697  not funny: essays on life, comedy, culture, et...   \n",
       "\n",
       "       review_number                                             review  \n",
       "0                  1  [3.5] There’s some disagreement within the CF ...  \n",
       "1                  2  Edit: For the love of God I wrote this review ...  \n",
       "2                  3  Can't say I'm surprised I didn't enjoy this bo...  \n",
       "3                  4  Being subjected to mental and emotional pain c...  \n",
       "4                  5  Two things before I start my review:1. I reall...  \n",
       "...              ...                                                ...  \n",
       "16855              6  DNF / abandoned p 76. Average comedian memoir-...  \n",
       "16856              7  If you pick up Academy Award nominee Jena Frie...  \n",
       "16857              8  Sharon L5 reviewsIf she was trying to be funny...  \n",
       "16858              9  Laura Hobbs18 reviewsNot funny. While I starte...  \n",
       "16859             10  She’s right. This book is not funny. DNF2 like...  \n",
       "\n",
       "[16860 rows x 4 columns]"
      ]
     },
     "execution_count": 23,
     "metadata": {},
     "output_type": "execute_result"
    }
   ],
   "source": [
    "reviews_df = reviews.melt(id_vars=[\"title_id\", \"title\"], value_vars=[f\"review{i}\" for i in range(1, 11)], \n",
    "                var_name=\"review_number\", value_name=\"review\")\n",
    "\n",
    "reviews_df['review_number'] = reviews_df['review_number'].str.extract('(\\d+)').astype(int)\n",
    "\n",
    "sorted_df = reviews_df.sort_values(by=['title_id', 'review_number']).reset_index(drop=True)\n",
    "sorted_df"
   ]
  },
  {
   "cell_type": "code",
   "execution_count": 24,
   "metadata": {},
   "outputs": [],
   "source": [
    "# export as csv file\n",
    "sorted_df.to_csv('../data/clean_data/clean_reviews.csv', index=False)"
   ]
  }
 ],
 "metadata": {
  "kernelspec": {
   "display_name": "Python 3",
   "language": "python",
   "name": "python3"
  },
  "language_info": {
   "codemirror_mode": {
    "name": "ipython",
    "version": 3
   },
   "file_extension": ".py",
   "mimetype": "text/x-python",
   "name": "python",
   "nbconvert_exporter": "python",
   "pygments_lexer": "ipython3",
   "version": "3.12.0"
  }
 },
 "nbformat": 4,
 "nbformat_minor": 2
}
