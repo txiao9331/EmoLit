{
 "cells": [
  {
   "cell_type": "code",
   "execution_count": 13,
   "metadata": {},
   "outputs": [],
   "source": [
    "from bs4 import BeautifulSoup as bs\n",
    "import requests\n",
    "import urllib.request\n",
    "import json\n",
    "\n",
    "import os\n",
    "import sys\n",
    "\n",
    "sys.path.append(os.path.abspath('../'))\n",
    "import lib.goodreads_functions as gr"
   ]
  },
  {
   "cell_type": "code",
   "execution_count": 14,
   "metadata": {},
   "outputs": [
    {
     "data": {
      "text/plain": [
       "<module 'lib.goodreads_functions' from 'c:\\\\Users\\\\54189\\\\ironhack_262\\\\final project\\\\LitMental\\\\lib\\\\goodreads_functions.py'>"
      ]
     },
     "execution_count": 14,
     "metadata": {},
     "output_type": "execute_result"
    }
   ],
   "source": [
    "import importlib\n",
    "importlib.reload(gr)"
   ]
  },
  {
   "cell_type": "markdown",
   "metadata": {},
   "source": [
    "# get books urls"
   ]
  },
  {
   "cell_type": "code",
   "execution_count": 15,
   "metadata": {},
   "outputs": [],
   "source": [
    "url23='https://www.goodreads.com/choiceawards/best-books-2023'\n",
    "url22='https://www.goodreads.com/choiceawards/best-books-2022'\n",
    "url21='https://www.goodreads.com/choiceawards/best-books-2021'\n",
    "url20='https://www.goodreads.com/choiceawards/best-books-2020'\n",
    "url19='https://www.goodreads.com/choiceawards/best-books-2019'"
   ]
  },
  {
   "cell_type": "code",
   "execution_count": 16,
   "metadata": {},
   "outputs": [],
   "source": [
    "urls2023 = gr.get_award_urls(url23)\n",
    "urls2022 = gr.get_award_urls(url22)\n",
    "urls2021 = gr.get_award_urls(url21)\n",
    "urls2020 = gr.get_award_urls(url20)\n",
    "urls2019 = gr.get_award_urls(url19)"
   ]
  },
  {
   "cell_type": "code",
   "execution_count": 17,
   "metadata": {},
   "outputs": [],
   "source": [
    "book_urls_2023 = gr.get_book_urls_for_list(urls2023)\n",
    "book_urls_2022 = gr.get_book_urls_for_list(urls2022)\n",
    "book_urls_2021 = gr.get_book_urls_for_list(urls2021)\n",
    "book_urls_2020 = gr.get_book_urls_for_list(urls2020)\n",
    "book_urls_2019 = gr.get_book_urls_for_list(urls2019)"
   ]
  },
  {
   "cell_type": "markdown",
   "metadata": {},
   "source": [
    "# gather the first 10 reviews"
   ]
  },
  {
   "cell_type": "code",
   "execution_count": 18,
   "metadata": {},
   "outputs": [],
   "source": [
    "def get_reviews(urls):\n",
    "\n",
    "    all_reviews = {}\n",
    "\n",
    "    for book_index, url in enumerate(urls, start=1):\n",
    "        response = requests.get(url)\n",
    "        html_content = response.text\n",
    "        soup = bs(html_content, 'html.parser')\n",
    "        \n",
    "        # Find all articles with the class \"ReviewCard\"\n",
    "        reviews = soup.find_all('article', class_=\"ReviewCard\")\n",
    "\n",
    "        # Initialize an empty dictionary to store the review texts for the current book\n",
    "        review_dict = {}\n",
    "\n",
    "        # Loop through the first 10 reviews and store their text content in the dictionary with keys 1-10\n",
    "        for index, review in enumerate(reviews[:10], start=1):\n",
    "            review_text = review.get_text(strip=True)\n",
    "            review_dict[index] = review_text\n",
    "        \n",
    "        # Store the review texts for the current book in the all_reviews dictionary\n",
    "        all_reviews[f'Book_{book_index}'] = review_dict\n",
    "    \n",
    "    return all_reviews\n"
   ]
  },
  {
   "cell_type": "code",
   "execution_count": 20,
   "metadata": {},
   "outputs": [],
   "source": [
    "urls = [\n",
    "    'https://www.goodreads.com/book/show/63241104-tom-lake?from_choice=true',\n",
    "    'https://www.goodreads.com/book/show/62919793-the-invisible-hour?from_choice=true',\n",
    "    'https://www.goodreads.com/book/show/60784605-maame?from_choice=true'\n",
    "]"
   ]
  },
  {
   "cell_type": "code",
   "execution_count": 23,
   "metadata": {},
   "outputs": [],
   "source": [
    "reviews_2023 = get_reviews(book_urls_2023)"
   ]
  },
  {
   "cell_type": "code",
   "execution_count": 24,
   "metadata": {},
   "outputs": [
    {
     "name": "stdout",
     "output_type": "stream",
     "text": [
      "The reviews for all books have been saved to 'reviews_2023.json'.\n"
     ]
    }
   ],
   "source": [
    "# Save all the reviews to a JSON file\n",
    "with open('../data/raw_data/reviews_2023.json', 'w', encoding='utf-8') as f:\n",
    "    json.dump(reviews_2023, f, ensure_ascii=False, indent=4)\n",
    "\n",
    "print(\"The reviews for all books have been saved to 'reviews_2023.json'.\")"
   ]
  },
  {
   "cell_type": "code",
   "execution_count": 25,
   "metadata": {},
   "outputs": [],
   "source": [
    "reviews_2022 = get_reviews(book_urls_2022)"
   ]
  },
  {
   "cell_type": "code",
   "execution_count": 26,
   "metadata": {},
   "outputs": [
    {
     "name": "stdout",
     "output_type": "stream",
     "text": [
      "The reviews for all books have been saved to 'reviews_2022.json'.\n"
     ]
    }
   ],
   "source": [
    "with open('../data/raw_data/reviews_2022.json', 'w', encoding='utf-8') as f:\n",
    "    json.dump(reviews_2022, f, ensure_ascii=False, indent=4)\n",
    "\n",
    "print(\"The reviews for all books have been saved to 'reviews_2022.json'.\")"
   ]
  },
  {
   "cell_type": "code",
   "execution_count": 27,
   "metadata": {},
   "outputs": [],
   "source": [
    "reviews_2021 = get_reviews(book_urls_2021)"
   ]
  },
  {
   "cell_type": "code",
   "execution_count": 28,
   "metadata": {},
   "outputs": [
    {
     "name": "stdout",
     "output_type": "stream",
     "text": [
      "The reviews for all books have been saved to 'reviews_2021.json'.\n"
     ]
    }
   ],
   "source": [
    "with open('../data/raw_data/reviews_2021.json', 'w', encoding='utf-8') as f:\n",
    "    json.dump(reviews_2021, f, ensure_ascii=False, indent=4)\n",
    "\n",
    "print(\"The reviews for all books have been saved to 'reviews_2021.json'.\")"
   ]
  },
  {
   "cell_type": "code",
   "execution_count": 29,
   "metadata": {},
   "outputs": [],
   "source": [
    "reviews_2020 = get_reviews(book_urls_2020)"
   ]
  },
  {
   "cell_type": "code",
   "execution_count": 30,
   "metadata": {},
   "outputs": [
    {
     "name": "stdout",
     "output_type": "stream",
     "text": [
      "The reviews for all books have been saved to 'reviews_2020.json'.\n"
     ]
    }
   ],
   "source": [
    "with open('../data/raw_data/reviews_2020.json', 'w', encoding='utf-8') as f:\n",
    "    json.dump(reviews_2020, f, ensure_ascii=False, indent=4)\n",
    "\n",
    "print(\"The reviews for all books have been saved to 'reviews_2020.json'.\")"
   ]
  },
  {
   "cell_type": "code",
   "execution_count": 33,
   "metadata": {},
   "outputs": [],
   "source": [
    "reviews_2019 = get_reviews(book_urls_2019)"
   ]
  },
  {
   "cell_type": "code",
   "execution_count": 34,
   "metadata": {},
   "outputs": [
    {
     "name": "stdout",
     "output_type": "stream",
     "text": [
      "The reviews for all books have been saved to 'reviews_2019.json'.\n"
     ]
    }
   ],
   "source": [
    "with open('../data/raw_data/reviews_2019.json', 'w', encoding='utf-8') as f:\n",
    "    json.dump(reviews_2019, f, ensure_ascii=False, indent=4)\n",
    "\n",
    "print(\"The reviews for all books have been saved to 'reviews_2019.json'.\")"
   ]
  },
  {
   "cell_type": "code",
   "execution_count": null,
   "metadata": {},
   "outputs": [],
   "source": []
  }
 ],
 "metadata": {
  "kernelspec": {
   "display_name": "Python 3",
   "language": "python",
   "name": "python3"
  },
  "language_info": {
   "codemirror_mode": {
    "name": "ipython",
    "version": 3
   },
   "file_extension": ".py",
   "mimetype": "text/x-python",
   "name": "python",
   "nbconvert_exporter": "python",
   "pygments_lexer": "ipython3",
   "version": "3.12.0"
  }
 },
 "nbformat": 4,
 "nbformat_minor": 2
}
