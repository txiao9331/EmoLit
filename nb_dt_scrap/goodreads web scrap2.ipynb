{
 "cells": [
  {
   "cell_type": "code",
   "execution_count": 1,
   "metadata": {},
   "outputs": [],
   "source": [
    "from bs4 import BeautifulSoup as bs\n",
    "import requests\n",
    "import urllib.request\n",
    "import json\n",
    "\n",
    "import os\n",
    "import sys\n",
    "\n",
    "sys.path.append(os.path.abspath('../'))\n",
    "import lib.goodreads_functions as gr"
   ]
  },
  {
   "cell_type": "code",
   "execution_count": 2,
   "metadata": {},
   "outputs": [
    {
     "data": {
      "text/plain": [
       "<module 'lib.goodreads_functions' from 'c:\\\\Users\\\\54189\\\\ironhack_262\\\\final project\\\\LitMental\\\\lib\\\\goodreads_functions.py'>"
      ]
     },
     "execution_count": 2,
     "metadata": {},
     "output_type": "execute_result"
    }
   ],
   "source": [
    "import importlib\n",
    "importlib.reload(gr)"
   ]
  },
  {
   "cell_type": "markdown",
   "metadata": {},
   "source": [
    "# Extract the name of award and the number of books for each award"
   ]
  },
  {
   "cell_type": "code",
   "execution_count": 46,
   "metadata": {},
   "outputs": [],
   "source": [
    "url23='https://www.goodreads.com/choiceawards/best-books-2023'\n",
    "url22='https://www.goodreads.com/choiceawards/best-books-2022'\n",
    "url21='https://www.goodreads.com/choiceawards/best-books-2021'\n",
    "url20='https://www.goodreads.com/choiceawards/best-books-2020'\n",
    "url19='https://www.goodreads.com/choiceawards/best-books-2019'"
   ]
  },
  {
   "cell_type": "code",
   "execution_count": 47,
   "metadata": {},
   "outputs": [],
   "source": [
    "urls2023 = gr.get_award_urls(url23)\n",
    "urls2022 = gr.get_award_urls(url22)\n",
    "urls2021 = gr.get_award_urls(url21)\n",
    "urls2020 = gr.get_award_urls(url20)\n",
    "urls2019 = gr.get_award_urls(url19)"
   ]
  },
  {
   "cell_type": "code",
   "execution_count": 50,
   "metadata": {},
   "outputs": [],
   "source": [
    "# group the lists into a dictionary with years as keys:\n",
    "url_lists = {\n",
    "    '2023': urls2023,\n",
    "    '2022': urls2022,\n",
    "    '2021': urls2021,\n",
    "    '2020': urls2020,\n",
    "    '2019': urls2019,\n",
    "}"
   ]
  },
  {
   "cell_type": "code",
   "execution_count": 44,
   "metadata": {},
   "outputs": [],
   "source": [
    "def get_book_urls_count(url):\n",
    "    urls = []\n",
    "\n",
    "    try:\n",
    "        open_url = urllib.request.urlopen(url)\n",
    "        soup = bs(open_url, 'html.parser')\n",
    "        book_links = soup.find_all('a', class_='pollAnswer__bookLink')\n",
    "\n",
    "        # Extract URLs from book links\n",
    "        for link in book_links:\n",
    "            urls.append('https://goodreads.com' + link['href'])\n",
    "\n",
    "    except urllib.error.HTTPError as e:\n",
    "        print(f\"HTTP Error: {e}\")\n",
    "    except Exception as e:\n",
    "        print(f\"An error occurred: {e}\")\n",
    "\n",
    "    return len(urls)"
   ]
  },
  {
   "cell_type": "code",
   "execution_count": 51,
   "metadata": {},
   "outputs": [],
   "source": [
    "# Dictionary to store the results\n",
    "awards_with_counts = {}\n",
    "\n",
    "for year, urls in url_lists.items():\n",
    "    awards_with_counts[year] = {}\n",
    "    for url in urls:\n",
    "        # Extract the award name from the URL\n",
    "        award_name = url.split('/')[-1].replace('https://goodreads.com/choiceawards/', '')\n",
    "        \n",
    "        # Call the function to get the count of book links\n",
    "        link_count = get_book_urls_count(url)\n",
    "        \n",
    "        # Add the result to the dictionary under the corresponding year\n",
    "        awards_with_counts[year][award_name] = link_count\n"
   ]
  },
  {
   "cell_type": "code",
   "execution_count": 52,
   "metadata": {},
   "outputs": [
    {
     "data": {
      "text/plain": [
       "{'2023': {'best-fiction-books-2023': 20,\n",
       "  'best-historical-fiction-books-2023': 20,\n",
       "  'best-mystery-thriller-books-2023': 20,\n",
       "  'best-romance-books-2023': 20,\n",
       "  'best-romantasy-books-2023': 20,\n",
       "  'best-fantasy-books-2023': 20,\n",
       "  'best-science-fiction-books-2023': 20,\n",
       "  'best-horror-books-2023': 20,\n",
       "  'best-young-adult-fantasy-books-2023': 20,\n",
       "  'best-young-adult-fiction-books-2023': 20,\n",
       "  'best-debut-novel-2023': 19,\n",
       "  'best-nonfiction-books-2023': 20,\n",
       "  'best-memoir-autobiography-books-2023': 20,\n",
       "  'best-history-biography-books-2023': 20,\n",
       "  'best-humor-books-2023': 20},\n",
       " '2022': {'best-fiction-books-2022': 20,\n",
       "  'best-mystery-thriller-books-2022': 20,\n",
       "  'best-historical-fiction-books-2022': 20,\n",
       "  'best-fantasy-books-2022': 20,\n",
       "  'best-romance-books-2022': 20,\n",
       "  'best-science-fiction-books-2022': 20,\n",
       "  'best-horror-books-2022': 20,\n",
       "  'best-humor-books-2022': 20,\n",
       "  'best-nonfiction-books-2022': 20,\n",
       "  'best-memoir-autobiography-books-2022': 20,\n",
       "  'best-history-biography-books-2022': 20,\n",
       "  'best-graphic-novels-comics-2022': 20,\n",
       "  'best-poetry-books-2022': 20,\n",
       "  'best-debut-novel-2022': 20,\n",
       "  'best-young-adult-fiction-books-2022': 20,\n",
       "  'best-young-adult-fantasy-books-2022': 20,\n",
       "  'best-childrens-books-2022': 20},\n",
       " '2021': {'best-fiction-books-2021': 20,\n",
       "  'best-mystery-thriller-books-2021': 20,\n",
       "  'best-historical-fiction-books-2021': 20,\n",
       "  'best-fantasy-books-2021': 20,\n",
       "  'best-romance-books-2021': 20,\n",
       "  'best-science-fiction-books-2021': 20,\n",
       "  'best-horror-books-2021': 20,\n",
       "  'best-humor-books-2021': 20,\n",
       "  'best-nonfiction-books-2021': 20,\n",
       "  'best-memoir-autobiography-books-2021': 20,\n",
       "  'best-history-biography-books-2021': 20,\n",
       "  'best-graphic-novels-comics-2021': 20,\n",
       "  'best-poetry-books-2021': 20,\n",
       "  'best-debut-novel-2021': 20,\n",
       "  'best-young-adult-fiction-books-2021': 20,\n",
       "  'best-young-adult-fantasy-books-2021': 20,\n",
       "  'best-childrens-books-2021': 20},\n",
       " '2020': {'best-fiction-books-2020': 20,\n",
       "  'best-mystery-thriller-books-2020': 20,\n",
       "  'best-historical-fiction-books-2020': 20,\n",
       "  'best-fantasy-books-2020': 20,\n",
       "  'best-romance-books-2020': 20,\n",
       "  'best-science-fiction-books-2020': 20,\n",
       "  'best-horror-books-2020': 20,\n",
       "  'best-humor-books-2020': 20,\n",
       "  'best-nonfiction-books-2020': 20,\n",
       "  'best-memoir-autobiography-books-2020': 20,\n",
       "  'best-history-biography-books-2020': 20,\n",
       "  'best-science-technology-books-2020': 20,\n",
       "  'best-food-cookbooks-2020': 20,\n",
       "  'best-graphic-novels-comics-2020': 20,\n",
       "  'best-poetry-books-2020': 20,\n",
       "  'best-debut-novel-2020': 20,\n",
       "  'best-young-adult-fiction-books-2020': 20,\n",
       "  'best-young-adult-fantasy-books-2020': 19,\n",
       "  'best-childrens-books-2020': 20,\n",
       "  'best-picture-books-2020': 20},\n",
       " '2019': {'best-fiction-books-2019': 20,\n",
       "  'best-mystery-thriller-books-2019': 20,\n",
       "  'best-historical-fiction-books-2019': 20,\n",
       "  'best-fantasy-books-2019': 20,\n",
       "  'best-romance-books-2019': 20,\n",
       "  'best-science-fiction-books-2019': 20,\n",
       "  'best-horror-books-2019': 20,\n",
       "  'best-humor-books-2019': 20,\n",
       "  'best-nonfiction-books-2019': 20,\n",
       "  'best-memoir-autobiography-books-2019': 20,\n",
       "  'best-history-biography-books-2019': 20,\n",
       "  'best-science-technology-books-2019': 20,\n",
       "  'best-food-cookbooks-2019': 20,\n",
       "  'best-graphic-novels-comics-2019': 20,\n",
       "  'best-poetry-books-2019': 20,\n",
       "  'best-debut-novel-2019': 20,\n",
       "  'best-young-adult-fiction-books-2019': 20,\n",
       "  'best-young-adult-fantasy-books-2019': 20,\n",
       "  'best-childrens-books-2019': 20,\n",
       "  'best-picture-books-2019': 20}}"
      ]
     },
     "execution_count": 52,
     "metadata": {},
     "output_type": "execute_result"
    }
   ],
   "source": [
    "awards_with_counts"
   ]
  },
  {
   "cell_type": "code",
   "execution_count": 53,
   "metadata": {},
   "outputs": [
    {
     "name": "stdout",
     "output_type": "stream",
     "text": [
      "The reviews for all books have been saved to 'award_category.json'.\n"
     ]
    }
   ],
   "source": [
    "with open('../data/raw_data/award_category.json', 'w', encoding='utf-8') as f:\n",
    "    json.dump(awards_with_counts, f, ensure_ascii=False, indent=4)\n",
    "\n",
    "print(\"The reviews for all books have been saved to 'award_category.json'.\")"
   ]
  }
 ],
 "metadata": {
  "kernelspec": {
   "display_name": "Python 3",
   "language": "python",
   "name": "python3"
  },
  "language_info": {
   "codemirror_mode": {
    "name": "ipython",
    "version": 3
   },
   "file_extension": ".py",
   "mimetype": "text/x-python",
   "name": "python",
   "nbconvert_exporter": "python",
   "pygments_lexer": "ipython3",
   "version": "3.12.0"
  }
 },
 "nbformat": 4,
 "nbformat_minor": 2
}
